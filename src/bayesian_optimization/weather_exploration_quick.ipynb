{
 "cells": [
  {
   "cell_type": "code",
   "execution_count": 1,
   "id": "474417f9",
   "metadata": {},
   "outputs": [],
   "source": [
    "# %matplotlib widget"
   ]
  },
  {
   "cell_type": "code",
   "execution_count": 2,
   "id": "5c2c946c",
   "metadata": {},
   "outputs": [],
   "source": [
    "# modified from test.ipynb and main.py\n",
    "\n",
    "from matplotlib import pyplot as plt\n",
    "from matplotlib import cm\n",
    "import numpy as np\n",
    "import GPy\n",
    "\n",
    "import warnings\n",
    "warnings.filterwarnings('ignore')\n",
    "\n",
    "import logging\n",
    "logging.basicConfig(level=logging.INFO)\n",
    "\n",
    "from emukit.model_wrappers import GPyModelWrapper\n",
    "from emukit.model_wrappers.gpy_quadrature_wrappers import BaseGaussianProcessGPy, RBFGPy\n",
    "\n",
    "from emukit.core import ParameterSpace, ContinuousParameter, DiscreteParameter\n",
    "from emukit.core.loop import UserFunctionWrapper\n",
    "\n",
    "from emukit.core import ParameterSpace, ContinuousParameter\n",
    "from emukit.core.initial_designs import RandomDesign\n",
    "\n",
    "from GPy.models import GPRegression\n",
    "\n",
    "from skopt.benchmarks import branin as _branin\n",
    "from emukit.test_functions import branin_function\n",
    "\n",
    "from scse.api.simulation import run_simulation\n",
    "\n",
    "from matplotlib.colors import LogNorm\n",
    "from matplotlib import pyplot as plt\n",
    "\n",
    "# Decision loops \n",
    "from emukit.experimental_design import ExperimentalDesignLoop\n",
    "from emukit.bayesian_optimization.loops import BayesianOptimizationLoop\n",
    "from emukit.quadrature.loop import VanillaBayesianQuadratureLoop\n",
    "\n",
    "# Acquisition functions \n",
    "from emukit.bayesian_optimization.acquisitions import ExpectedImprovement\n",
    "from emukit.experimental_design.acquisitions import ModelVariance\n",
    "# from emukit.quadrature.acquisitions import IntegralVarianceReduction\n",
    "from emukit.experimental_design.acquisitions import IntegratedVarianceReduction\n",
    "\n",
    "# Acquistion optimizers\n",
    "from emukit.core.optimization import GradientAcquisitionOptimizer\n",
    "\n",
    "# Stopping conditions\n",
    "from emukit.core.loop import FixedIterationsStoppingCondition\n",
    "from emukit.core.loop import ConvergenceStoppingCondition\n",
    "\n",
    "from emukit.bayesian_optimization.acquisitions.log_acquisition import LogAcquisition"
   ]
  },
  {
   "cell_type": "code",
   "execution_count": 3,
   "id": "7aa21bae",
   "metadata": {},
   "outputs": [],
   "source": [
    "# Libraries for multiprocessing\n",
    "from multiprocess.pool import Pool\n",
    "from tqdm import tqdm"
   ]
  },
  {
   "cell_type": "code",
   "execution_count": 4,
   "id": "df8fa65a",
   "metadata": {},
   "outputs": [],
   "source": [
    "from loop import *"
   ]
  },
  {
   "cell_type": "markdown",
   "id": "fc390238",
   "metadata": {},
   "source": [
    "## miniSCOT Functions"
   ]
  },
  {
   "cell_type": "code",
   "execution_count": 5,
   "id": "c100bb10",
   "metadata": {},
   "outputs": [],
   "source": [
    "def invoke_miniscot(x):\n",
    "    \"\"\"\n",
    "    Handling single API call to miniSCOT simulation given some inputs\n",
    "\n",
    "    x contains parameter configs x = [x0 x1 ...]\n",
    "    - The order of parameters in x should follow the order specified in the parameter_space declaration\n",
    "    - E.g. here we specify num_batteries = x[0]\n",
    "    \"\"\"\n",
    "\n",
    "    kwargs = {\n",
    "        'time_horizon': 336,\n",
    "        'num_batteries': int(x[0])\n",
    "    }\n",
    "\n",
    "    if len(x) == 2:\n",
    "        kwargs.update({\n",
    "            'max_battery_capacity': int(x[1])\n",
    "        })\n",
    "        \n",
    "    cum_reward = run_simulation(**kwargs)\n",
    "    \n",
    "    return cum_reward[-1]"
   ]
  },
  {
   "cell_type": "code",
   "execution_count": 6,
   "id": "9d65f8ce",
   "metadata": {},
   "outputs": [],
   "source": [
    "def f(X):\n",
    "    \"\"\"\n",
    "    Handling multiple API calls to miniSCOT simulation given some inputs\n",
    "\n",
    "    X is a matrix of parameters\n",
    "    - Each row is a set of parameters\n",
    "    - The order of parameters in the row should follow the order specified in the parameter_space declaration\n",
    "    \"\"\"\n",
    "    Y = []\n",
    "    for x in X:\n",
    "        cum_reward = invoke_miniscot(x)\n",
    "\n",
    "        # Note that we negate the reward; want to find min\n",
    "        Y.append(-cum_reward[-1])\n",
    "\n",
    "    Y = np.reshape(np.array(Y), (-1, 1))\n",
    "    return Y"
   ]
  },
  {
   "cell_type": "code",
   "execution_count": 7,
   "id": "443b0a9a",
   "metadata": {},
   "outputs": [],
   "source": [
    "def f_multiprocess(X):\n",
    "    \"\"\"\n",
    "    Handling multiple API calls to miniSCOT simulation given some inputs using multiprocessing.\n",
    "\n",
    "    X is a matrix of parameters\n",
    "    - Each row is a set of parameters\n",
    "    - The order of parameters in the row should follow the order specified in the parameter_space declaration\n",
    "    \"\"\"\n",
    "    \n",
    "    # Set to None to use all available CPU\n",
    "    max_pool = None\n",
    "    with Pool(max_pool) as p:\n",
    "        Y = list(\n",
    "            tqdm(\n",
    "                p.imap(invoke_miniscot, X),\n",
    "                total=X.shape[0]\n",
    "            )\n",
    "        )\n",
    "\n",
    "    # Note that we negate the reward; want to find min\n",
    "    Y = -np.reshape(np.array(Y), (-1, 1))\n",
    "    return Y"
   ]
  },
  {
   "cell_type": "markdown",
   "id": "4dec5fc7",
   "metadata": {},
   "source": [
    "## Plotting Functions"
   ]
  },
  {
   "cell_type": "code",
   "execution_count": 8,
   "id": "05765963",
   "metadata": {},
   "outputs": [],
   "source": [
    "def plot_reward(X, Y, labels):\n",
    "    \"\"\"\n",
    "    Plots reward against a maximum of two dimensions.\n",
    "    \"\"\"\n",
    "\n",
    "    plt.style.use('seaborn')\n",
    "    fig = plt.figure(figsize=(10,10))\n",
    "\n",
    "    order = np.argsort(X[:,0])\n",
    "    \n",
    "    if X.shape[1] == 1:\n",
    "        ax = plt.axes()\n",
    "        ax.plot(X[order,0], Y[order])\n",
    "        ax.set_xlabel(labels[0])\n",
    "        ax.set_ylabel(\"Cumulative reward\")\n",
    "    elif X.shape[1] == 2:\n",
    "        ax = plt.axes(projection='3d')\n",
    "        im = ax.plot_trisurf(X[order,0].flatten(), X[order,1].flatten(), Y[order].flatten(), cmap=cm.get_cmap('viridis'))\n",
    "        fig.colorbar(im)\n",
    "        ax.set_xlabel(labels[0])\n",
    "        ax.set_ylabel(labels[1])\n",
    "        ax.set_zlabel(\"Cumulative reward\")\n",
    "    else:\n",
    "        raise ValueError('X has too many dimensions to plot - max 2 allowed')\n",
    "\n",
    "    return fig, ax"
   ]
  },
  {
   "cell_type": "markdown",
   "id": "a02b00a2",
   "metadata": {},
   "source": [
    "## Investigation Parameter Space"
   ]
  },
  {
   "cell_type": "code",
   "execution_count": 9,
   "id": "34ec78e2",
   "metadata": {},
   "outputs": [],
   "source": [
    "max_num_batteries = 1200\n",
    "min_num_batteries = 400\n",
    "min_battery_capacity = 140\n",
    "max_battery_capacity = 160\n",
    "num_data_points = 10\n",
    "\n",
    "timsteps_per_week = 336\n",
    "num_weeks = 1"
   ]
  },
  {
   "cell_type": "code",
   "execution_count": 10,
   "id": "42cc1300",
   "metadata": {},
   "outputs": [
    {
     "data": {
      "text/plain": [
       "array([[ 855],\n",
       "       [1035],\n",
       "       [ 867],\n",
       "       [ 487],\n",
       "       [ 750],\n",
       "       [1023],\n",
       "       [ 696],\n",
       "       [ 729],\n",
       "       [ 923],\n",
       "       [ 907]])"
      ]
     },
     "execution_count": 10,
     "metadata": {},
     "output_type": "execute_result"
    }
   ],
   "source": [
    "num_batteries = DiscreteParameter('num_batteries', range(min_num_batteries, max_num_batteries+1))\n",
    "max_battery_capacities = DiscreteParameter('max_battery_capacity', range(min_battery_capacity, max_battery_capacity+1))\n",
    "time_horizon = DiscreteParameter('time_horizon', [i for i in range(0, num_weeks*timsteps_per_week, timsteps_per_week)])\n",
    "\n",
    "use_1d = True\n",
    "if use_1d: \n",
    "    parameter_space = ParameterSpace([num_batteries])\n",
    "else: \n",
    "    parameter_space = ParameterSpace([num_batteries, max_battery_capacities])\n",
    "\n",
    "design = RandomDesign(parameter_space)\n",
    "\n",
    "X = design.get_samples(num_data_points)\n",
    "X"
   ]
  },
  {
   "cell_type": "markdown",
   "id": "324e335f",
   "metadata": {},
   "source": [
    "## Example Run"
   ]
  },
  {
   "cell_type": "markdown",
   "id": "b3488637",
   "metadata": {},
   "source": [
    "The same code appears at the top of the Emukit cell below. Optionally run this to check whether we get a convex function."
   ]
  },
  {
   "cell_type": "code",
   "execution_count": 11,
   "id": "2048725e",
   "metadata": {},
   "outputs": [
    {
     "data": {
      "text/plain": [
       "-0.2932"
      ]
     },
     "execution_count": 11,
     "metadata": {},
     "output_type": "execute_result"
    }
   ],
   "source": [
    "-0.8*36.65/100"
   ]
  },
  {
   "cell_type": "code",
   "execution_count": 12,
   "id": "76b3fb08",
   "metadata": {
    "tags": []
   },
   "outputs": [
    {
     "name": "stderr",
     "output_type": "stream",
     "text": [
      "100%|██████████| 10/10 [00:49<00:00,  4.96s/it]\n"
     ]
    }
   ],
   "source": [
    "Y = f_multiprocess(X)"
   ]
  },
  {
   "cell_type": "code",
   "execution_count": 13,
   "id": "6df8e514",
   "metadata": {
    "tags": []
   },
   "outputs": [
    {
     "data": {
      "text/plain": [
       "(<Figure size 720x720 with 1 Axes>,\n",
       " <AxesSubplot:xlabel='num_batteries', ylabel='Cumulative reward'>)"
      ]
     },
     "execution_count": 13,
     "metadata": {},
     "output_type": "execute_result"
    },
    {
     "data": {
      "image/png": "[encoded data removed]",
      "text/plain": [
       "<Figure size 720x720 with 1 Axes>"
      ]
     },
     "metadata": {},
     "output_type": "display_data"
    }
   ],
   "source": [
    "plot_reward(X, Y, parameter_space.parameter_names)"
   ]
  },
  {
   "cell_type": "code",
   "execution_count": 14,
   "id": "117e35d4",
   "metadata": {},
   "outputs": [
    {
     "ename": "NameError",
     "evalue": "name 'stopping_cell' is not defined",
     "output_type": "error",
     "traceback": [
      "\u001b[0;31m---------------------------------------------------------------------------\u001b[0m",
      "\u001b[0;31mNameError\u001b[0m                                 Traceback (most recent call last)",
      "\u001b[0;32m<ipython-input-14-8ab156342f3a>\u001b[0m in \u001b[0;36m<module>\u001b[0;34m\u001b[0m\n\u001b[1;32m      1\u001b[0m \u001b[0;31m# just to temporarily break\u001b[0m\u001b[0;34m\u001b[0m\u001b[0;34m\u001b[0m\u001b[0;34m\u001b[0m\u001b[0m\n\u001b[0;32m----> 2\u001b[0;31m \u001b[0mstopping_cell\u001b[0m\u001b[0;34m\u001b[0m\u001b[0;34m\u001b[0m\u001b[0m\n\u001b[0m",
      "\u001b[0;31mNameError\u001b[0m: name 'stopping_cell' is not defined"
     ]
    }
   ],
   "source": [
    "# just to temporarily break\n",
    "stopping_cell"
   ]
  },
  {
   "cell_type": "markdown",
   "id": "d73d4775",
   "metadata": {},
   "source": [
    "## Emukit Bayesian Optimisation"
   ]
  },
  {
   "cell_type": "code",
   "execution_count": 15,
   "id": "c4108d86",
   "metadata": {},
   "outputs": [
    {
     "name": "stdout",
     "output_type": "stream",
     "text": [
      "CURRENT ATTEMPT #0\n"
     ]
    },
    {
     "name": "stderr",
     "output_type": "stream",
     "text": [
      "100%|██████████| 10/10 [00:49<00:00,  4.98s/it]\n",
      "INFO:GP:initializing Y\n",
      "INFO:GP:initializing inference method\n",
      "INFO:GP:adding kernel and likelihood as parameters\n",
      "INFO:emukit.bayesian_optimization.loops.bayesian_optimization_loop:Batch size is 3, using LocalPenalizationPointCalculator\n",
      "INFO:emukit.core.loop.outer_loop:Starting outer loop\n",
      "INFO:emukit.core.loop.outer_loop:Iteration 0\n",
      "INFO:emukit.core.loop.model_updaters:Updating parameters of the model\n"
     ]
    },
    {
     "name": "stdout",
     "output_type": "stream",
     "text": [
      "okay to optimize\n"
     ]
    },
    {
     "name": "stderr",
     "output_type": "stream",
     "text": [
      "INFO:emukit.core.optimization.gradient_acquisition_optimizer:Starting gradient-based optimization of acquisition function <class 'emukit.core.acquisition.acquisition.Sum'>\n",
      "INFO:emukit.core.optimization.gradient_acquisition_optimizer:Starting gradient-based optimization of acquisition function <class 'emukit.core.acquisition.acquisition.Sum'>\n",
      "INFO:emukit.core.optimization.gradient_acquisition_optimizer:Starting gradient-based optimization of acquisition function <class 'emukit.core.acquisition.acquisition.Sum'>\n",
      "INFO:emukit.core.loop.user_function:Evaluating user function for 3 point(s)\n",
      "100%|██████████| 3/3 [00:39<00:00, 13.15s/it]\n",
      "INFO:emukit.core.loop.outer_loop:Iteration 1\n",
      "INFO:emukit.core.loop.model_updaters:Updating parameters of the model\n",
      "INFO:emukit.core.optimization.gradient_acquisition_optimizer:Starting gradient-based optimization of acquisition function <class 'emukit.core.acquisition.acquisition.Sum'>\n",
      "INFO:emukit.core.optimization.gradient_acquisition_optimizer:Starting gradient-based optimization of acquisition function <class 'emukit.core.acquisition.acquisition.Sum'>\n",
      "INFO:emukit.core.optimization.gradient_acquisition_optimizer:Starting gradient-based optimization of acquisition function <class 'emukit.core.acquisition.acquisition.Sum'>\n",
      "INFO:emukit.core.loop.user_function:Evaluating user function for 3 point(s)\n",
      "100%|██████████| 3/3 [00:39<00:00, 13.32s/it]\n",
      "INFO:emukit.core.loop.stopping_conditions:Stopped as consecutive evaluations are within 0.01\n",
      "INFO:emukit.core.loop.model_updaters:Updating parameters of the model\n",
      "INFO:emukit.core.loop.outer_loop:Finished outer loop\n"
     ]
    },
    {
     "name": "stdout",
     "output_type": "stream",
     "text": [
      "successfully ran loop\n"
     ]
    },
    {
     "data": {
      "image/png": "[encoded data removed]",
      "text/plain": [
       "<Figure size 720x720 with 1 Axes>"
      ]
     },
     "metadata": {},
     "output_type": "display_data"
    }
   ],
   "source": [
    "successful_sample = False\n",
    "num_tries = 0\n",
    "max_num_tries = 3\n",
    "\n",
    "use_default= False\n",
    "use_ard=False\n",
    "\n",
    "while not successful_sample and num_tries < max_num_tries: \n",
    "    \n",
    "    print(f\"CURRENT ATTEMPT #{num_tries}\")\n",
    "    \n",
    "    X = design.get_samples(num_data_points)\n",
    "    Y = f_multiprocess(X)\n",
    "    \n",
    "    # plot init values\n",
    "    plot_reward(X, Y, parameter_space.parameter_names)\n",
    "    \n",
    "    # emulator model\n",
    "\n",
    "    if use_default: \n",
    "        gpy_model = GPRegression(X, Y)\n",
    "    else: \n",
    "        kernel = GPy.kern.RBF(1, lengthscale=1e1, variance=1e4, ARD=use_ard)\n",
    "        gpy_model = GPy.models.GPRegression(X, Y, kernel, noise_var=1e-10)\n",
    "    \n",
    "    try: \n",
    "        gpy_model.optimize()\n",
    "        print(\"okay to optimize\")\n",
    "        model_emukit = GPyModelWrapper(gpy_model)\n",
    "\n",
    "        # Load core elements for Bayesian optimization\n",
    "        expected_improvement = ExpectedImprovement(model=model_emukit)\n",
    "        optimizer = GradientAcquisitionOptimizer(space=parameter_space)\n",
    "\n",
    "        # Create the Bayesian optimization object\n",
    "        batch_size = 3\n",
    "        bayesopt_loop = BayesianOptimizationLoop(model=model_emukit,\n",
    "                                                 space=parameter_space,\n",
    "                                                 acquisition=expected_improvement,\n",
    "                                                 batch_size=batch_size)\n",
    "\n",
    "        # Run the loop and extract the optimum;  we either complete 10 steps or converge\n",
    "        max_iters = 10\n",
    "        stopping_condition = (\n",
    "            FixedIterationsStoppingCondition(i_max=max_iters) | ConvergenceStoppingCondition(eps=0.01)\n",
    "        )\n",
    "\n",
    "        bayesopt_loop.run_loop(f_multiprocess, stopping_condition)\n",
    "        print(\"successfully ran loop\")\n",
    "        successful_sample = True\n",
    "        \n",
    "    except: \n",
    "        num_tries += 1 \n"
   ]
  },
  {
   "cell_type": "code",
   "execution_count": 16,
   "id": "efa26b10",
   "metadata": {},
   "outputs": [
    {
     "data": {
      "text/plain": [
       "0"
      ]
     },
     "execution_count": 16,
     "metadata": {},
     "output_type": "execute_result"
    }
   ],
   "source": [
    "num_tries"
   ]
  },
  {
   "cell_type": "code",
   "execution_count": 17,
   "id": "4303eb0c",
   "metadata": {},
   "outputs": [],
   "source": [
    "# X, Y"
   ]
  },
  {
   "cell_type": "code",
   "execution_count": 19,
   "id": "ab24027a",
   "metadata": {},
   "outputs": [],
   "source": [
    "new_X, new_Y = bayesopt_loop.loop_state.X, bayesopt_loop.loop_state.Y\n",
    "\n",
    "new_order = np.argsort(new_X[:,0])\n",
    "new_X = new_X[new_order,:]\n",
    "new_Y = new_Y[new_order]\n",
    "\n",
    "# new_X, new_Y"
   ]
  },
  {
   "cell_type": "markdown",
   "id": "27a8f965",
   "metadata": {},
   "source": [
    "## Visualize and Get Extrema"
   ]
  },
  {
   "cell_type": "markdown",
   "id": "8db506a5",
   "metadata": {},
   "source": [
    "### Simple Plot"
   ]
  },
  {
   "cell_type": "code",
   "execution_count": 20,
   "id": "f14bd443",
   "metadata": {},
   "outputs": [
    {
     "data": {
      "text/plain": [
       "(<Figure size 720x720 with 1 Axes>,\n",
       " <AxesSubplot:xlabel='num_batteries', ylabel='Cumulative reward'>)"
      ]
     },
     "execution_count": 20,
     "metadata": {},
     "output_type": "execute_result"
    },
    {
     "data": {
      "image/png": "[encoded data removed]",
      "text/plain": [
       "<Figure size 720x720 with 1 Axes>"
      ]
     },
     "metadata": {},
     "output_type": "display_data"
    }
   ],
   "source": [
    "plot_reward(new_X, new_Y, parameter_space.parameter_names)"
   ]
  },
  {
   "cell_type": "markdown",
   "id": "cdfc550a",
   "metadata": {},
   "source": [
    "### 2D Plot"
   ]
  },
  {
   "cell_type": "code",
   "execution_count": 21,
   "id": "0140bf4c",
   "metadata": {
    "scrolled": true,
    "tags": []
   },
   "outputs": [
    {
     "data": {
      "image/png": "[encoded data removed]",
      "text/plain": [
       "<Figure size 504x360 with 1 Axes>"
      ]
     },
     "metadata": {},
     "output_type": "display_data"
    }
   ],
   "source": [
    "x_plot = np.reshape(np.array([i for i in range(0, max_num_batteries)]), (-1,1))\n",
    "mu_plot, var_plot = model_emukit.predict(x_plot)\n",
    "\n",
    "# plt.figure(figsize=(12, 8))\n",
    "plt.figure(figsize=(7, 5))\n",
    "LEGEND_SIZE = 15\n",
    "plt.plot(new_X, new_Y, \"ro\", markersize=10, label=\"All observations\")\n",
    "plt.plot(X, Y, \"bo\", markersize=10, label=\"Initial observations\")\n",
    "# plt.plot(x_plot, y_plot, \"k\", label=\"Objective Function\")\n",
    "plt.plot(x_plot, mu_plot, \"C0\", label=\"Model\")\n",
    "plt.fill_between(x_plot[:, 0],\n",
    "                 mu_plot[:, 0] + np.sqrt(var_plot)[:, 0],\n",
    "                 mu_plot[:, 0] - np.sqrt(var_plot)[:, 0], color=\"C0\", alpha=0.6)\n",
    "plt.fill_between(x_plot[:, 0],\n",
    "                 mu_plot[:, 0] + 2 * np.sqrt(var_plot)[:, 0],\n",
    "                 mu_plot[:, 0] - 2 * np.sqrt(var_plot)[:, 0], color=\"C0\", alpha=0.4)\n",
    "plt.fill_between(x_plot[:, 0],\n",
    "                 mu_plot[:, 0] + 3 * np.sqrt(var_plot)[:, 0],\n",
    "                 mu_plot[:, 0] - 3 * np.sqrt(var_plot)[:, 0], color=\"C0\", alpha=0.2)\n",
    "\n",
    "plt.legend(loc=2, prop={'size': LEGEND_SIZE})\n",
    "plt.xlabel(r\"$x$\")\n",
    "plt.ylabel(r\"$f(x)$\")\n",
    "plt.grid(True)\n",
    "# plt.xlim(0, 25)\n",
    "plt.show()"
   ]
  },
  {
   "cell_type": "markdown",
   "id": "c552832f",
   "metadata": {},
   "source": [
    "## 3D Plots"
   ]
  },
  {
   "cell_type": "markdown",
   "id": "af3cb6c3",
   "metadata": {},
   "source": [
    "#### Inferred Surface"
   ]
  },
  {
   "cell_type": "code",
   "execution_count": null,
   "id": "4f386d2c",
   "metadata": {},
   "outputs": [],
   "source": [
    "plt.style.use('seaborn')\n",
    "fig = plt.figure(figsize=(10,10))\n",
    "ax = plt.axes(projection='3d')\n",
    "\n",
    "im = ax.plot_trisurf(new_X[:,0].flatten(), new_X[:,1].flatten(), new_Y.flatten(), cmap=cm.get_cmap('viridis'), alpha=0.75)\n",
    "fig.colorbar(im)\n",
    "\n",
    "ax.scatter(X[:,0].flatten(), X[:,1].flatten(), Y.flatten(), s=100, marker=\"o\", color=\"b\", label=\"Initial observations\")\n",
    "ax.scatter(new_X[:,0].flatten(), new_X[:,1].flatten(), new_Y.flatten(), marker=\"x\", color=\"r\", label=\"All observations\")\n",
    "\n",
    "ax.legend(loc=2, prop={'size': LEGEND_SIZE})\n",
    "ax.set_xlabel(r\"$x_1$\")\n",
    "ax.set_ylabel(r\"$x_2$\")\n",
    "ax.set_ylabel(r\"$f(x)$\")\n",
    "ax.grid(True)"
   ]
  },
  {
   "cell_type": "markdown",
   "id": "9d151ef8",
   "metadata": {},
   "source": [
    "#### Prediction Surface"
   ]
  },
  {
   "cell_type": "code",
   "execution_count": null,
   "id": "41809714",
   "metadata": {},
   "outputs": [],
   "source": [
    "mesh_X, mesh_Y = np.mgrid[1:max_num_batteries+1:1, min_battery_capacity:max_battery_capacity+1:1]\n",
    "positions = np.vstack([mesh_X.ravel(), mesh_Y.ravel()]).T\n",
    "mu_plot, var_plot = model_emukit.predict(positions)"
   ]
  },
  {
   "cell_type": "code",
   "execution_count": null,
   "id": "2597ec95",
   "metadata": {},
   "outputs": [],
   "source": [
    "fig = plt.figure(figsize=(10,10))\n",
    "ax = fig.gca(projection='3d')\n",
    "surf = ax.plot_surface(mesh_X, mesh_Y, mu_plot.reshape((500,21)), cmap=cm.coolwarm,linewidth=0, antialiased=False)"
   ]
  },
  {
   "cell_type": "markdown",
   "id": "b469fb25",
   "metadata": {},
   "source": [
    "## Old Code"
   ]
  },
  {
   "cell_type": "code",
   "execution_count": null,
   "id": "e550b466",
   "metadata": {},
   "outputs": [],
   "source": [
    "\n",
    "# X = design.get_samples(num_data_points)\n",
    "# Y = f(X)\n"
   ]
  },
  {
   "cell_type": "code",
   "execution_count": null,
   "id": "c9e23ec7",
   "metadata": {},
   "outputs": [],
   "source": [
    "# # emulator model\n",
    "# use_default= False\n",
    "# use_ard=True\n",
    "# if use_default: \n",
    "#     gpy_model = GPRegression(X, Y)\n",
    "# else: \n",
    "#     kernel = GPy.kern.RBF(1, lengthscale=1e1, variance=1e4, ARD=use_ard)\n",
    "#     gpy_model = GPy.models.GPRegression(X, Y, kernel, noise_var=1e-10)\n",
    "# gpy_model.optimize()\n",
    "# model_emukit = GPyModelWrapper(gpy_model)"
   ]
  },
  {
   "cell_type": "code",
   "execution_count": null,
   "id": "d9897e61",
   "metadata": {},
   "outputs": [],
   "source": [
    "# # Load core elements for Bayesian optimization\n",
    "# expected_improvement = ExpectedImprovement(model=model_emukit)\n",
    "# optimizer = GradientAcquisitionOptimizer(space=parameter_space)"
   ]
  },
  {
   "cell_type": "code",
   "execution_count": null,
   "id": "6836461c",
   "metadata": {},
   "outputs": [],
   "source": [
    "# # Create the Bayesian optimization object\n",
    "# batch_size = 3\n",
    "# bayesopt_loop = BayesianOptimizationLoop(model=model_emukit,\n",
    "#                                          space=parameter_space,\n",
    "#                                          acquisition=expected_improvement,\n",
    "#                                          batch_size=batch_size)\n"
   ]
  },
  {
   "cell_type": "code",
   "execution_count": null,
   "id": "84bfb4ab",
   "metadata": {},
   "outputs": [],
   "source": [
    "# # Run the loop and extract the optimum;  we either complete 10 steps or converge\n",
    "# max_iters = 10\n",
    "# stopping_condition = FixedIterationsStoppingCondition(\n",
    "#     i_max=max_iters) | ConvergenceStoppingCondition(eps=0.01)\n",
    "\n",
    "# bayesopt_loop.run_loop(f, stopping_condition)"
   ]
  }
 ],
 "metadata": {
  "kernelspec": {
   "display_name": "Python 3",
   "language": "python",
   "name": "python3"
  },
  "language_info": {
   "codemirror_mode": {
    "name": "ipython",
    "version": 3
   },
   "file_extension": ".py",
   "mimetype": "text/x-python",
   "name": "python",
   "nbconvert_exporter": "python",
   "pygments_lexer": "ipython3",
   "version": "3.8.8"
  }
 },
 "nbformat": 4,
 "nbformat_minor": 5
}
