{
 "cells": [
  {
   "cell_type": "code",
   "execution_count": 1,
   "id": "5c2c946c",
   "metadata": {},
   "outputs": [],
   "source": [
    "# modified from test.ipynb and main.py\n",
    "\n",
    "from matplotlib import pyplot as plt\n",
    "import numpy as np\n",
    "import GPy\n",
    "\n",
    "import warnings\n",
    "warnings.filterwarnings('ignore')\n",
    "\n",
    "import logging\n",
    "logging.basicConfig(level=logging.INFO)\n",
    "\n",
    "from emukit.model_wrappers import GPyModelWrapper\n",
    "from emukit.model_wrappers.gpy_quadrature_wrappers import BaseGaussianProcessGPy, RBFGPy\n",
    "\n",
    "from emukit.core import ParameterSpace, ContinuousParameter, DiscreteParameter\n",
    "from emukit.core.loop import UserFunctionWrapper\n",
    "\n",
    "from emukit.core import ParameterSpace, ContinuousParameter\n",
    "from emukit.core.initial_designs import RandomDesign\n",
    "\n",
    "from GPy.models import GPRegression\n",
    "\n",
    "from skopt.benchmarks import branin as _branin\n",
    "from emukit.test_functions import branin_function\n",
    "\n",
    "from scse.api.simulation import run_simulation\n",
    "\n",
    "from matplotlib.colors import LogNorm\n",
    "from matplotlib import pyplot as plt\n",
    "\n",
    "# Decision loops \n",
    "from emukit.experimental_design import ExperimentalDesignLoop\n",
    "from emukit.bayesian_optimization.loops import BayesianOptimizationLoop\n",
    "from emukit.quadrature.loop import VanillaBayesianQuadratureLoop\n",
    "\n",
    "# Acquisition functions \n",
    "from emukit.bayesian_optimization.acquisitions import ExpectedImprovement\n",
    "from emukit.experimental_design.acquisitions import ModelVariance\n",
    "# from emukit.quadrature.acquisitions import IntegralVarianceReduction\n",
    "from emukit.experimental_design.acquisitions import IntegratedVarianceReduction\n",
    "\n",
    "# Acquistion optimizers\n",
    "from emukit.core.optimization import GradientAcquisitionOptimizer\n",
    "\n",
    "# Stopping conditions\n",
    "from emukit.core.loop import FixedIterationsStoppingCondition\n",
    "from emukit.core.loop import ConvergenceStoppingCondition\n",
    "\n",
    "from emukit.bayesian_optimization.acquisitions.log_acquisition import LogAcquisition"
   ]
  },
  {
   "cell_type": "code",
   "execution_count": 2,
   "id": "bc34a834",
   "metadata": {},
   "outputs": [],
   "source": [
    "from loop import *"
   ]
  },
  {
   "cell_type": "code",
   "execution_count": 51,
   "id": "82e539a9",
   "metadata": {},
   "outputs": [],
   "source": [
    "max_num_batteries = 25\n",
    "num_batteries = DiscreteParameter(\n",
    "    'num_batteries', [i for i in range(0, max_num_batteries)])\n",
    "week = 336\n",
    "time_horizon = DiscreteParameter(\n",
    "    'time_horizon', [i for i in range(0, 52*week, week)])\n",
    "parameter_space = ParameterSpace([num_batteries])\n",
    "design = RandomDesign(parameter_space)"
   ]
  },
  {
   "cell_type": "code",
   "execution_count": null,
   "id": "f0a96555",
   "metadata": {},
   "outputs": [],
   "source": [
    "# Initial set of batteries and associated reward of simulation\n",
    "num_data_points = 5\n",
    "X = design.get_samples(num_data_points)\n",
    "Y = f(X)\n"
   ]
  },
  {
   "cell_type": "code",
   "execution_count": null,
   "id": "c33dce0d",
   "metadata": {},
   "outputs": [],
   "source": [
    "# emulator model\n",
    "use_default= False\n",
    "if use_default: \n",
    "    gpy_model = GPRegression(X, Y)\n",
    "else: \n",
    "    kernel = GPy.kern.RBF(1, lengthscale=1e1, variance=1e4, ARD=False)\n",
    "    gpy_model = GPy.models.GPRegression(X, Y, kernel, noise_var=1e-10)\n",
    "gpy_model.optimize()\n",
    "model_emukit = GPyModelWrapper(gpy_model)"
   ]
  },
  {
   "cell_type": "code",
   "execution_count": null,
   "id": "f269e528",
   "metadata": {},
   "outputs": [],
   "source": [
    "# Load core elements for Bayesian optimization\n",
    "expected_improvement = ExpectedImprovement(model=model_emukit)\n",
    "optimizer = GradientAcquisitionOptimizer(space=parameter_space)"
   ]
  },
  {
   "cell_type": "code",
   "execution_count": null,
   "id": "4de4887e",
   "metadata": {},
   "outputs": [],
   "source": [
    "# Create the Bayesian optimization object\n",
    "batch_size = 3\n",
    "bayesopt_loop = BayesianOptimizationLoop(model=model_emukit,\n",
    "                                         space=parameter_space,\n",
    "                                         acquisition=expected_improvement,\n",
    "                                         batch_size=batch_size)\n"
   ]
  },
  {
   "cell_type": "code",
   "execution_count": null,
   "id": "4c8f1238",
   "metadata": {},
   "outputs": [],
   "source": [
    "# Run the loop and extract the optimum;  we either complete 10 steps or converge\n",
    "max_iters = 10\n",
    "stopping_condition = FixedIterationsStoppingCondition(\n",
    "    i_max=max_iters) | ConvergenceStoppingCondition(eps=0.01)\n",
    "\n",
    "bayesopt_loop.run_loop(f, stopping_condition)"
   ]
  },
  {
   "cell_type": "code",
   "execution_count": null,
   "id": "bd3a56c4",
   "metadata": {},
   "outputs": [],
   "source": [
    "# Visualize and get extrema\n",
    "new_X, new_Y = bayesopt_loop.loop_state.X, bayesopt_loop.loop_state.Y"
   ]
  },
  {
   "cell_type": "code",
   "execution_count": null,
   "id": "0ef676e8",
   "metadata": {},
   "outputs": [],
   "source": [
    "print(new_X, new_X.shape)\n",
    "order = new_X.argsort(axis=0)\n",
    "print(new_X[order])"
   ]
  },
  {
   "cell_type": "code",
   "execution_count": null,
   "id": "1819ae96",
   "metadata": {},
   "outputs": [],
   "source": [
    "new_X = new_X[order].flatten().reshape(-1, 1)\n",
    "new_Y = new_Y[order].flatten().reshape(-1, 1)"
   ]
  },
  {
   "cell_type": "code",
   "execution_count": null,
   "id": "ccb42a0f",
   "metadata": {},
   "outputs": [],
   "source": [
    "plt.plot(new_X, new_Y)\n",
    "plt.style.use('seaborn')\n",
    "plt.title(\"Initial runs\")\n",
    "plt.xlabel(parameter_space.parameters[0].name)\n",
    "plt.ylabel(\"Cumulative reward\")\n",
    "plt.show()"
   ]
  },
  {
   "cell_type": "code",
   "execution_count": null,
   "id": "291c1e01",
   "metadata": {},
   "outputs": [],
   "source": [
    "x_plot = np.reshape(np.array([i for i in range(0, 25)]), (-1,1))\n",
    "mu_plot, var_plot = model_emukit.predict(x_plot)\n",
    "\n",
    "plt.figure(figsize=(12, 8))\n",
    "LEGEND_SIZE = 15\n",
    "plt.plot(new_X, new_Y, \"ro\", markersize=10, label=\"All observations\")\n",
    "plt.plot(X, Y, \"bo\", markersize=10, label=\"Initial observations\")\n",
    "# plt.plot(x_plot, y_plot, \"k\", label=\"Objective Function\")\n",
    "plt.plot(x_plot, mu_plot, \"C0\", label=\"Model\")\n",
    "plt.fill_between(x_plot[:, 0],\n",
    "                 mu_plot[:, 0] + np.sqrt(var_plot)[:, 0],\n",
    "                 mu_plot[:, 0] - np.sqrt(var_plot)[:, 0], color=\"C0\", alpha=0.6)\n",
    "plt.fill_between(x_plot[:, 0],\n",
    "                 mu_plot[:, 0] + 2 * np.sqrt(var_plot)[:, 0],\n",
    "                 mu_plot[:, 0] - 2 * np.sqrt(var_plot)[:, 0], color=\"C0\", alpha=0.4)\n",
    "plt.fill_between(x_plot[:, 0],\n",
    "                 mu_plot[:, 0] + 3 * np.sqrt(var_plot)[:, 0],\n",
    "                 mu_plot[:, 0] - 3 * np.sqrt(var_plot)[:, 0], color=\"C0\", alpha=0.2)\n",
    "\n",
    "plt.legend(loc=2, prop={'size': LEGEND_SIZE})\n",
    "plt.xlabel(r\"$x$\")\n",
    "plt.ylabel(r\"$f(x)$\")\n",
    "plt.grid(True)\n",
    "plt.xlim(0, 25)\n",
    "plt.show()"
   ]
  },
  {
   "cell_type": "code",
   "execution_count": null,
   "id": "2818c190",
   "metadata": {},
   "outputs": [],
   "source": []
  },
  {
   "cell_type": "code",
   "execution_count": null,
   "id": "c59848f5",
   "metadata": {},
   "outputs": [],
   "source": []
  }
 ],
 "metadata": {
  "kernelspec": {
   "display_name": "Python 3",
   "language": "python",
   "name": "python3"
  },
  "language_info": {
   "codemirror_mode": {
    "name": "ipython",
    "version": 3
   },
   "file_extension": ".py",
   "mimetype": "text/x-python",
   "name": "python",
   "nbconvert_exporter": "python",
   "pygments_lexer": "ipython3",
   "version": "3.8.8"
  }
 },
 "nbformat": 4,
 "nbformat_minor": 5
}
