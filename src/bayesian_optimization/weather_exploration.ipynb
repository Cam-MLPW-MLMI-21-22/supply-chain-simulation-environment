{
 "cells": [
  {
   "cell_type": "code",
   "execution_count": 1,
   "id": "474417f9",
   "metadata": {},
   "outputs": [],
   "source": [
    "# %matplotlib widget\n",
    "%load_ext autoreload\n",
    "%autoreload 2"
   ]
  },
  {
   "cell_type": "markdown",
   "id": "c844721a",
   "metadata": {},
   "source": [
    "## Imports"
   ]
  },
  {
   "cell_type": "code",
   "execution_count": 2,
   "id": "5c2c946c",
   "metadata": {},
   "outputs": [],
   "source": [
    "# modified from test.ipynb and main.py\n",
    "\n",
    "import time\n",
    "from utils import plot_3d_boundary, plot_3d_observed_rewards\n",
    "from pylab import *\n",
    "from matplotlib import pyplot as plt\n",
    "from matplotlib import cm\n",
    "import numpy as np\n",
    "import GPy\n",
    "\n",
    "import warnings\n",
    "warnings.filterwarnings('ignore')\n",
    "\n",
    "import logging\n",
    "logging.basicConfig(level=logging.INFO)\n",
    "\n",
    "from emukit.model_wrappers import GPyModelWrapper\n",
    "from emukit.model_wrappers.gpy_quadrature_wrappers import BaseGaussianProcessGPy, RBFGPy\n",
    "\n",
    "from emukit.core import ParameterSpace, ContinuousParameter, DiscreteParameter\n",
    "from emukit.core.loop import UserFunctionWrapper\n",
    "\n",
    "from emukit.core import ParameterSpace, ContinuousParameter\n",
    "from emukit.core.initial_designs import RandomDesign\n",
    "\n",
    "from GPy.models import GPRegression\n",
    "\n",
    "from skopt.benchmarks import branin as _branin\n",
    "from emukit.test_functions import branin_function\n",
    "\n",
    "from scse.api.simulation import run_simulation\n",
    "\n",
    "from matplotlib.colors import LogNorm\n",
    "from matplotlib import pyplot as plt\n",
    "\n",
    "# Decision loops \n",
    "from emukit.experimental_design import ExperimentalDesignLoop\n",
    "from emukit.bayesian_optimization.loops import BayesianOptimizationLoop\n",
    "from emukit.quadrature.loop import VanillaBayesianQuadratureLoop\n",
    "\n",
    "# Acquisition functions \n",
    "from emukit.bayesian_optimization.acquisitions import ExpectedImprovement\n",
    "from emukit.experimental_design.acquisitions import ModelVariance\n",
    "# from emukit.quadrature.acquisitions import IntegralVarianceReduction\n",
    "from emukit.experimental_design.acquisitions import IntegratedVarianceReduction\n",
    "\n",
    "# Acquistion optimizers\n",
    "from emukit.core.optimization import GradientAcquisitionOptimizer\n",
    "\n",
    "# Stopping conditions\n",
    "from emukit.core.loop import FixedIterationsStoppingCondition\n",
    "from emukit.core.loop import ConvergenceStoppingCondition\n",
    "\n",
    "from emukit.bayesian_optimization.acquisitions.log_acquisition import LogAcquisition\n",
    "\n",
    "# Constraints\n",
    "from emukit.core.constraints import LinearInequalityConstraint"
   ]
  },
  {
   "cell_type": "code",
   "execution_count": 3,
   "id": "7aa21bae",
   "metadata": {},
   "outputs": [],
   "source": [
    "# Libraries for multiprocessing\n",
    "from multiprocess.pool import Pool\n",
    "from tqdm.auto import tqdm"
   ]
  },
  {
   "cell_type": "code",
   "execution_count": 4,
   "id": "df8fa65a",
   "metadata": {},
   "outputs": [],
   "source": [
    "from loop import *"
   ]
  },
  {
   "cell_type": "code",
   "execution_count": 5,
   "id": "0bcf4b32",
   "metadata": {},
   "outputs": [
    {
     "name": "stdout",
     "output_type": "stream",
     "text": [
      "1.10.0\n"
     ]
    }
   ],
   "source": [
    "print(GPy.__version__)"
   ]
  },
  {
   "cell_type": "markdown",
   "id": "fc390238",
   "metadata": {},
   "source": [
    "## miniSCOT Functions"
   ]
  },
  {
   "cell_type": "code",
   "execution_count": 6,
   "id": "c100bb10",
   "metadata": {},
   "outputs": [],
   "source": [
    "def invoke_miniscot(x):\n",
    "    \"\"\"\n",
    "    Handling single API call to miniSCOT simulation given some inputs\n",
    "\n",
    "    x contains parameter configs x = [x0 x1 ...]\n",
    "    - The order of parameters in x should follow the order specified in the parameter_space declaration\n",
    "    - E.g. here we specify num_batteries = x[0]\n",
    "    \"\"\"\n",
    "\n",
    "    kwargs = {\n",
    "        'time_horizon': 336*1,\n",
    "        'num_batteries': int(x[0])\n",
    "    }\n",
    "\n",
    "    if len(x) == 2:\n",
    "        kwargs.update({\n",
    "            #'max_battery_capacity': int(x[1])\n",
    "            'battery_penalty': int(x[1])\n",
    "        })\n",
    "\n",
    "    if len(x) == 3:\n",
    "        kwargs.update({\n",
    "            'max_battery_capacity': int(x[1]),\n",
    "             #'time_horizon': int(x[2])\n",
    "            'battery_penalty': int(x[2])\n",
    "        })\n",
    "    if len(x) == 4:\n",
    "        kwargs.update({\n",
    "            'max_battery_capacity': int(x[1]),\n",
    "            'time_horizon': int(x[2]),\n",
    "            'battery_penalty': int(x[3])\n",
    "        })\n",
    "\n",
    "    cum_reward = run_simulation(**kwargs)\n",
    "    \n",
    "    return cum_reward[-1]"
   ]
  },
  {
   "cell_type": "code",
   "execution_count": 7,
   "id": "9d65f8ce",
   "metadata": {},
   "outputs": [],
   "source": [
    "def f(X):\n",
    "    \"\"\"\n",
    "    Handling multiple API calls to miniSCOT simulation given some inputs\n",
    "\n",
    "    X is a matrix of parameters\n",
    "    - Each row is a set of parameters\n",
    "    - The order of parameters in the row should follow the order specified in the parameter_space declaration\n",
    "    \"\"\"\n",
    "    Y = []\n",
    "    for x in X:\n",
    "        cum_reward = invoke_miniscot(x)\n",
    "\n",
    "        # Note that we negate the reward; want to find min\n",
    "        Y.append(-cum_reward[-1])\n",
    "\n",
    "    Y = np.reshape(np.array(Y), (-1, 1))\n",
    "    return Y"
   ]
  },
  {
   "cell_type": "code",
   "execution_count": 8,
   "id": "6872c6ab",
   "metadata": {},
   "outputs": [],
   "source": [
    "def f_multiprocess(X):\n",
    "    \"\"\"\n",
    "    Handling multiple API calls to miniSCOT simulation given some inputs using multiprocessing.\n",
    "\n",
    "    X is a matrix of parameters\n",
    "    - Each row is a set of parameters\n",
    "    - The order of parameters in the row should follow the order specified in the parameter_space declaration\n",
    "    \"\"\"\n",
    "    \n",
    "    # Set to None to use all available CPU\n",
    "    max_pool = None\n",
    "    with Pool(max_pool) as p:\n",
    "        Y = list(\n",
    "            tqdm(\n",
    "                p.imap(invoke_miniscot, X),\n",
    "                total=X.shape[0]\n",
    "            )\n",
    "        )\n",
    "\n",
    "    # Note that we negate the reward; want to find min\n",
    "    Y = -np.reshape(np.array(Y), (-1, 1))\n",
    "    return Y"
   ]
  },
  {
   "cell_type": "markdown",
   "id": "4dec5fc7",
   "metadata": {},
   "source": [
    "## Plotting Functions"
   ]
  },
  {
   "cell_type": "code",
   "execution_count": 9,
   "id": "05765963",
   "metadata": {},
   "outputs": [],
   "source": [
    "def plot_reward(X, Y, labels):\n",
    "    \"\"\"\n",
    "    Plots reward against a maximum of two dimensions.\n",
    "    \"\"\"\n",
    "\n",
    "    plt.style.use('seaborn')\n",
    "    fig = plt.figure(figsize=(12, 12))\n",
    "\n",
    "    order = np.argsort(X[:,0])\n",
    "    \n",
    "    if X.shape[1] == 1:\n",
    "        ax = plt.axes()\n",
    "        ax.plot(X[order,0], Y[order])\n",
    "        ax.set_xlabel(labels[0])\n",
    "        ax.set_ylabel(\"Cumulative reward\")\n",
    "    elif X.shape[1] == 2:\n",
    "        ax = plt.axes(projection='3d')\n",
    "        im = ax.plot_trisurf(X[order,0].flatten(), X[order,1].flatten(), Y[order].flatten(), cmap=cm.get_cmap('autumn'))\n",
    "        fig.colorbar(im)\n",
    "        ax.view_init(90, 90)\n",
    "        ax.set_xlabel(labels[0])\n",
    "        ax.set_ylabel(labels[1])\n",
    "        ax.set_zlabel(\"Cumulative reward\")  # (£/MWh)\n",
    "    else:\n",
    "        raise ValueError('X has too many dimensions to plot - max 2 allowed')\n",
    "\n",
    "    return fig, ax"
   ]
  },
  {
   "cell_type": "markdown",
   "id": "a02b00a2",
   "metadata": {},
   "source": [
    "## Specify Parameter Space"
   ]
  },
  {
   "cell_type": "code",
   "execution_count": 10,
   "id": "488e28af",
   "metadata": {},
   "outputs": [],
   "source": [
    "from scse.default_run_parameters.national_grid_default_run_parameters import DEFAULT_RUN_PARAMETERS"
   ]
  },
  {
   "cell_type": "code",
   "execution_count": 11,
   "id": "34ec78e2",
   "metadata": {},
   "outputs": [],
   "source": [
    "max_num_batteries = 1000\n",
    "min_battery_capacity = 90\n",
    "max_battery_capacity = 110\n",
    "\n",
    "# units in £/\n",
    "min_battery_penalty = DEFAULT_RUN_PARAMETERS.battery_penalty - 100000\n",
    "max_battery_penalty = DEFAULT_RUN_PARAMETERS.battery_penalty + 100000\n",
    "\n",
    "num_data_points = 10\n",
    "\n",
    "timesteps_per_week = 336\n",
    "num_weeks = 52\n",
    "time_horizon_value = timesteps_per_week*1\n",
    "\n",
    "min_time_horizon_value = timesteps_per_week * 1\n",
    "max_time_horizon_value = timesteps_per_week * 2\n",
    "\n",
    "num_batteries = DiscreteParameter('num_batteries', range(0, max_num_batteries+1))\n",
    "max_battery_capacities = DiscreteParameter('max_battery_capacity', range(min_battery_capacity, max_battery_capacity+1))\n",
    "battery_penalty = DiscreteParameter(\n",
    "    'battery_penalty', range(min_battery_penalty, max_battery_penalty+1))\n",
    "time_horizon = DiscreteParameter('time_horizon', range(min_time_horizon_value, max_time_horizon_value+1))\n",
    "\n",
    "#parameters = [num_batteries, max_battery_capacities, time_horizon, battery_penalty]\n",
    "parameters = [num_batteries, battery_penalty]\n",
    "parameter_space = ParameterSpace(parameters)"
   ]
  },
  {
   "cell_type": "code",
   "execution_count": 12,
   "id": "6dd139bc-47b3-4d0f-8e87-072a88c13998",
   "metadata": {},
   "outputs": [
    {
     "data": {
      "text/plain": [
       "array([[    124, -142626],\n",
       "       [    631, -150197],\n",
       "       [    524, -265344],\n",
       "       [    717, -210533],\n",
       "       [    351, -152465],\n",
       "       [    370, -282063],\n",
       "       [    572, -171640],\n",
       "       [    849, -165449],\n",
       "       [    113, -243915],\n",
       "       [    372, -170601]])"
      ]
     },
     "execution_count": 12,
     "metadata": {},
     "output_type": "execute_result"
    }
   ],
   "source": [
    "# Check the parameters of the intial values (X)\n",
    "\n",
    "design = RandomDesign(parameter_space)\n",
    "X = design.get_samples(num_data_points)\n",
    "X"
   ]
  },
  {
   "cell_type": "code",
   "execution_count": 13,
   "id": "bf3e98da",
   "metadata": {},
   "outputs": [
    {
     "data": {
      "application/vnd.jupyter.widget-view+json": {
       "model_id": "3ab27deaba714d088b5df7e23b05cde5",
       "version_major": 2,
       "version_minor": 0
      },
      "text/plain": [
       "  0%|          | 0/10 [00:00<?, ?it/s]"
      ]
     },
     "metadata": {},
     "output_type": "display_data"
    },
    {
     "name": "stdout",
     "output_type": "stream",
     "text": [
      "Getting 10 initial simulation points took 51.0 seconds\n"
     ]
    }
   ],
   "source": [
    "design = RandomDesign(parameter_space)\n",
    "\n",
    "# Get initial data points\n",
    "X = design.get_samples(num_data_points)\n",
    "start = time.time()\n",
    "Y = f_multiprocess(X)\n",
    "end = time.time()\n",
    "print(\"Getting {} initial simulation points took {} seconds\".format(\n",
    "    num_data_points, round(end - start, 0)))"
   ]
  },
  {
   "cell_type": "code",
   "execution_count": 14,
   "id": "82b68d6b-76bf-4507-91e8-54d5b9413cb3",
   "metadata": {},
   "outputs": [
    {
     "data": {
      "text/plain": [
       "(<Figure size 864x864 with 2 Axes>,\n",
       " <Axes3DSubplot:xlabel='num_batteries', ylabel='battery_penalty'>)"
      ]
     },
     "execution_count": 14,
     "metadata": {},
     "output_type": "execute_result"
    },
    {
     "data": {
      "image/png": "[encoded data removed]",
      "text/plain": [
       "<Figure size 864x864 with 2 Axes>"
      ]
     },
     "metadata": {},
     "output_type": "display_data"
    }
   ],
   "source": [
    "plot_reward(X, Y, parameter_space.parameter_names)\n"
   ]
  },
  {
   "cell_type": "code",
   "execution_count": null,
   "id": "b66b1981",
   "metadata": {},
   "outputs": [
    {
     "name": "stderr",
     "output_type": "stream",
     "text": [
      "INFO:GP:initializing Y\n",
      "INFO:GP:initializing inference method\n",
      "INFO:GP:adding kernel and likelihood as parameters\n",
      "WARNING:variance:reconstraining parameters GP_regression.sum.rbf.variance\n",
      "WARNING:lengthscale:reconstraining parameters GP_regression.sum.rbf.lengthscale\n"
     ]
    },
    {
     "data": {
      "text/html": [
       "<style type=\"text/css\">\n",
       ".pd{\n",
       "    font-family: \"Courier New\", Courier, monospace !important;\n",
       "    width: 100%;\n",
       "    padding: 3px;\n",
       "}\n",
       "</style>\n",
       "\n",
       "<p class=pd>\n",
       "<b>Model</b>: GP regression<br>\n",
       "<b>Objective</b>: 1188454.499280688<br>\n",
       "<b>Number of Parameters</b>: 4<br>\n",
       "<b>Number of Optimization Parameters</b>: 3<br>\n",
       "<b>Updates</b>: True<br>\n",
       "</p>\n",
       "<style type=\"text/css\">\n",
       ".tg  {font-family:\"Courier New\", Courier, monospace !important;padding:2px 3px;word-break:normal;border-collapse:collapse;border-spacing:0;border-color:#DCDCDC;margin:0px auto;width:100%;}\n",
       ".tg td{font-family:\"Courier New\", Courier, monospace !important;font-weight:bold;color:#444;background-color:#F7FDFA;border-style:solid;border-width:1px;overflow:hidden;word-break:normal;border-color:#DCDCDC;}\n",
       ".tg th{font-family:\"Courier New\", Courier, monospace !important;font-weight:normal;color:#fff;background-color:#26ADE4;border-style:solid;border-width:1px;overflow:hidden;word-break:normal;border-color:#DCDCDC;}\n",
       ".tg .tg-left{font-family:\"Courier New\", Courier, monospace !important;font-weight:normal;text-align:left;}\n",
       ".tg .tg-center{font-family:\"Courier New\", Courier, monospace !important;font-weight:normal;text-align:center;}\n",
       ".tg .tg-right{font-family:\"Courier New\", Courier, monospace !important;font-weight:normal;text-align:right;}\n",
       "</style>\n",
       "<table class=\"tg\"><tr><th><b>  GP_regression.         </b></th><th><b>             value</b></th><th><b>constraints</b></th><th><b>   priors    </b></th></tr>\n",
       "<tr><td class=tg-left>  sum.rbf.variance       </td><td class=tg-right>62451.081034388895</td><td class=tg-center>    +ve    </td><td class=tg-center>Ga(1e+04, 10)</td></tr>\n",
       "<tr><td class=tg-left>  sum.rbf.lengthscale    </td><td class=tg-right>15.917709759771107</td><td class=tg-center>    +ve    </td><td class=tg-center> Ga(10, 0.1) </td></tr>\n",
       "<tr><td class=tg-left>  sum.bias.variance      </td><td class=tg-right> 985682069.9021629</td><td class=tg-center>    +ve    </td><td class=tg-center>             </td></tr>\n",
       "<tr><td class=tg-left>  Gaussian_noise.variance</td><td class=tg-right>             1e-10</td><td class=tg-center> +ve fixed </td><td class=tg-center>             </td></tr>\n",
       "</table>"
      ],
      "text/plain": [
       "<GPy.models.gp_regression.GPRegression at 0x7fb175949340>"
      ]
     },
     "metadata": {},
     "output_type": "display_data"
    },
    {
     "name": "stderr",
     "output_type": "stream",
     "text": [
      "INFO:emukit.bayesian_optimization.loops.bayesian_optimization_loop:Batch size is 3, using LocalPenalizationPointCalculator\n",
      "INFO:emukit.core.loop.outer_loop:Starting outer loop\n",
      "INFO:emukit.core.loop.outer_loop:Iteration 0\n",
      "INFO:emukit.core.loop.model_updaters:Updating parameters of the model\n"
     ]
    },
    {
     "name": "stdout",
     "output_type": "stream",
     "text": [
      "  \u001b[1mindex\u001b[0;0m  |  GP_regression.sum.rbf.lengthscale  |  constraints  |    priors   \n",
      "  \u001b[1m[0]  \u001b[0;0m  |                        15.91770976  |      +ve      |  Ga(10, 0.1)\n"
     ]
    },
    {
     "name": "stderr",
     "output_type": "stream",
     "text": [
      "INFO:emukit.core.optimization.gradient_acquisition_optimizer:Starting gradient-based optimization of acquisition function <class 'emukit.core.acquisition.acquisition.Sum'>\n",
      "INFO:emukit.core.optimization.gradient_acquisition_optimizer:Starting gradient-based optimization of acquisition function <class 'emukit.core.acquisition.acquisition.Sum'>\n",
      "INFO:emukit.core.optimization.gradient_acquisition_optimizer:Starting gradient-based optimization of acquisition function <class 'emukit.core.acquisition.acquisition.Sum'>\n",
      "INFO:emukit.core.loop.user_function:Evaluating user function for 3 point(s)\n"
     ]
    },
    {
     "data": {
      "application/vnd.jupyter.widget-view+json": {
       "model_id": "84aa9c69b4574adcac6fc3ad59ed3283",
       "version_major": 2,
       "version_minor": 0
      },
      "text/plain": [
       "  0%|          | 0/3 [00:00<?, ?it/s]"
      ]
     },
     "metadata": {},
     "output_type": "display_data"
    },
    {
     "name": "stderr",
     "output_type": "stream",
     "text": [
      "INFO:emukit.core.loop.outer_loop:Iteration 1\n",
      "INFO:emukit.core.loop.model_updaters:Updating parameters of the model\n",
      "INFO:emukit.core.optimization.gradient_acquisition_optimizer:Starting gradient-based optimization of acquisition function <class 'emukit.core.acquisition.acquisition.Sum'>\n",
      "INFO:emukit.core.optimization.gradient_acquisition_optimizer:Starting gradient-based optimization of acquisition function <class 'emukit.core.acquisition.acquisition.Sum'>\n",
      "INFO:emukit.core.optimization.gradient_acquisition_optimizer:Starting gradient-based optimization of acquisition function <class 'emukit.core.acquisition.acquisition.Sum'>\n",
      "INFO:emukit.core.loop.user_function:Evaluating user function for 3 point(s)\n"
     ]
    },
    {
     "data": {
      "application/vnd.jupyter.widget-view+json": {
       "model_id": "ddf544f3555a40519e0b2d47ad714e53",
       "version_major": 2,
       "version_minor": 0
      },
      "text/plain": [
       "  0%|          | 0/3 [00:00<?, ?it/s]"
      ]
     },
     "metadata": {},
     "output_type": "display_data"
    },
    {
     "name": "stderr",
     "output_type": "stream",
     "text": [
      "INFO:emukit.core.loop.outer_loop:Iteration 2\n",
      "INFO:emukit.core.loop.model_updaters:Updating parameters of the model\n",
      "INFO:emukit.core.optimization.gradient_acquisition_optimizer:Starting gradient-based optimization of acquisition function <class 'emukit.core.acquisition.acquisition.Sum'>\n",
      "INFO:emukit.core.optimization.gradient_acquisition_optimizer:Starting gradient-based optimization of acquisition function <class 'emukit.core.acquisition.acquisition.Sum'>\n",
      "INFO:emukit.core.optimization.gradient_acquisition_optimizer:Starting gradient-based optimization of acquisition function <class 'emukit.core.acquisition.acquisition.Sum'>\n",
      "INFO:emukit.core.loop.user_function:Evaluating user function for 3 point(s)\n"
     ]
    },
    {
     "data": {
      "application/vnd.jupyter.widget-view+json": {
       "model_id": "1b79c5caa5464d68a802be1716f38ea2",
       "version_major": 2,
       "version_minor": 0
      },
      "text/plain": [
       "  0%|          | 0/3 [00:00<?, ?it/s]"
      ]
     },
     "metadata": {},
     "output_type": "display_data"
    }
   ],
   "source": [
    "# Kernel Specification; specify active dimensions\n",
    "kr = GPy.kern.RBF(input_dim=X.shape[1]-1, active_dims=[0], ARD=True)  # exclude time dim\n",
    "kb = GPy.kern.Bias(input_dim=X.shape[1]-1, active_dims=[0])\n",
    "kernel = kr+kb\n",
    "\n",
    "# Some prior distributions for model parameters\n",
    "v_prior = GPy.priors.Gamma.from_EV(1000, 100.)\n",
    "l_prior = GPy.priors.Gamma.from_EV(100, 1000.)\n",
    "\n",
    "# Some prior distributions for model parameters\n",
    "gpy_model = GPy.models.GPRegression(X, Y, kernel, noise_var=1e-10)\n",
    "gpy_model.kern.rbf.variance.set_prior(v_prior)\n",
    "gpy_model.kern.rbf.lengthscale.set_prior(l_prior)\n",
    "gpy_model.Gaussian_noise.variance.constrain_fixed()\n",
    "\n",
    "# gpy_model.optimize()\n",
    "gpy_model.optimize_restarts(\n",
    "    num_restarts=10, robust=False, verbose=False, messages=False)\n",
    "\n",
    "# Logging GP fit\n",
    "_ = gpy_model.plot(visible_dims=[0,1])\n",
    "display(gpy_model)\n",
    "print(gpy_model.kern.rbf.lengthscale)\n",
    "\n",
    "model_emukit = GPyModelWrapper(gpy_model)\n",
    "\n",
    "run_bo = True\n",
    "if run_bo:\n",
    "    # ======== Run BO to acquire points but also fit GP =========\n",
    "\n",
    "    # Choose acquisition function\n",
    "    ei_acq = ExpectedImprovement(model_emukit)\n",
    "    acq_func = ei_acq\n",
    "\n",
    "    # Load core elements for Bayesian optimization\n",
    "    optimizer = GradientAcquisitionOptimizer(space=parameter_space)\n",
    "\n",
    "    # Create the Bayesian optimization object\n",
    "    batch_size = 3\n",
    "    bayesopt_loop = BayesianOptimizationLoop(model=model_emukit,\n",
    "                                            space=parameter_space,\n",
    "                                            acquisition=acq_func,\n",
    "                                            batch_size=batch_size)\n",
    "\n",
    "    # Run the loop and extract the optimum;  we either complete 10 steps or converge\n",
    "    max_iters = 5\n",
    "    epsilon = 0.01\n",
    "    stopping_condition = (FixedIterationsStoppingCondition(\n",
    "        i_max=max_iters) | ConvergenceStoppingCondition(eps=epsilon))\n",
    "\n",
    "    start = time.time()\n",
    "    bayesopt_loop.run_loop(f_multiprocess, stopping_condition)\n",
    "    end = time.time()\n",
    "    print(\"Successfully ran loop\")"
   ]
  },
  {
   "cell_type": "code",
   "execution_count": null,
   "id": "145883b6-e20b-46ec-ae19-32fd349e7c71",
   "metadata": {},
   "outputs": [],
   "source": [
    "new_X, new_Y = bayesopt_loop.loop_state.X, bayesopt_loop.loop_state.Y\n",
    "\n",
    "new_order = np.argsort(new_X[:,0])\n",
    "new_X = new_X[new_order,:]\n",
    "new_Y = new_Y[new_order]\n",
    "plot_reward(new_X, new_Y, parameter_space.parameter_names)"
   ]
  },
  {
   "cell_type": "code",
   "execution_count": null,
   "id": "340facf3-a24f-423d-91b3-93a10f94bd21",
   "metadata": {},
   "outputs": [],
   "source": [
    "plt.style.use('seaborn')\n",
    "fig = plt.figure(figsize=(12, 12))\n",
    "ax = plt.axes(projection='3d')\n",
    "\n",
    "im = ax.plot_trisurf(new_X[:, 0].flatten(), new_X[:, 1].flatten(\n",
    "), new_Y.flatten(), cmap=cm.get_cmap('autumn'), alpha=0.75)\n",
    "fig.colorbar(im)\n",
    "\n",
    "ax.scatter(X[:, 0].flatten(), X[:, 1].flatten(), Y.flatten(),\n",
    "           s=100, marker=\"o\", color=\"b\", label=\"Initial observations\")\n",
    "ax.scatter(new_X[:, 0].flatten(), new_X[:, 1].flatten(),\n",
    "           new_Y.flatten(), marker=\"x\", color=\"r\", label=\"All observations\")\n",
    "\n",
    "ax.legend(loc=2, prop={'size': 14})\n",
    "ax.set_xlabel(r\"$x_1$\")\n",
    "ax.set_ylabel(r\"$x_2$\")\n",
    "ax.set_ylabel(r\"$f(x)$\")\n",
    "ax.grid(True)\n",
    "plt.show()"
   ]
  },
  {
   "cell_type": "code",
   "execution_count": null,
   "id": "3884183c-88ee-4bd4-95e6-de8027b61c85",
   "metadata": {},
   "outputs": [],
   "source": [
    "plt.style.use('seaborn')\n",
    "fig = plt.figure(figsize=(12, 12))\n",
    "ax = plt.axes(projection='3d')\n",
    "\n",
    "im = ax.plot_trisurf(new_X[:, 0].flatten(), new_X[:, 1].flatten(\n",
    "), new_Y.flatten(), cmap=cm.get_cmap('autumn'), alpha=0.75)\n",
    "fig.colorbar(im)\n",
    "\n",
    "ax.scatter(X[:, 0].flatten(), X[:, 1].flatten(), Y.flatten(),\n",
    "           s=100, marker=\"o\", color=\"b\", label=\"Initial observations\")\n",
    "ax.scatter(new_X[:, 0].flatten(), new_X[:, 1].flatten(),\n",
    "           new_Y.flatten(), marker=\"x\", color=\"r\", label=\"All observations\")\n",
    "\n",
    "ax.legend(loc=2, prop={'size': 14})\n",
    "ax.set_xlabel(r\"$x_1$\")\n",
    "ax.set_ylabel(r\"$x_2$\")\n",
    "ax.set_ylabel(r\"$f(x)$\")\n",
    "ax.grid(True)\n",
    "ax.view_init(90, 90)\n",
    "plt.show()"
   ]
  },
  {
   "cell_type": "code",
   "execution_count": null,
   "id": "ad617f7a",
   "metadata": {},
   "outputs": [],
   "source": []
  },
  {
   "cell_type": "code",
   "execution_count": null,
   "id": "b59b05da",
   "metadata": {},
   "outputs": [],
   "source": []
  },
  {
   "cell_type": "code",
   "execution_count": 19,
   "id": "fb19943a",
   "metadata": {},
   "outputs": [],
   "source": [
    "from emukit.sensitivity.monte_carlo import MonteCarloSensitivity, ModelFreeMonteCarloSensitivity\n",
    "\n",
    "# Use emulator model\n",
    "sens_sim = ModelFreeMonteCarloSensitivity(f_multiprocess, parameter_space)\n",
    "sens_emu = MonteCarloSensitivity(model_emukit, parameter_space)"
   ]
  },
  {
   "cell_type": "markdown",
   "id": "2310d3b5",
   "metadata": {},
   "source": [
    "Since running Monte Carlo on the simulator is prohibitively expensive, we evaluate the MC effects on the emulator. \n",
    "\n",
    "(I just might run the MC on simulator overnight to compare the accuracy of results)"
   ]
  },
  {
   "cell_type": "code",
   "execution_count": 20,
   "id": "08b40096",
   "metadata": {},
   "outputs": [
    {
     "data": {
      "text/plain": [
       "{'num_batteries': array([1.00002631]), 'battery_penalty': array([-0.00551398])}"
      ]
     },
     "execution_count": 20,
     "metadata": {},
     "output_type": "execute_result"
    }
   ],
   "source": [
    "num_mc = 100000\n",
    "main_effects, total_effects, _ = sens_emu.compute_effects(\n",
    "    num_monte_carlo_points=num_mc)\n",
    "\n",
    "main_effects"
   ]
  },
  {
   "cell_type": "code",
   "execution_count": 21,
   "id": "450b2148",
   "metadata": {},
   "outputs": [
    {
     "data": {
      "text/plain": [
       "{'num_batteries': array([1.00551398]), 'battery_penalty': array([0.00668637])}"
      ]
     },
     "execution_count": 21,
     "metadata": {},
     "output_type": "execute_result"
    }
   ],
   "source": [
    "total_effects"
   ]
  },
  {
   "cell_type": "code",
   "execution_count": null,
   "id": "45efaf6d-ba9e-4103-a874-3ddbf7cfbb61",
   "metadata": {},
   "outputs": [],
   "source": []
  },
  {
   "cell_type": "code",
   "execution_count": null,
   "id": "ff89c784",
   "metadata": {},
   "outputs": [],
   "source": [
    "# playground code to generate 3D grid\n",
    "m_X, m_Y, m_Z = np.mgrid[1:max_num_batteries+1:1, min_battery_capacity:\n",
    "                         max_battery_capacity+1:1, min_battery_penalty:max_battery_penalty+1:1]\n",
    "\n",
    "positions = np.vstack([m_X.ravel(), m_Y.ravel(), m_Z.ravel()]).T\n",
    "positions_with_time = np.append(positions, np.reshape(\n",
    "    np.array([time_horizon_value for _ in range(positions.shape[0])]), (-1, 1)), axis=1)\n",
    "\n",
    "mu_plot, var_plot = model_emukit.predict(positions_with_time)"
   ]
  },
  {
   "cell_type": "markdown",
   "id": "7df909ee",
   "metadata": {},
   "source": [
    "Plotting some GP  fit"
   ]
  },
  {
   "cell_type": "code",
   "execution_count": null,
   "id": "9b4ad0f4",
   "metadata": {},
   "outputs": [],
   "source": [
    "# # Get acquired data\n",
    "# new_X, new_Y = bayesopt_loop.loop_state.X, bayesopt_loop.loop_state.Y\n",
    "# new_order = np.argsort(new_X[:, 0])\n",
    "# new_X = new_X[new_order, :]\n",
    "# new_Y = new_Y[new_order]\n",
    "# total_num_points = new_Y.shape[0]\n",
    "# num_eval_points = total_num_points-num_data_points\n",
    "# print(\"Getting {} simulation points (batch size {}) took {} seconds\".format(\n",
    "#     num_eval_points, batch_size, round(end - start, 0)))\n",
    "\n",
    "# results = bayesopt_loop.get_results()\n",
    "# print(\"minimum X: \", end='')\n",
    "# print(results.minimum_location)\n",
    "# print(\"minimum Y: \", end='')\n",
    "# print(round(results.minimum_value, 0))\n",
    "\n",
    "# print(\"Number of (new) points evaluated: {} (batch size {})\".format(\n",
    "#     num_eval_points, batch_size))\n",
    "\n",
    "# Plot 3D decision boundary\n",
    "mesh_X, mesh_Y = np.mgrid[1:max_num_batteries+1:1,\n",
    "                          min_battery_penalty:max_battery_penalty+1:1]\n",
    "positions = np.vstack([mesh_X.ravel(), mesh_Y.ravel()]).T\n",
    "positions_with_time = np.append(positions, np.reshape(\n",
    "    np.array([time_horizon_value for _ in range(positions.shape[0])]), (-1, 1)), axis=1)\n",
    "\n",
    "mu_plot, var_plot = model_emukit.predict(positions_with_time)\n",
    "kwargs = {\n",
    "    'X': X,\n",
    "    'Y': Y,\n",
    "    # 'plot_new': True,\n",
    "    # 'new_X': new_X,\n",
    "    # 'new_Y': new_Y,\n",
    "    'mesh_X': mesh_X,\n",
    "    'mesh_Y': mesh_Y,\n",
    "    'mu_plot': mu_plot,\n",
    "    'var_plot': var_plot,\n",
    "    'title': \"GP fit post BO loop\",\n",
    "    'plot_ci': False,\n",
    "    'elev': 10,\n",
    "    'angle': 80\n",
    "    # 'save_fig_path': \"img/time_horizon/{}/{}_sim\".format(num_days, num_days),\n",
    "}\n",
    "fig, ax = plot_3d_boundary(**kwargs)\n",
    "\n",
    "kwargs = {\n",
    "    'X': X,\n",
    "    'Y': Y,\n",
    "    'plot_new': False,\n",
    "    # 'new_X': new_X,\n",
    "    # 'new_Y': new_Y,\n",
    "    'elev': 10,\n",
    "    'angle': -90,\n",
    "    'title': \"Observed rewards\"\n",
    "    # 'save_fig_path': \"img/time_horizon/{}/{}_obs\".format(num_days, num_days)\n",
    "}\n",
    "fig, ax = plot_3d_observed_rewards(**kwargs)\n"
   ]
  },
  {
   "cell_type": "markdown",
   "id": "03125837",
   "metadata": {},
   "source": [
    "## Time Horizon"
   ]
  },
  {
   "cell_type": "code",
   "execution_count": null,
   "id": "42cc1300",
   "metadata": {},
   "outputs": [],
   "source": [
    "import os\n",
    "\n",
    "all_results = {}\n",
    "for num_days in [1, 10, 30, 60]:\n",
    "    config_res = {}\n",
    "\n",
    "    timesteps_per_day = timesteps_per_week/7\n",
    "    time_horizon_value = timesteps_per_day*num_days\n",
    "    \n",
    "    print('')\n",
    "    print(20*'=' + \" Simulating with time horizon of {} days \".format(num_days) + 20*'=')\n",
    "\n",
    "    # Specify time horizon here changing time_horizon_value above\n",
    "    time_horizon = DiscreteParameter('time_horizon', [time_horizon_value])\n",
    "\n",
    "    parameters = [num_batteries, max_battery_capacities, time_horizon]\n",
    "    parameter_space = ParameterSpace(parameters)\n",
    "\n",
    "    design = RandomDesign(parameter_space)\n",
    "\n",
    "    # Get initial data points\n",
    "    X = design.get_samples(num_data_points)\n",
    "    start = time.time()\n",
    "    Y = f_multiprocess(X)\n",
    "    end = time.time()\n",
    "    print(\"Getting {} initial simulation points took {} seconds\".format(num_data_points, round(end - start, 0)))\n",
    "    \n",
    "    # Kernel Specification\n",
    "    kr = GPy.kern.RBF(input_dim=X.shape[1]-1, ARD=True)  # exclude time dim\n",
    "    kb = GPy.kern.Bias(input_dim=X.shape[1]-1)\n",
    "    kernel = kr+kb\n",
    "\n",
    "    # Some prior distributions for model parameters\n",
    "    v_prior = GPy.priors.Gamma.from_EV(1000, 100.)\n",
    "    l_prior = GPy.priors.Gamma.from_EV(100, 1000.)\n",
    "\n",
    "    # Some prior distributions for model parameters\n",
    "    gpy_model = GPy.models.GPRegression(X, Y, kernel, noise_var=1e-10)\n",
    "    gpy_model.kern.rbf.variance.set_prior(v_prior)\n",
    "    gpy_model.kern.rbf.lengthscale.set_prior(l_prior)\n",
    "    gpy_model.Gaussian_noise.variance.constrain_fixed()\n",
    "\n",
    "    # gpy_model.optimize()\n",
    "    gpy_model.optimize_restarts(\n",
    "        num_restarts=10, robust=False, verbose=False, messages=False)\n",
    "\n",
    "    # Logging GP fit\n",
    "    # _ = gpy_model.plot()\n",
    "    # print(gpy_model.kern.rbf.variance)\n",
    "    display(gpy_model)\n",
    "    print(gpy_model.kern.rbf.lengthscale)\n",
    "\n",
    "    model_emukit = GPyModelWrapper(gpy_model)\n",
    "\n",
    "    # Plot 3D decision boundary\n",
    "    mesh_X, mesh_Y = np.mgrid[1:max_num_batteries+1:1,\n",
    "                            min_battery_capacity:max_battery_capacity+1:1]\n",
    "    positions = np.vstack([mesh_X.ravel(), mesh_Y.ravel()]).T\n",
    "    positions_with_time = np.append(positions, np.reshape(\n",
    "        np.array([time_horizon_value for _ in range(positions.shape[0])]), (-1, 1)), axis=1)\n",
    "\n",
    "    mu_plot, var_plot = model_emukit.predict(positions_with_time)\n",
    "    os.mkdir('img/time_horizon/{}/'.format(num_days))\n",
    "    kwargs = {\n",
    "        'X': X,\n",
    "        'Y': Y,\n",
    "        'mesh_X': mesh_X,\n",
    "        'mesh_Y': mesh_Y,\n",
    "        'mu_plot': mu_plot,\n",
    "        'var_plot': var_plot,\n",
    "        'title': \"Initial GP fit - time horizon of {} days\".format(num_days),\n",
    "        'elev': 5,\n",
    "        'angle': 90,\n",
    "        'dpi': 80,\n",
    "        'save_fig_path': \"img/time_horizon/{}/{}_init\".format(num_days, num_days)\n",
    "    }\n",
    "    fig, ax = plot_3d_boundary(**kwargs)\n",
    "\n",
    "    # Choose acquisition function\n",
    "    ei_acq = ExpectedImprovement(model_emukit)\n",
    "    acq_func = ei_acq\n",
    "\n",
    "    # Load core elements for Bayesian optimization\n",
    "    optimizer = GradientAcquisitionOptimizer(space=parameter_space)\n",
    "\n",
    "    # Create the Bayesian optimization object\n",
    "    batch_size = 8\n",
    "    bayesopt_loop = BayesianOptimizationLoop(model=model_emukit,\n",
    "                                            space=parameter_space,\n",
    "                                            acquisition=acq_func,\n",
    "                                            batch_size=batch_size)\n",
    "\n",
    "    # Run the loop and extract the optimum;  we either complete 10 steps or converge\n",
    "    max_iters = 1\n",
    "    epsilon = 0.01\n",
    "    stopping_condition = (FixedIterationsStoppingCondition(\n",
    "        i_max=max_iters) | ConvergenceStoppingCondition(eps=epsilon))\n",
    "\n",
    "    start = time.time()\n",
    "    bayesopt_loop.run_loop(f_multiprocess, stopping_condition)\n",
    "    end = time.time()\n",
    "    print(\"Successfully ran loop\")\n",
    "    successful_sample = True\n",
    "\n",
    "    # Get acquired data\n",
    "    new_X, new_Y = bayesopt_loop.loop_state.X, bayesopt_loop.loop_state.Y\n",
    "    new_order = np.argsort(new_X[:, 0])\n",
    "    new_X = new_X[new_order, :]\n",
    "    new_Y = new_Y[new_order]\n",
    "    total_num_points = new_Y.shape[0]\n",
    "    num_eval_points = total_num_points-num_data_points\n",
    "    print(\"Getting {} simulation points (batch size {}) took {} seconds\".format(num_eval_points, batch_size, round(end - start, 0)))\n",
    "\n",
    "    results = bayesopt_loop.get_results()\n",
    "    print(\"minimum X: \", end='')\n",
    "    print(results.minimum_location)\n",
    "    print(\"minimum Y: \", end='')\n",
    "    print(round(results.minimum_value, 0))\n",
    "\n",
    "    print(\"Number of (new) points evaluated: {} (batch size {})\".format(\n",
    "        num_eval_points, batch_size))\n",
    "\n",
    "    # Save model\n",
    "    config_res['model'] = gpy_model.to_dict()\n",
    "    config_res['best_reward'] = (results.minimum_location, results.minimum_value)\n",
    "    config_res['num_data_points'] = num_data_points # number of initial data points\n",
    "    config_res['num_eval_points'] = num_eval_points # num of BO points evaluated\n",
    "    config_res['batch_size'] = batch_size\n",
    "    config_res['max_iters'] = max_iters\n",
    "    config_res['epsilon'] = epsilon\n",
    "    config_res['eval_iters'] = num_eval_points//batch_size\n",
    "    config_res['eval_time'] = round(end-start, 0)\n",
    "\n",
    "    # Plot 3D decision boundary\n",
    "    mesh_X, mesh_Y = np.mgrid[1:max_num_batteries+1:1,\n",
    "                            min_battery_capacity:max_battery_capacity+1:1]\n",
    "    positions = np.vstack([mesh_X.ravel(), mesh_Y.ravel()]).T\n",
    "    positions_with_time = np.append(positions, np.reshape(\n",
    "        np.array([time_horizon_value for _ in range(positions.shape[0])]), (-1, 1)), axis=1)\n",
    "\n",
    "    mu_plot, var_plot = model_emukit.predict(positions_with_time)\n",
    "    kwargs = {\n",
    "        'X': X,\n",
    "        'Y': Y,\n",
    "        'plot_new': True,\n",
    "        'new_X': new_X,\n",
    "        'new_Y': new_Y,\n",
    "        'mesh_X': mesh_X,\n",
    "        'mesh_Y': mesh_Y,\n",
    "        'mu_plot': mu_plot,\n",
    "        'var_plot': var_plot,\n",
    "        'title': \"GP fit with {} total points - time horizon of {} days\".format(total_num_points, num_days),\n",
    "        'plot_ci': False,\n",
    "        'elev': 10,\n",
    "        'angle': 120,\n",
    "        'save_fig_path': \"img/time_horizon/{}/{}_sim\".format(num_days, num_days),\n",
    "    }\n",
    "    fig, ax = plot_3d_boundary(**kwargs)\n",
    "\n",
    "    kwargs = {\n",
    "        'X': X,\n",
    "        'Y': Y,\n",
    "        'new_X': new_X,\n",
    "        'new_Y': new_Y,\n",
    "        'elev': 10,\n",
    "        'angle': 120,\n",
    "        'title': \"Observed rewards - time horizon of {} days\".format(num_days),\n",
    "        'save_fig_path': \"img/time_horizon/{}/{}_obs\".format(num_days, num_days)\n",
    "    }\n",
    "    fig, ax = plot_3d_observed_rewards(**kwargs)\n",
    "\n",
    "    # Save results\n",
    "    config_res['mu_plot'] = mu_plot\n",
    "    config_res['var_plot'] = var_plot\n",
    "    all_results[num_days] = config_res"
   ]
  },
  {
   "cell_type": "code",
   "execution_count": null,
   "id": "1160e85d",
   "metadata": {},
   "outputs": [],
   "source": [
    "print(parameter_space.parameter_names)\n",
    "for days in all_results.keys():\n",
    "    min_X, min_Y = all_results[days]['best_reward']\n",
    "    print(min_X, end='\\t')\n",
    "    print(min_X[2]/48, end='\\t')\n",
    "    print(round(min_Y))"
   ]
  },
  {
   "cell_type": "markdown",
   "id": "77a7dbcc",
   "metadata": {},
   "source": [
    "Get rewards of initial set of points"
   ]
  },
  {
   "cell_type": "code",
   "execution_count": null,
   "id": "da8b4e31",
   "metadata": {},
   "outputs": [],
   "source": [
    "Y = f_multiprocess(X)"
   ]
  },
  {
   "cell_type": "markdown",
   "id": "70ca99d8",
   "metadata": {},
   "source": [
    "Specify kernels, priors, fit GP to initial set, log the GP, plot initial fit"
   ]
  },
  {
   "cell_type": "code",
   "execution_count": null,
   "id": "45c50d7c",
   "metadata": {},
   "outputs": [],
   "source": [
    "# Kernel Specification\n",
    "kr = GPy.kern.RBF(input_dim=X.shape[1]-1, ARD=True) # exclude time dim\n",
    "kb = GPy.kern.Bias(input_dim=X.shape[1]-1)\n",
    "kernel = kr+kb\n",
    "\n",
    "# Some prior distributions for model parameters\n",
    "v_prior = GPy.priors.Gamma.from_EV(1000, 100.)\n",
    "l_prior = GPy.priors.Gamma.from_EV(100, 1000.)\n",
    "\n",
    "# Some prior distributions for model parameters\n",
    "gpy_model = GPy.models.GPRegression(X, Y, kernel, noise_var=1e-10)\n",
    "gpy_model.kern.rbf.variance.set_prior(v_prior)\n",
    "gpy_model.kern.rbf.lengthscale.set_prior(l_prior)\n",
    "gpy_model.Gaussian_noise.variance.constrain_fixed()\n",
    "\n",
    "# gpy_model.optimize()\n",
    "gpy_model.optimize_restarts(num_restarts=10, robust=False, verbose=False, messages=False)\n",
    "\n",
    "# Logging GP fit\n",
    "# _ = gpy_model.plot()\n",
    "# print(gpy_model.kern.rbf.variance)\n",
    "display(gpy_model)\n",
    "print(gpy_model.kern.rbf.lengthscale)\n",
    "\n",
    "model_emukit = GPyModelWrapper(gpy_model)\n",
    "\n",
    "# Plot 3D decision boundary\n",
    "mesh_X, mesh_Y = np.mgrid[1:max_num_batteries+1:1,\n",
    "                          min_battery_capacity:max_battery_capacity+1:1]\n",
    "positions = np.vstack([mesh_X.ravel(), mesh_Y.ravel()]).T\n",
    "positions_with_time = np.append(positions, np.reshape(\n",
    "    np.array([time_horizon_value for _ in range(positions.shape[0])]), (-1, 1)), axis=1)\n",
    "\n",
    "mu_plot, var_plot = model_emukit.predict(positions_with_time)\n",
    "kwargs = {\n",
    "    'X': X,\n",
    "    'Y': Y,\n",
    "    'mesh_X': mesh_X,\n",
    "    'mesh_Y': mesh_Y,\n",
    "    'mu_plot': mu_plot,\n",
    "    'var_plot': var_plot,\n",
    "    'elev': 5,\n",
    "    'angle': 90\n",
    "}\n",
    "fig, ax = plot_3d_boundary(**kwargs)"
   ]
  },
  {
   "cell_type": "markdown",
   "id": "735facdf",
   "metadata": {},
   "source": [
    "Specify acq function, run BO, print best reward found"
   ]
  },
  {
   "cell_type": "code",
   "execution_count": null,
   "id": "3aa87d47",
   "metadata": {},
   "outputs": [],
   "source": [
    "# Choose acquisition function\n",
    "ei_acq = ExpectedImprovement(model_emukit)\n",
    "acq_func = ei_acq\n",
    "\n",
    "# Load core elements for Bayesian optimization\n",
    "optimizer = GradientAcquisitionOptimizer(space=parameter_space)\n",
    "\n",
    "# Create the Bayesian optimization object\n",
    "batch_size = 3\n",
    "bayesopt_loop = BayesianOptimizationLoop(model=model_emukit,\n",
    "                                         space=parameter_space,\n",
    "                                         acquisition=acq_func,\n",
    "                                         batch_size=batch_size)\n",
    "\n",
    "# Run the loop and extract the optimum;  we either complete 10 steps or converge\n",
    "max_iters = 3\n",
    "epsilon = 0.01\n",
    "stopping_condition = (FixedIterationsStoppingCondition(\n",
    "    i_max=max_iters) | ConvergenceStoppingCondition(eps=epsilon))\n",
    "\n",
    "bayesopt_loop.run_loop(f_multiprocess, stopping_condition)\n",
    "print(\"Successfully ran loop\")\n",
    "successful_sample = True\n",
    "\n",
    "# Get acquired data\n",
    "new_X, new_Y = bayesopt_loop.loop_state.X, bayesopt_loop.loop_state.Y\n",
    "new_order = np.argsort(new_X[:, 0])\n",
    "new_X = new_X[new_order, :]\n",
    "new_Y = new_Y[new_order]\n",
    "total_num_points = new_Y.shape[0]\n",
    "\n",
    "results = bayesopt_loop.get_results()\n",
    "print(\"minimum X: \")\n",
    "print(results.minimum_location)\n",
    "print(\"minimum Y: \")\n",
    "print(results.minimum_value)\n",
    "\n",
    "print(\"Number of (new) points evaluated: {} (batch size {})\".format(\n",
    "    total_num_points-num_data_points, batch_size))\n",
    "\n",
    "print(results.best_found_value_per_iteration)"
   ]
  },
  {
   "cell_type": "markdown",
   "id": "7e872ae0",
   "metadata": {},
   "source": [
    "Plot the resulting 3D decision boundary"
   ]
  },
  {
   "cell_type": "code",
   "execution_count": null,
   "id": "063dc065",
   "metadata": {},
   "outputs": [],
   "source": [
    "# Plot 3D decision boundary\n",
    "mesh_X, mesh_Y = np.mgrid[1:max_num_batteries+1:1,\n",
    "                          min_battery_capacity:max_battery_capacity+1:1]\n",
    "positions = np.vstack([mesh_X.ravel(), mesh_Y.ravel()]).T\n",
    "positions_with_time = np.append(positions, np.reshape(\n",
    "    np.array([time_horizon_value for _ in range(positions.shape[0])]), (-1, 1)), axis=1)\n",
    "\n",
    "\n",
    "mu_plot, var_plot = model_emukit.predict(positions_with_time)\n",
    "kwargs = {\n",
    "    'X': X,\n",
    "    'Y': Y,\n",
    "    'plot_new': True,\n",
    "    'new_X': new_X,\n",
    "    'new_Y': new_Y,\n",
    "    'mesh_X': mesh_X,\n",
    "    'mesh_Y': mesh_Y,\n",
    "    'mu_plot': mu_plot,\n",
    "    'var_plot': var_plot,\n",
    "    'plot_ci': False,\n",
    "    'elev': 10,\n",
    "    'angle': 120,\n",
    "    'z_lims': (min(new_Y), 1e6)\n",
    "}\n",
    "fig, ax = plot_3d_boundary(**kwargs)\n"
   ]
  },
  {
   "cell_type": "code",
   "execution_count": null,
   "id": "4496a3b4",
   "metadata": {},
   "outputs": [],
   "source": [
    "kwargs = {\n",
    "    'X': X,\n",
    "    'Y': Y,\n",
    "    'new_X': new_X,\n",
    "    'new_Y': new_Y,\n",
    "    'elev': 0,\n",
    "    'angle': 100,\n",
    "    'z_lims': (min(new_Y)-1e5, 1e6)\n",
    "}\n",
    "fig, ax = plot_3d_observed_rewards(**kwargs)\n",
    "plt.show()"
   ]
  },
  {
   "cell_type": "code",
   "execution_count": null,
   "id": "6bc8582f",
   "metadata": {},
   "outputs": [],
   "source": [
    "results = bayesopt_loop.get_results()\n",
    "results.minimum_location, results.minimum_value # , results.best_found_value_per_iteration"
   ]
  },
  {
   "cell_type": "markdown",
   "id": "61e7c087",
   "metadata": {},
   "source": [
    "Plot 3D decision boundary"
   ]
  },
  {
   "cell_type": "code",
   "execution_count": null,
   "id": "c26c1b3c",
   "metadata": {},
   "outputs": [],
   "source": [
    "# Plot 3D decision boundary\n",
    "mesh_X, mesh_Y = np.mgrid[1:max_num_batteries+1:1,\n",
    "                          min_battery_capacity:max_battery_capacity+1:1]\n",
    "positions = np.vstack([mesh_X.ravel(), mesh_Y.ravel()]).T\n",
    "\n",
    "mu_plot, var_plot = model_emukit.predict(positions)\n",
    "\n",
    "fig = plt.figure(figsize=(15, 15))\n",
    "ax = fig.gca(projection='3d')\n",
    "surf = ax.plot_surface(mesh_X, mesh_Y, mu_plot.reshape(\n",
    "    (1000, 21)), cmap='viridis', linewidth=0, antialiased=False, alpha=0.60)\n",
    "\n",
    "# surf_var = ax.plot_surface(mesh_X, mesh_Y, (mu_plot-var_plot).reshape((1000, 21)), cmap='viridis', linewidth=0, antialiased=False, alpha=0.10)\n",
    "# surf_var = ax.plot_surface(me sh_X, mesh_Y, (mu_plot+var_plot).reshape((1000, 21)), cmap='viridis', linewidth=0, antialiased=False, alpha=0.20)\n",
    "\n",
    "# fig.colorbar(surf)\n",
    "\n",
    "ax.scatter(X[:, 0].flatten(), X[:, 1].flatten(), Y.flatten(),\n",
    "           s=100, marker=\"o\", color=\"b\", label=\"Initial observations\")\n",
    "ax.scatter(new_X[:, 0].flatten(), new_X[:, 1].flatten(),\n",
    "           new_Y.flatten(), marker=\"x\", color=\"r\", label=\"All observations\", s=100)\n",
    "\n",
    "ax.grid(True)\n",
    "ax.set_xlabel(\"Num batteries\")\n",
    "ax.set_ylabel(\"Battery capacity\")\n",
    "ax.set_zlabel(\"Cumulative reward\")\n",
    "plt.title(\"GP mean with {}\".format(gpy_model.kern.name))\n",
    "plt.legend(loc='upper right', prop={'size': 15})\n",
    "\n",
    "# for angle in range(0, 360, 40):\n",
    "ax.view_init(elev=10., azim=80)\n",
    "\n",
    "plt.show()\n"
   ]
  },
  {
   "cell_type": "markdown",
   "id": "d30b1f9b",
   "metadata": {},
   "source": [
    "Plot actual observation surface"
   ]
  },
  {
   "cell_type": "code",
   "execution_count": null,
   "id": "10d36617",
   "metadata": {},
   "outputs": [],
   "source": [
    "fig = plt.figure(figsize=(20, 20))\n",
    "ax = plt.axes(projection='3d')\n",
    "\n",
    "new_X, new_Y = bayesopt_loop.loop_state.X, bayesopt_loop.loop_state.Y\n",
    "new_order = np.argsort(new_X[:, 0])\n",
    "new_X = new_X[new_order, :]\n",
    "new_Y = new_Y[new_order]\n",
    "\n",
    "x_plot = np.reshape(\n",
    "    np.array([i for i in range(0, max_num_batteries)]), (-1, 1))\n",
    "X_plot = np.append(x_plot, np.reshape(\n",
    "    [100 for i in range(max_num_batteries)], (-1, 1)), axis=1)\n",
    "mu_plot, var_plot = model_emukit.predict(X_plot)\n",
    "\n",
    "im = ax.plot_trisurf(new_X[:, 0].flatten(), new_X[:, 1].flatten(\n",
    "), new_Y.flatten(), cmap=cm.get_cmap('viridis'), alpha=0.70)\n",
    "# fig.colorbar(im)\n",
    "\n",
    "ax.scatter(X[:, 0].flatten(), X[:, 1].flatten(), Y.flatten(),\n",
    "           s=100, marker=\"o\", color=\"b\", label=\"Initial observations\")\n",
    "ax.scatter(new_X[:, 0].flatten(), new_X[:, 1].flatten(),\n",
    "           new_Y.flatten(), marker=\"x\", color=\"r\", label=\"All observations\", s=100)\n",
    "\n",
    "min_X = new_X[np.argmin(new_Y)]\n",
    "min_Y = np.min(new_Y)\n",
    "ax.scatter(min_X[0], min_X[1], min_Y, c='black',\n",
    "           marker='D', label=\"Minimum\", s=200)\n",
    "\n",
    "LEGEND_SIZE = 15\n",
    "ax.legend(loc=2, prop={'size': LEGEND_SIZE})\n",
    "ax.set_xlabel(\"Num batteries\")\n",
    "ax.set_ylabel(\"Battery capacity\")\n",
    "ax.set_zlabel(\"Cumulative reward\")\n",
    "\n",
    "ax.view_init(elev=10., azim=20)\n",
    "ax.set_ylim(110, 90)\n",
    "ax.grid(True)\n",
    "plt.title(\"Contour of observed rewards\")\n",
    "print(\"Minimum value found:\")\n",
    "print(min_X, min_Y)\n",
    "# plt.savefig(\"img/rq_sim.png\")\n",
    "\n",
    "plt.show()\n"
   ]
  },
  {
   "cell_type": "markdown",
   "id": "27a8f965",
   "metadata": {},
   "source": [
    "## Visualize and Get Extrema"
   ]
  },
  {
   "cell_type": "code",
   "execution_count": null,
   "id": "98c6bfe4",
   "metadata": {},
   "outputs": [],
   "source": [
    "min_X = new_X[np.argmin(new_Y)]\n",
    "min_Y = np.min(new_Y)\n",
    "\n",
    "min_X, min_Y\n"
   ]
  },
  {
   "cell_type": "markdown",
   "id": "8db506a5",
   "metadata": {},
   "source": [
    "### Simple Plot"
   ]
  },
  {
   "cell_type": "code",
   "execution_count": null,
   "id": "f14bd443",
   "metadata": {},
   "outputs": [],
   "source": [
    "plot_reward(new_X, new_Y, parameter_space.parameter_names)"
   ]
  },
  {
   "cell_type": "markdown",
   "id": "cdfc550a",
   "metadata": {},
   "source": [
    "### 2D Plot"
   ]
  },
  {
   "cell_type": "code",
   "execution_count": null,
   "id": "0140bf4c",
   "metadata": {
    "scrolled": true
   },
   "outputs": [],
   "source": [
    "x_plot = np.reshape(np.array([i for i in range(0, max_num_batteries)]), (-1,1))\n",
    "mu_plot, var_plot = model_emukit.predict(x_plot)\n",
    "\n",
    "plt.figure(figsize=(12, 8))\n",
    "LEGEND_SIZE = 15\n",
    "plt.plot(new_X, new_Y, \"ro\", markersize=10, label=\"All observations\")\n",
    "plt.plot(X, Y, \"bo\", markersize=10, label=\"Initial observations\")\n",
    "# plt.plot(x_plot, y_plot, \"k\", label=\"Objective Function\")\n",
    "plt.plot(x_plot, mu_plot, \"C0\", label=\"Model\")\n",
    "plt.fill_between(x_plot[:, 0],\n",
    "                 mu_plot[:, 0] + np.sqrt(var_plot)[:, 0],\n",
    "                 mu_plot[:, 0] - np.sqrt(var_plot)[:, 0], color=\"C0\", alpha=0.6)\n",
    "plt.fill_between(x_plot[:, 0],\n",
    "                 mu_plot[:, 0] + 2 * np.sqrt(var_plot)[:, 0],\n",
    "                 mu_plot[:, 0] - 2 * np.sqrt(var_plot)[:, 0], color=\"C0\", alpha=0.4)\n",
    "plt.fill_between(x_plot[:, 0],\n",
    "                 mu_plot[:, 0] + 3 * np.sqrt(var_plot)[:, 0],\n",
    "                 mu_plot[:, 0] - 3 * np.sqrt(var_plot)[:, 0], color=\"C0\", alpha=0.2)\n",
    "\n",
    "plt.legend(loc='upper right', prop={'size': LEGEND_SIZE})\n",
    "plt.xlabel(r\"$x$\")\n",
    "plt.ylabel(r\"$f(x)$\")\n",
    "plt.grid(True)\n",
    "# plt.xlim(0, 25)\n",
    "plt.show()"
   ]
  },
  {
   "cell_type": "markdown",
   "id": "c552832f",
   "metadata": {},
   "source": [
    "## 3D Plots"
   ]
  },
  {
   "cell_type": "markdown",
   "id": "af3cb6c3",
   "metadata": {},
   "source": [
    "#### Inferred Surface"
   ]
  },
  {
   "cell_type": "code",
   "execution_count": null,
   "id": "4f386d2c",
   "metadata": {},
   "outputs": [],
   "source": [
    "plt.style.use('seaborn')\n",
    "fig = plt.figure(figsize=(12, 12))\n",
    "ax = plt.axes(projection='3d')\n",
    "\n",
    "im = ax.plot_trisurf(new_X[:, 0].flatten(), new_X[:, 1].flatten(\n",
    "), new_Y.flatten(), cmap=cm.get_cmap('autumn'), alpha=0.75)\n",
    "fig.colorbar(im)\n",
    "\n",
    "ax.scatter(X[:, 0].flatten(), X[:, 1].flatten(), Y.flatten(),\n",
    "           s=100, marker=\"o\", color=\"b\", label=\"Initial observations\")\n",
    "ax.scatter(new_X[:, 0].flatten(), new_X[:, 1].flatten(),\n",
    "           new_Y.flatten(), marker=\"x\", color=\"r\", label=\"All observations\")\n",
    "\n",
    "ax.legend(loc=2, prop={'size': LEGEND_SIZE})\n",
    "ax.set_xlabel(r\"$x_1$\")\n",
    "ax.set_ylabel(r\"$x_2$\")\n",
    "ax.set_ylabel(r\"$f(x)$\")\n",
    "ax.grid(True)\n"
   ]
  },
  {
   "cell_type": "code",
   "execution_count": null,
   "id": "f837b95b",
   "metadata": {},
   "outputs": [],
   "source": [
    "import time\n",
    "plt.style.use('seaborn-colorblind')\n",
    "fig = plt.figure(figsize=(12, 12))\n",
    "ax = plt.axes(projection='3d')\n",
    "\n",
    "im = ax.plot_trisurf(new_X[:, 0].flatten(), new_X[:, 1].flatten(\n",
    "), new_Y.flatten(), cmap=cm.get_cmap('autumn'), alpha=0.75)\n",
    "fig.colorbar(im)\n",
    "\n",
    "ax.scatter(X[:, 0].flatten(), X[:, 1].flatten(), Y.flatten(),\n",
    "           s=100, marker=\"o\", color=\"b\", label=\"Initial observations\")\n",
    "ax.scatter(new_X[:, 0].flatten(), new_X[:, 1].flatten(),\n",
    "           new_Y.flatten(), marker=\"x\", color=\"r\", label=\"All observations\")\n",
    "\n",
    "ax.legend(loc=2, prop={'size': LEGEND_SIZE})\n",
    "ax.set_xlabel(r\"$x_1$\")\n",
    "ax.set_ylabel(r\"$x_2$\")\n",
    "ax.set_ylabel(r\"$f(x)$\")\n",
    "ax.grid(True)\n",
    "\n",
    "for angle in range(0, 360, 40):\n",
    "    ax.view_init(elev=10., azim=angle)\n",
    "    plt.savefig(\"img/plot_{}.png\".format(angle))\n",
    "\n"
   ]
  },
  {
   "cell_type": "markdown",
   "id": "81787b5d",
   "metadata": {},
   "source": [
    "#### Prediction Surface"
   ]
  },
  {
   "cell_type": "code",
   "execution_count": null,
   "id": "41809714",
   "metadata": {},
   "outputs": [],
   "source": [
    "mesh_X, mesh_Y = np.mgrid[1:max_num_batteries+1:1, min_battery_capacity:max_battery_capacity+1:1]\n",
    "positions = np.vstack([mesh_X.ravel(), mesh_Y.ravel()]).T\n",
    "mu_plot, var_plot = model_emukit.predict(positions)"
   ]
  },
  {
   "cell_type": "code",
   "execution_count": null,
   "id": "2597ec95",
   "metadata": {},
   "outputs": [],
   "source": [
    "fig = plt.figure(figsize=(10,10))\n",
    "ax = fig.gca(projection='3d')\n",
    "surf = ax.plot_surface(mesh_X, mesh_Y, mu_plot.reshape((1000,21)), cmap=cm.coolwarm,linewidth=0, antialiased=False)"
   ]
  },
  {
   "cell_type": "code",
   "execution_count": null,
   "id": "454d441b",
   "metadata": {},
   "outputs": [],
   "source": []
  }
 ],
 "metadata": {
  "kernelspec": {
   "display_name": "Python 3",
   "language": "python",
   "name": "python3"
  },
  "language_info": {
   "codemirror_mode": {
    "name": "ipython",
    "version": 3
   },
   "file_extension": ".py",
   "mimetype": "text/x-python",
   "name": "python",
   "nbconvert_exporter": "python",
   "pygments_lexer": "ipython3",
   "version": "3.8.8"
  }
 },
 "nbformat": 4,
 "nbformat_minor": 5
}
