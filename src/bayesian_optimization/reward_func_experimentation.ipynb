{
 "cells": [
  {
   "cell_type": "code",
   "execution_count": 1,
   "id": "5c2c946c",
   "metadata": {},
   "outputs": [],
   "source": [
    "# modified from test.ipynb and main.py\n",
    "\n",
    "from matplotlib import pyplot as plt\n",
    "import numpy as np\n",
    "import GPy\n",
    "\n",
    "import warnings\n",
    "warnings.filterwarnings('ignore')\n",
    "\n",
    "import logging\n",
    "logging.basicConfig(level=logging.INFO)\n",
    "\n",
    "from emukit.model_wrappers import GPyModelWrapper\n",
    "from emukit.model_wrappers.gpy_quadrature_wrappers import BaseGaussianProcessGPy, RBFGPy\n",
    "\n",
    "from emukit.core import ParameterSpace, ContinuousParameter, DiscreteParameter\n",
    "from emukit.core.loop import UserFunctionWrapper\n",
    "\n",
    "from emukit.core import ParameterSpace, ContinuousParameter\n",
    "from emukit.core.initial_designs import RandomDesign\n",
    "\n",
    "from GPy.models import GPRegression\n",
    "\n",
    "from skopt.benchmarks import branin as _branin\n",
    "from emukit.test_functions import branin_function\n",
    "\n",
    "from scse.api.simulation import run_simulation\n",
    "\n",
    "from matplotlib.colors import LogNorm\n",
    "from matplotlib import pyplot as plt\n",
    "\n",
    "# Decision loops \n",
    "from emukit.experimental_design import ExperimentalDesignLoop\n",
    "from emukit.bayesian_optimization.loops import BayesianOptimizationLoop\n",
    "from emukit.quadrature.loop import VanillaBayesianQuadratureLoop\n",
    "\n",
    "# Acquisition functions \n",
    "from emukit.bayesian_optimization.acquisitions import ExpectedImprovement\n",
    "from emukit.experimental_design.acquisitions import ModelVariance\n",
    "# from emukit.quadrature.acquisitions import IntegralVarianceReduction\n",
    "from emukit.experimental_design.acquisitions import IntegratedVarianceReduction\n",
    "\n",
    "# Acquistion optimizers\n",
    "from emukit.core.optimization import GradientAcquisitionOptimizer\n",
    "\n",
    "# Stopping conditions\n",
    "from emukit.core.loop import FixedIterationsStoppingCondition\n",
    "from emukit.core.loop import ConvergenceStoppingCondition\n",
    "\n",
    "from emukit.bayesian_optimization.acquisitions.log_acquisition import LogAcquisition"
   ]
  },
  {
   "cell_type": "code",
   "execution_count": 2,
   "id": "7aa21bae",
   "metadata": {},
   "outputs": [],
   "source": [
    "# Libraries for multiprocessing\n",
    "from multiprocess.pool import Pool\n",
    "from tqdm import tqdm"
   ]
  },
  {
   "cell_type": "code",
   "execution_count": 3,
   "id": "df8fa65a",
   "metadata": {},
   "outputs": [],
   "source": [
    "from loop import *"
   ]
  },
  {
   "cell_type": "markdown",
   "id": "fc390238",
   "metadata": {},
   "source": [
    "## miniSCOT Functions"
   ]
  },
  {
   "cell_type": "code",
   "execution_count": 4,
   "id": "9d65f8ce",
   "metadata": {},
   "outputs": [],
   "source": [
    "# battery_penalty = 735916.40/20\n",
    "def f(X):\n",
    "    \"\"\"\n",
    "    Handling API call to miniSCOT simulation given some inputs\n",
    "\n",
    "    X contains parameter configs x = [x0 x1 ...]\n",
    "    - The order of parameters in x should follow the order specified in the parameter_space declaration\n",
    "    - E.g. here we specify num_batteries = x[0]\n",
    "\n",
    "    \"\"\"\n",
    "    Y = []\n",
    "    for x in X:\n",
    "        num_batteries = x[0]\n",
    "        cum_reward = run_simulation(time_horizon=timsteps_per_week * num_weeks, num_batteries=num_batteries)\n",
    "        Y.append(-cum_reward[-1])\n",
    "\n",
    "    Y = np.reshape(np.array(Y), (-1, 1))\n",
    "    return Y"
   ]
  },
  {
   "cell_type": "code",
   "execution_count": 5,
   "id": "9d65f8ce",
   "metadata": {},
   "outputs": [],
   "source": [
    "def f_multiprocess(X):\n",
    "    \"\"\"\n",
    "    Handling API call to miniSCOT simulation given some inputs using multiprocessing.\n",
    "\n",
    "    X contains parameter configs x = [x0 x1 ...]\n",
    "    - The order of parameters in x should follow the order specified in the parameter_space declaration\n",
    "    - E.g. here we specify num_batteries = x[0]\n",
    "\n",
    "    \"\"\"\n",
    "\n",
    "    def process(x):\n",
    "        num_batteries = x[0]\n",
    "        cum_reward = run_simulation(time_horizon=336, num_batteries=num_batteries)\n",
    "        return -cum_reward[-1]\n",
    "\n",
    "    max_pool = None\n",
    "    with Pool(max_pool) as p:\n",
    "        Y = list(\n",
    "            tqdm(\n",
    "                p.imap(process, X),\n",
    "                total=len(X)\n",
    "            )\n",
    "        )\n",
    "\n",
    "    Y = np.reshape(np.array(Y), (-1, 1))\n",
    "    return Y"
   ]
  },
  {
   "cell_type": "markdown",
   "id": "324e335f",
   "metadata": {},
   "source": [
    "## Example Run"
   ]
  },
  {
   "cell_type": "markdown",
   "id": "b3488637",
   "metadata": {},
   "source": [
    "The same code appears at the top of the Emukit cell below. Run this to check whether we get a convex function."
   ]
  },
  {
   "cell_type": "code",
   "execution_count": 6,
   "id": "b7243d3c",
   "metadata": {},
   "outputs": [],
   "source": [
    "example_max_num_batteries = 1000\n",
    "example_num_data_points = 10"
   ]
  },
  {
   "cell_type": "code",
   "execution_count": null,
   "id": "76b3fb08",
   "metadata": {},
   "outputs": [],
   "source": [
    "# X = design.get_samples(num_data_points)\n",
    "X = np.linspace(0, example_max_num_batteries+1, example_num_data_points)[:, None]\n",
    "Y = f_multiprocess(X)\n",
    "\n",
    "plt.plot(X, Y)\n",
    "plt.style.use('seaborn')\n",
    "plt.title(\"Initial runs\")\n",
    "plt.xlabel(parameter_space.parameters[0].name)\n",
    "plt.ylabel(\"Cumulative reward\")\n",
    "plt.show()\n",
    "\n",
    "X.flatten(), Y.flatten()"
   ]
  },
  {
   "cell_type": "markdown",
   "id": "a02b00a2",
   "metadata": {},
   "source": [
    "## Run Parameters"
   ]
  },
  {
   "cell_type": "code",
   "execution_count": 7,
   "id": "34ec78e2",
   "metadata": {},
   "outputs": [],
   "source": [
    "# num_data_points = 10\n",
    "num_data_points = example_num_data_points\n",
    "\n",
    "# max_num_batteries = 1000\n",
    "max_num_batteries = example_max_num_batteries\n",
    "\n",
    "timsteps_per_week = 336\n",
    "num_weeks = 52"
   ]
  },
  {
   "cell_type": "markdown",
   "id": "d73d4775",
   "metadata": {},
   "source": [
    "## Emukit Bayesian Optimisation"
   ]
  },
  {
   "cell_type": "code",
   "execution_count": 8,
   "id": "42cc1300",
   "metadata": {},
   "outputs": [
    {
     "name": "stdout",
     "output_type": "stream",
     "text": [
      "CURRENT ATTEMPT #0\n"
     ]
    },
    {
     "name": "stderr",
     "output_type": "stream",
     "text": [
      "100%|██████████| 10/10 [01:45<00:00, 10.55s/it]\n"
     ]
    },
    {
     "data": {
      "image/png": "[encoded data removed]",
      "text/plain": [
       "<Figure size 432x288 with 1 Axes>"
      ]
     },
     "metadata": {
      "needs_background": "light"
     },
     "output_type": "display_data"
    },
    {
     "name": "stderr",
     "output_type": "stream",
     "text": [
      "INFO:GP:initializing Y\n",
      "INFO:GP:initializing inference method\n",
      "INFO:GP:adding kernel and likelihood as parameters\n",
      "INFO:emukit.bayesian_optimization.loops.bayesian_optimization_loop:Batch size is 3, using LocalPenalizationPointCalculator\n",
      "INFO:emukit.core.loop.outer_loop:Starting outer loop\n",
      "INFO:emukit.core.loop.outer_loop:Iteration 0\n",
      "INFO:emukit.core.loop.model_updaters:Updating parameters of the model\n"
     ]
    },
    {
     "name": "stdout",
     "output_type": "stream",
     "text": [
      "okay to optimize\n"
     ]
    },
    {
     "name": "stderr",
     "output_type": "stream",
     "text": [
      "INFO:emukit.core.optimization.gradient_acquisition_optimizer:Starting gradient-based optimization of acquisition function <class 'emukit.core.acquisition.acquisition.Sum'>\n",
      "INFO:emukit.core.optimization.gradient_acquisition_optimizer:Starting gradient-based optimization of acquisition function <class 'emukit.core.acquisition.acquisition.Sum'>\n",
      "INFO:emukit.core.optimization.gradient_acquisition_optimizer:Starting gradient-based optimization of acquisition function <class 'emukit.core.acquisition.acquisition.Sum'>\n",
      "INFO:emukit.core.loop.user_function:Evaluating user function for 3 point(s)\n",
      "100%|██████████| 3/3 [00:59<00:00, 19.77s/it]\n",
      "INFO:emukit.core.loop.outer_loop:Iteration 1\n",
      "INFO:emukit.core.loop.model_updaters:Updating parameters of the model\n",
      "INFO:emukit.core.optimization.gradient_acquisition_optimizer:Starting gradient-based optimization of acquisition function <class 'emukit.core.acquisition.acquisition.Sum'>\n",
      "INFO:emukit.core.optimization.gradient_acquisition_optimizer:Starting gradient-based optimization of acquisition function <class 'emukit.core.acquisition.acquisition.Sum'>\n",
      "INFO:emukit.core.optimization.gradient_acquisition_optimizer:Starting gradient-based optimization of acquisition function <class 'emukit.core.acquisition.acquisition.Sum'>\n",
      "INFO:emukit.core.loop.user_function:Evaluating user function for 3 point(s)\n",
      "100%|██████████| 3/3 [00:56<00:00, 18.98s/it]\n",
      "INFO:emukit.core.loop.stopping_conditions:Stopped as consecutive evaluations are within 0.01\n",
      "INFO:emukit.core.loop.model_updaters:Updating parameters of the model\n",
      "INFO:emukit.core.loop.outer_loop:Finished outer loop\n"
     ]
    },
    {
     "name": "stdout",
     "output_type": "stream",
     "text": [
      "successfully ran loop\n"
     ]
    }
   ],
   "source": [
    "# Initial set of batteries and associated reward of simulation\n",
    "\n",
    "num_batteries = DiscreteParameter('num_batteries', [i for i in range(0, max_num_batteries)])\n",
    "time_horizon = DiscreteParameter('time_horizon', [i for i in range(0, num_weeks*timsteps_per_week, timsteps_per_week)])\n",
    "\n",
    "parameter_space = ParameterSpace([num_batteries])\n",
    "design = RandomDesign(parameter_space)\n",
    "\n",
    "successful_sample = False\n",
    "num_tries = 0\n",
    "max_num_tries = 3\n",
    "\n",
    "use_default= False\n",
    "use_ard=False\n",
    "\n",
    "while not successful_sample and num_tries < max_num_tries: \n",
    "    \n",
    "    print(f\"CURRENT ATTEMPT #{num_tries}\")\n",
    "    \n",
    "    X = design.get_samples(num_data_points)\n",
    "    Y = f_multiprocess(X)\n",
    "    \n",
    "    # plot init values\n",
    "    order = X.argsort(axis=0)\n",
    "    init_X = X[order].flatten().reshape(-1, 1)\n",
    "    init_Y = Y[order].flatten().reshape(-1, 1)\n",
    "    plt.plot(init_X, init_Y)\n",
    "    plt.style.use('seaborn')\n",
    "    plt.title(\"Initial runs\")\n",
    "    plt.xlabel(parameter_space.parameters[0].name)\n",
    "    plt.ylabel(\"Cumulative reward\")\n",
    "    plt.show()\n",
    "    \n",
    "    # emulator model\n",
    "\n",
    "    if use_default: \n",
    "        gpy_model = GPRegression(X, Y)\n",
    "    else: \n",
    "        kernel = GPy.kern.RBF(1, lengthscale=1e1, variance=1e4, ARD=use_ard)\n",
    "        gpy_model = GPy.models.GPRegression(X, Y, kernel, noise_var=1e-10)\n",
    "    \n",
    "    try: \n",
    "        gpy_model.optimize()\n",
    "        print(\"okay to optimize\")\n",
    "        model_emukit = GPyModelWrapper(gpy_model)\n",
    "\n",
    "        # Load core elements for Bayesian optimization\n",
    "        expected_improvement = ExpectedImprovement(model=model_emukit)\n",
    "        optimizer = GradientAcquisitionOptimizer(space=parameter_space)\n",
    "\n",
    "        # Create the Bayesian optimization object\n",
    "        batch_size = 3\n",
    "        bayesopt_loop = BayesianOptimizationLoop(model=model_emukit,\n",
    "                                                 space=parameter_space,\n",
    "                                                 acquisition=expected_improvement,\n",
    "                                                 batch_size=batch_size)\n",
    "\n",
    "        # Run the loop and extract the optimum;  we either complete 10 steps or converge\n",
    "        max_iters = 10\n",
    "        stopping_condition = (\n",
    "            FixedIterationsStoppingCondition(i_max=max_iters) | ConvergenceStoppingCondition(eps=0.01)\n",
    "        )\n",
    "\n",
    "        bayesopt_loop.run_loop(f_multiprocess, stopping_condition)\n",
    "        print(\"successfully ran loop\")\n",
    "        successful_sample = True\n",
    "        \n",
    "    except: \n",
    "        num_tries += 1 \n"
   ]
  },
  {
   "cell_type": "code",
   "execution_count": 9,
   "id": "4303eb0c",
   "metadata": {},
   "outputs": [
    {
     "data": {
      "text/plain": [
       "(array([950, 832, 567, 739, 686, 468, 490, 176,  87, 978]),\n",
       " array([ -165209.64525114, -1149911.98228311, -3354522.93739726,\n",
       "        -1920653.70892694, -2360445.61394978, -4145516.95253425,\n",
       "        -3991229.6213927 ,  -980427.86586758,  1314672.20815068,\n",
       "           69439.63938356]))"
      ]
     },
     "execution_count": 9,
     "metadata": {},
     "output_type": "execute_result"
    }
   ],
   "source": [
    "X.flatten(), Y.flatten()"
   ]
  },
  {
   "cell_type": "code",
   "execution_count": 10,
   "id": "ab24027a",
   "metadata": {},
   "outputs": [],
   "source": [
    "# Visualize and get extrema\n",
    "new_X, new_Y = bayesopt_loop.loop_state.X, bayesopt_loop.loop_state.Y"
   ]
  },
  {
   "cell_type": "code",
   "execution_count": 11,
   "id": "743a7c46",
   "metadata": {},
   "outputs": [
    {
     "data": {
      "text/plain": [
       "(array([ 87., 176., 366., 366., 366., 394., 394., 394., 468., 490., 567.,\n",
       "        686., 739., 832., 950., 978.]),\n",
       " array([ 1314672.20815068,  -980427.86586758, -4386210.96691781,\n",
       "        -4386210.96691781, -4386210.96691781, -4541682.60728311,\n",
       "        -4541682.60728311, -4541682.60728311, -4145516.95253425,\n",
       "        -3991229.6213927 , -3354522.93739726, -2360445.61394978,\n",
       "        -1920653.70892694, -1149911.98228311,  -165209.64525114,\n",
       "           69439.63938356]))"
      ]
     },
     "execution_count": 11,
     "metadata": {},
     "output_type": "execute_result"
    }
   ],
   "source": [
    "order = new_X.argsort(axis=0)\n",
    "new_X[order].flatten(), new_Y[order].flatten()"
   ]
  },
  {
   "cell_type": "code",
   "execution_count": 12,
   "id": "27a8f965",
   "metadata": {},
   "outputs": [],
   "source": [
    "new_X = new_X[order].flatten().reshape(-1, 1)\n",
    "new_Y = new_Y[order].flatten().reshape(-1, 1)"
   ]
  },
  {
   "cell_type": "code",
   "execution_count": 13,
   "id": "f14bd443",
   "metadata": {},
   "outputs": [
    {
     "data": {
      "image/png": "[encoded data removed]",
      "text/plain": [
       "<Figure size 576x396 with 1 Axes>"
      ]
     },
     "metadata": {},
     "output_type": "display_data"
    }
   ],
   "source": [
    "plt.plot(new_X, new_Y)\n",
    "plt.style.use('seaborn')\n",
    "plt.title(\"Initial runs\")\n",
    "plt.xlabel(parameter_space.parameters[0].name)\n",
    "plt.ylabel(\"Cumulative reward\")\n",
    "plt.show()"
   ]
  },
  {
   "cell_type": "code",
   "execution_count": 16,
   "id": "0140bf4c",
   "metadata": {
    "scrolled": true
   },
   "outputs": [
    {
     "data": {
      "image/png": "[encoded data removed]",
      "text/plain": [
       "<Figure size 504x360 with 1 Axes>"
      ]
     },
     "metadata": {},
     "output_type": "display_data"
    }
   ],
   "source": [
    "x_plot = np.reshape(np.array([i for i in range(0, max_num_batteries)]), (-1,1))\n",
    "mu_plot, var_plot = model_emukit.predict(x_plot)\n",
    "\n",
    "# plt.figure(figsize=(12, 8))\n",
    "plt.figure(figsize=(7, 5))\n",
    "LEGEND_SIZE = 15\n",
    "plt.plot(new_X, new_Y, \"ro\", markersize=10, label=\"All observations\")\n",
    "plt.plot(X, Y, \"bo\", markersize=10, label=\"Initial observations\")\n",
    "# plt.plot(x_plot, y_plot, \"k\", label=\"Objective Function\")\n",
    "plt.plot(x_plot, mu_plot, \"C0\", label=\"Model\")\n",
    "plt.fill_between(x_plot[:, 0],\n",
    "                 mu_plot[:, 0] + np.sqrt(var_plot)[:, 0],\n",
    "                 mu_plot[:, 0] - np.sqrt(var_plot)[:, 0], color=\"C0\", alpha=0.6)\n",
    "plt.fill_between(x_plot[:, 0],\n",
    "                 mu_plot[:, 0] + 2 * np.sqrt(var_plot)[:, 0],\n",
    "                 mu_plot[:, 0] - 2 * np.sqrt(var_plot)[:, 0], color=\"C0\", alpha=0.4)\n",
    "plt.fill_between(x_plot[:, 0],\n",
    "                 mu_plot[:, 0] + 3 * np.sqrt(var_plot)[:, 0],\n",
    "                 mu_plot[:, 0] - 3 * np.sqrt(var_plot)[:, 0], color=\"C0\", alpha=0.2)\n",
    "\n",
    "plt.legend(loc=2, prop={'size': LEGEND_SIZE})\n",
    "plt.xlabel(r\"$x$\")\n",
    "plt.ylabel(r\"$f(x)$\")\n",
    "plt.grid(True)\n",
    "# plt.xlim(0, 25)\n",
    "plt.show()"
   ]
  },
  {
   "cell_type": "code",
   "execution_count": 15,
   "id": "efa26b10",
   "metadata": {},
   "outputs": [
    {
     "data": {
      "text/plain": [
       "0"
      ]
     },
     "execution_count": 15,
     "metadata": {},
     "output_type": "execute_result"
    }
   ],
   "source": [
    "num_tries"
   ]
  },
  {
   "cell_type": "code",
   "execution_count": null,
   "id": "e550b466",
   "metadata": {},
   "outputs": [],
   "source": [
    "\n",
    "# X = design.get_samples(num_data_points)\n",
    "# Y = f(X)\n"
   ]
  },
  {
   "cell_type": "code",
   "execution_count": null,
   "id": "c9e23ec7",
   "metadata": {},
   "outputs": [],
   "source": [
    "# # emulator model\n",
    "# use_default= False\n",
    "# use_ard=True\n",
    "# if use_default: \n",
    "#     gpy_model = GPRegression(X, Y)\n",
    "# else: \n",
    "#     kernel = GPy.kern.RBF(1, lengthscale=1e1, variance=1e4, ARD=use_ard)\n",
    "#     gpy_model = GPy.models.GPRegression(X, Y, kernel, noise_var=1e-10)\n",
    "# gpy_model.optimize()\n",
    "# model_emukit = GPyModelWrapper(gpy_model)"
   ]
  },
  {
   "cell_type": "code",
   "execution_count": null,
   "id": "d9897e61",
   "metadata": {},
   "outputs": [],
   "source": [
    "# # Load core elements for Bayesian optimization\n",
    "# expected_improvement = ExpectedImprovement(model=model_emukit)\n",
    "# optimizer = GradientAcquisitionOptimizer(space=parameter_space)"
   ]
  },
  {
   "cell_type": "code",
   "execution_count": null,
   "id": "6836461c",
   "metadata": {},
   "outputs": [],
   "source": [
    "# # Create the Bayesian optimization object\n",
    "# batch_size = 3\n",
    "# bayesopt_loop = BayesianOptimizationLoop(model=model_emukit,\n",
    "#                                          space=parameter_space,\n",
    "#                                          acquisition=expected_improvement,\n",
    "#                                          batch_size=batch_size)\n"
   ]
  },
  {
   "cell_type": "code",
   "execution_count": null,
   "id": "84bfb4ab",
   "metadata": {},
   "outputs": [],
   "source": [
    "# # Run the loop and extract the optimum;  we either complete 10 steps or converge\n",
    "# max_iters = 10\n",
    "# stopping_condition = FixedIterationsStoppingCondition(\n",
    "#     i_max=max_iters) | ConvergenceStoppingCondition(eps=0.01)\n",
    "\n",
    "# bayesopt_loop.run_loop(f, stopping_condition)"
   ]
  }
 ],
 "metadata": {
  "kernelspec": {
   "display_name": "Python 3",
   "language": "python",
   "name": "python3"
  },
  "language_info": {
   "codemirror_mode": {
    "name": "ipython",
    "version": 3
   },
   "file_extension": ".py",
   "mimetype": "text/x-python",
   "name": "python",
   "nbconvert_exporter": "python",
   "pygments_lexer": "ipython3",
   "version": "3.8.8"
  }
 },
 "nbformat": 4,
 "nbformat_minor": 5
}
