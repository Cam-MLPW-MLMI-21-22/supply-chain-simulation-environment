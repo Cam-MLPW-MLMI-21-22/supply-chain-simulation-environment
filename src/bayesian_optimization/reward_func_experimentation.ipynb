{
 "cells": [
  {
   "cell_type": "code",
   "execution_count": 1,
   "id": "5c2c946c",
   "metadata": {},
   "outputs": [],
   "source": [
    "# modified from test.ipynb and main.py\n",
    "\n",
    "from matplotlib import pyplot as plt\n",
    "import numpy as np\n",
    "import GPy\n",
    "\n",
    "import warnings\n",
    "warnings.filterwarnings('ignore')\n",
    "\n",
    "import logging\n",
    "logging.basicConfig(level=logging.INFO)\n",
    "\n",
    "from emukit.model_wrappers import GPyModelWrapper\n",
    "from emukit.model_wrappers.gpy_quadrature_wrappers import BaseGaussianProcessGPy, RBFGPy\n",
    "\n",
    "from emukit.core import ParameterSpace, ContinuousParameter, DiscreteParameter\n",
    "from emukit.core.loop import UserFunctionWrapper\n",
    "\n",
    "from emukit.core import ParameterSpace, ContinuousParameter\n",
    "from emukit.core.initial_designs import RandomDesign\n",
    "\n",
    "from GPy.models import GPRegression\n",
    "\n",
    "from skopt.benchmarks import branin as _branin\n",
    "from emukit.test_functions import branin_function\n",
    "\n",
    "from scse.api.simulation import run_simulation\n",
    "\n",
    "from matplotlib.colors import LogNorm\n",
    "from matplotlib import pyplot as plt\n",
    "\n",
    "# Decision loops \n",
    "from emukit.experimental_design import ExperimentalDesignLoop\n",
    "from emukit.bayesian_optimization.loops import BayesianOptimizationLoop\n",
    "from emukit.quadrature.loop import VanillaBayesianQuadratureLoop\n",
    "\n",
    "# Acquisition functions \n",
    "from emukit.bayesian_optimization.acquisitions import ExpectedImprovement\n",
    "from emukit.experimental_design.acquisitions import ModelVariance\n",
    "# from emukit.quadrature.acquisitions import IntegralVarianceReduction\n",
    "from emukit.experimental_design.acquisitions import IntegratedVarianceReduction\n",
    "\n",
    "# Acquistion optimizers\n",
    "from emukit.core.optimization import GradientAcquisitionOptimizer\n",
    "\n",
    "# Stopping conditions\n",
    "from emukit.core.loop import FixedIterationsStoppingCondition\n",
    "from emukit.core.loop import ConvergenceStoppingCondition\n",
    "\n",
    "from emukit.bayesian_optimization.acquisitions.log_acquisition import LogAcquisition"
   ]
  },
  {
   "cell_type": "code",
   "execution_count": 2,
   "id": "df8fa65a",
   "metadata": {},
   "outputs": [],
   "source": [
    "from loop import *"
   ]
  },
  {
   "cell_type": "code",
   "execution_count": 10,
   "id": "34ec78e2",
   "metadata": {},
   "outputs": [],
   "source": [
    "max_num_batteries = 25\n",
    "num_batteries = DiscreteParameter(\n",
    "    'num_batteries', [i for i in range(0, max_num_batteries)])\n",
    "week = 336\n",
    "time_horizon = DiscreteParameter(\n",
    "    'time_horizon', [i for i in range(0, 52*week, week)])\n",
    "parameter_space = ParameterSpace([num_batteries])\n",
    "design = RandomDesign(parameter_space)"
   ]
  },
  {
   "cell_type": "code",
   "execution_count": 14,
   "id": "9d65f8ce",
   "metadata": {},
   "outputs": [],
   "source": [
    "# battery_penalty = 735916\n",
    "def f(X):\n",
    "    \"\"\"\n",
    "    Handling API call to miniSCOT simulation given some inputs\n",
    "\n",
    "    X contains parameter configs x = [x0 x1 ...]\n",
    "    - The order of parameters in x should follow the order specified in the parameter_space declaration\n",
    "    - E.g. here we specify num_batteries = x[0]\n",
    "\n",
    "    \"\"\"\n",
    "    Y = []\n",
    "    for x in X:\n",
    "        num_batteries = x[0]\n",
    "\n",
    "        cum_reward = run_simulation(\n",
    "            time_horizon=336, num_batteries=num_batteries,battery_penalty=battery_penalty)\n",
    "\n",
    "        Y.append(-cum_reward[-1])\n",
    "\n",
    "    Y = np.reshape(np.array(Y), (-1, 1))\n",
    "    return Y"
   ]
  },
  {
   "cell_type": "code",
   "execution_count": 15,
   "id": "e550b466",
   "metadata": {},
   "outputs": [
    {
     "ename": "ValueError",
     "evalue": "Action quantity is not integer, which is not possible!",
     "output_type": "error",
     "traceback": [
      "\u001b[0;31m---------------------------------------------------------------------------\u001b[0m",
      "\u001b[0;31mValueError\u001b[0m                                Traceback (most recent call last)",
      "\u001b[0;32m<ipython-input-15-ab892e825577>\u001b[0m in \u001b[0;36m<module>\u001b[0;34m\u001b[0m\n\u001b[1;32m      2\u001b[0m \u001b[0mnum_data_points\u001b[0m \u001b[0;34m=\u001b[0m \u001b[0;36m2\u001b[0m\u001b[0;34m\u001b[0m\u001b[0;34m\u001b[0m\u001b[0m\n\u001b[1;32m      3\u001b[0m \u001b[0mX\u001b[0m \u001b[0;34m=\u001b[0m \u001b[0mdesign\u001b[0m\u001b[0;34m.\u001b[0m\u001b[0mget_samples\u001b[0m\u001b[0;34m(\u001b[0m\u001b[0mnum_data_points\u001b[0m\u001b[0;34m)\u001b[0m\u001b[0;34m\u001b[0m\u001b[0;34m\u001b[0m\u001b[0m\n\u001b[0;32m----> 4\u001b[0;31m \u001b[0mY\u001b[0m \u001b[0;34m=\u001b[0m \u001b[0mf\u001b[0m\u001b[0;34m(\u001b[0m\u001b[0mX\u001b[0m\u001b[0;34m)\u001b[0m\u001b[0;34m\u001b[0m\u001b[0;34m\u001b[0m\u001b[0m\n\u001b[0m",
      "\u001b[0;32m<ipython-input-14-3aa30fe207f3>\u001b[0m in \u001b[0;36mf\u001b[0;34m(X)\u001b[0m\n\u001b[1;32m     13\u001b[0m         \u001b[0mnum_batteries\u001b[0m \u001b[0;34m=\u001b[0m \u001b[0mx\u001b[0m\u001b[0;34m[\u001b[0m\u001b[0;36m0\u001b[0m\u001b[0;34m]\u001b[0m\u001b[0;34m\u001b[0m\u001b[0;34m\u001b[0m\u001b[0m\n\u001b[1;32m     14\u001b[0m \u001b[0;34m\u001b[0m\u001b[0m\n\u001b[0;32m---> 15\u001b[0;31m         cum_reward = run_simulation(\n\u001b[0m\u001b[1;32m     16\u001b[0m             time_horizon=336, num_batteries=num_batteries,battery_penalty=battery_penalty)\n\u001b[1;32m     17\u001b[0m \u001b[0;34m\u001b[0m\u001b[0m\n",
      "\u001b[0;32m~/supply-chain-simulation-environment/src/scse/api/simulation.py\u001b[0m in \u001b[0;36mrun_simulation\u001b[0;34m(logging_level, simulation_seed, start_date, time_increment, time_horizon, num_batteries, max_battery_capacity, battery_penalty)\u001b[0m\n\u001b[1;32m     23\u001b[0m                          \u001b[0mtime_horizon\u001b[0m\u001b[0;34m,\u001b[0m \u001b[0mnum_batteries\u001b[0m\u001b[0;34m,\u001b[0m \u001b[0mmax_battery_capacity\u001b[0m\u001b[0;34m,\u001b[0m\u001b[0;34m\u001b[0m\u001b[0;34m\u001b[0m\u001b[0m\n\u001b[1;32m     24\u001b[0m                          battery_penalty)\n\u001b[0;32m---> 25\u001b[0;31m     \u001b[0mcum_reward\u001b[0m \u001b[0;34m=\u001b[0m \u001b[0mm\u001b[0m\u001b[0;34m.\u001b[0m\u001b[0mrun\u001b[0m\u001b[0;34m(\u001b[0m\u001b[0;34m)\u001b[0m\u001b[0;34m\u001b[0m\u001b[0;34m\u001b[0m\u001b[0m\n\u001b[0m\u001b[1;32m     26\u001b[0m \u001b[0;34m\u001b[0m\u001b[0m\n\u001b[1;32m     27\u001b[0m     \u001b[0;32mreturn\u001b[0m \u001b[0mcum_reward\u001b[0m\u001b[0;34m\u001b[0m\u001b[0;34m\u001b[0m\u001b[0m\n",
      "\u001b[0;32m~/supply-chain-simulation-environment/src/scse/main/notebook_interface.py\u001b[0m in \u001b[0;36mrun\u001b[0;34m(self)\u001b[0m\n\u001b[1;32m     61\u001b[0m                 \u001b[0;32mbreak\u001b[0m\u001b[0;34m\u001b[0m\u001b[0;34m\u001b[0m\u001b[0m\n\u001b[1;32m     62\u001b[0m             \u001b[0;32melse\u001b[0m\u001b[0;34m:\u001b[0m\u001b[0;34m\u001b[0m\u001b[0;34m\u001b[0m\u001b[0m\n\u001b[0;32m---> 63\u001b[0;31m                 self.state, self.actions, self.reward = self.env.step(\n\u001b[0m\u001b[1;32m     64\u001b[0m                     self.state, self.actions)\n\u001b[1;32m     65\u001b[0m                 self.cum_reward.append(self.reward.get(\n",
      "\u001b[0;32m~/supply-chain-simulation-environment/src/scse/controller/miniscot.py\u001b[0m in \u001b[0;36mstep\u001b[0;34m(self, state, actions)\u001b[0m\n\u001b[1;32m    192\u001b[0m \u001b[0;34m\u001b[0m\u001b[0m\n\u001b[1;32m    193\u001b[0m                 \u001b[0mminiscot_execute_actions_start_time\u001b[0m \u001b[0;34m=\u001b[0m \u001b[0mtime\u001b[0m\u001b[0;34m.\u001b[0m\u001b[0mtime\u001b[0m\u001b[0;34m(\u001b[0m\u001b[0;34m)\u001b[0m\u001b[0;34m\u001b[0m\u001b[0;34m\u001b[0m\u001b[0m\n\u001b[0;32m--> 194\u001b[0;31m                 \u001b[0mstate\u001b[0m\u001b[0;34m,\u001b[0m \u001b[0mactions\u001b[0m\u001b[0;34m,\u001b[0m \u001b[0mreward\u001b[0m \u001b[0;34m=\u001b[0m \u001b[0mself\u001b[0m\u001b[0;34m.\u001b[0m\u001b[0m_execute_actions\u001b[0m\u001b[0;34m(\u001b[0m\u001b[0mactions\u001b[0m\u001b[0;34m,\u001b[0m \u001b[0mstate\u001b[0m\u001b[0;34m)\u001b[0m\u001b[0;34m\u001b[0m\u001b[0;34m\u001b[0m\u001b[0m\n\u001b[0m\u001b[1;32m    195\u001b[0m                 \u001b[0mminiscot_execute_actions_end_time\u001b[0m \u001b[0;34m=\u001b[0m \u001b[0mtime\u001b[0m\u001b[0;34m.\u001b[0m\u001b[0mtime\u001b[0m\u001b[0;34m(\u001b[0m\u001b[0;34m)\u001b[0m\u001b[0;34m\u001b[0m\u001b[0;34m\u001b[0m\u001b[0m\n\u001b[1;32m    196\u001b[0m                 \u001b[0mself\u001b[0m\u001b[0;34m.\u001b[0m\u001b[0m_miniscot_time_profile\u001b[0m\u001b[0;34m[\u001b[0m\u001b[0;34m\"miniscot_action_execution\"\u001b[0m\u001b[0;34m]\u001b[0m \u001b[0;34m+=\u001b[0m \u001b[0mminiscot_execute_actions_end_time\u001b[0m \u001b[0;34m-\u001b[0m\u001b[0;31m \u001b[0m\u001b[0;31m\\\u001b[0m\u001b[0;34m\u001b[0m\u001b[0;34m\u001b[0m\u001b[0m\n",
      "\u001b[0;32m~/supply-chain-simulation-environment/src/scse/controller/miniscot.py\u001b[0m in \u001b[0;36m_execute_actions\u001b[0;34m(self, actions, state)\u001b[0m\n\u001b[1;32m    250\u001b[0m                     \"Action quantity is negative, which is not possible!\")\n\u001b[1;32m    251\u001b[0m             \u001b[0;32mif\u001b[0m \u001b[0misinstance\u001b[0m\u001b[0;34m(\u001b[0m\u001b[0maction\u001b[0m\u001b[0;34m[\u001b[0m\u001b[0;34m'quantity'\u001b[0m\u001b[0;34m]\u001b[0m\u001b[0;34m,\u001b[0m \u001b[0mint\u001b[0m\u001b[0;34m)\u001b[0m \u001b[0;34m==\u001b[0m \u001b[0;32mFalse\u001b[0m\u001b[0;34m:\u001b[0m\u001b[0;34m\u001b[0m\u001b[0;34m\u001b[0m\u001b[0m\n\u001b[0;32m--> 252\u001b[0;31m                 raise ValueError(\n\u001b[0m\u001b[1;32m    253\u001b[0m                     \"Action quantity is not integer, which is not possible!\")\n\u001b[1;32m    254\u001b[0m             \u001b[0;32mif\u001b[0m \u001b[0maction\u001b[0m\u001b[0;34m[\u001b[0m\u001b[0;34m'schedule'\u001b[0m\u001b[0;34m]\u001b[0m \u001b[0;34m<=\u001b[0m \u001b[0mstate\u001b[0m\u001b[0;34m[\u001b[0m\u001b[0;34m'clock'\u001b[0m\u001b[0;34m]\u001b[0m\u001b[0;34m:\u001b[0m\u001b[0;34m\u001b[0m\u001b[0;34m\u001b[0m\u001b[0m\n",
      "\u001b[0;31mValueError\u001b[0m: Action quantity is not integer, which is not possible!"
     ]
    }
   ],
   "source": [
    "# Initial set of batteries and associated reward of simulation\n",
    "num_data_points = 2\n",
    "X = design.get_samples(num_data_points)\n",
    "Y = f(X)\n"
   ]
  },
  {
   "cell_type": "code",
   "execution_count": 16,
   "id": "c9e23ec7",
   "metadata": {},
   "outputs": [],
   "source": [
    "# emulator model\n",
    "use_default= False\n",
    "use_ard=True\n",
    "if use_default: \n",
    "    gpy_model = GPRegression(X, Y)\n",
    "else: \n",
    "    kernel = GPy.kern.RBF(1, lengthscale=1e1, variance=1e4, ARD=use_ard)\n",
    "    gpy_model = GPy.models.GPRegression(X, Y, kernel, noise_var=1e-10)\n",
    "gpy_model.optimize()\n",
    "model_emukit = GPyModelWrapper(gpy_model)"
   ]
  },
  {
   "cell_type": "code",
   "execution_count": 7,
   "id": "ffea6746",
   "metadata": {},
   "outputs": [
    {
     "data": {
      "text/plain": [
       "(array([[16],\n",
       "        [14],\n",
       "        [ 9],\n",
       "        [19],\n",
       "        [23]]),\n",
       " array([[3749115],\n",
       "        [3740675],\n",
       "        [3764025],\n",
       "        [3787360],\n",
       "        [3861570]]))"
      ]
     },
     "execution_count": 7,
     "metadata": {},
     "output_type": "execute_result"
    }
   ],
   "source": [
    "X, Y\n"
   ]
  },
  {
   "cell_type": "code",
   "execution_count": 8,
   "id": "d9897e61",
   "metadata": {},
   "outputs": [],
   "source": [
    "# Load core elements for Bayesian optimization\n",
    "expected_improvement = ExpectedImprovement(model=model_emukit)\n",
    "optimizer = GradientAcquisitionOptimizer(space=parameter_space)"
   ]
  },
  {
   "cell_type": "code",
   "execution_count": 9,
   "id": "6836461c",
   "metadata": {},
   "outputs": [],
   "source": [
    "# Create the Bayesian optimization object\n",
    "batch_size = 3\n",
    "bayesopt_loop = BayesianOptimizationLoop(model=model_emukit,\n",
    "                                         space=parameter_space,\n",
    "                                         acquisition=expected_improvement,\n",
    "                                         batch_size=batch_size)\n"
   ]
  },
  {
   "cell_type": "code",
   "execution_count": 10,
   "id": "84bfb4ab",
   "metadata": {},
   "outputs": [],
   "source": [
    "# Run the loop and extract the optimum;  we either complete 10 steps or converge\n",
    "max_iters = 10\n",
    "stopping_condition = FixedIterationsStoppingCondition(\n",
    "    i_max=max_iters) | ConvergenceStoppingCondition(eps=0.01)\n",
    "\n",
    "bayesopt_loop.run_loop(f, stopping_condition)"
   ]
  },
  {
   "cell_type": "code",
   "execution_count": 11,
   "id": "ab24027a",
   "metadata": {},
   "outputs": [],
   "source": [
    "# Visualize and get extrema\n",
    "new_X, new_Y = bayesopt_loop.loop_state.X, bayesopt_loop.loop_state.Y"
   ]
  },
  {
   "cell_type": "code",
   "execution_count": 12,
   "id": "743a7c46",
   "metadata": {},
   "outputs": [
    {
     "name": "stdout",
     "output_type": "stream",
     "text": [
      "[[16.]\n",
      " [14.]\n",
      " [ 9.]\n",
      " [19.]\n",
      " [23.]\n",
      " [ 0.]\n",
      " [ 0.]\n",
      " [ 0.]\n",
      " [24.]\n",
      " [24.]\n",
      " [24.]] (11, 1)\n",
      "[[[ 0.]]\n",
      "\n",
      " [[ 0.]]\n",
      "\n",
      " [[ 0.]]\n",
      "\n",
      " [[ 9.]]\n",
      "\n",
      " [[14.]]\n",
      "\n",
      " [[16.]]\n",
      "\n",
      " [[19.]]\n",
      "\n",
      " [[23.]]\n",
      "\n",
      " [[24.]]\n",
      "\n",
      " [[24.]]\n",
      "\n",
      " [[24.]]]\n"
     ]
    }
   ],
   "source": [
    "print(new_X, new_X.shape)\n",
    "order = new_X.argsort(axis=0)\n",
    "print(new_X[order])"
   ]
  },
  {
   "cell_type": "code",
   "execution_count": 13,
   "id": "27a8f965",
   "metadata": {},
   "outputs": [],
   "source": [
    "new_X = new_X[order].flatten().reshape(-1, 1)\n",
    "new_Y = new_Y[order].flatten().reshape(-1, 1)"
   ]
  },
  {
   "cell_type": "code",
   "execution_count": 14,
   "id": "f14bd443",
   "metadata": {},
   "outputs": [
    {
     "data": {
      "image/png": "[encoded data removed]",
      "text/plain": [
       "<Figure size 432x288 with 1 Axes>"
      ]
     },
     "metadata": {
      "needs_background": "light"
     },
     "output_type": "display_data"
    }
   ],
   "source": [
    "plt.plot(new_X, new_Y)\n",
    "plt.style.use('seaborn')\n",
    "plt.title(\"Initial runs\")\n",
    "plt.xlabel(parameter_space.parameters[0].name)\n",
    "plt.ylabel(\"Cumulative reward\")\n",
    "plt.show()"
   ]
  },
  {
   "cell_type": "code",
   "execution_count": 17,
   "id": "0140bf4c",
   "metadata": {
    "scrolled": true
   },
   "outputs": [
    {
     "data": {
      "image/png": "[encoded data removed]",
      "text/plain": [
       "<Figure size 504x360 with 1 Axes>"
      ]
     },
     "metadata": {},
     "output_type": "display_data"
    }
   ],
   "source": [
    "x_plot = np.reshape(np.array([i for i in range(0, 25)]), (-1,1))\n",
    "mu_plot, var_plot = model_emukit.predict(x_plot)\n",
    "\n",
    "# plt.figure(figsize=(12, 8))\n",
    "plt.figure(figsize=(7, 5))\n",
    "LEGEND_SIZE = 15\n",
    "plt.plot(new_X, new_Y, \"ro\", markersize=10, label=\"All observations\")\n",
    "plt.plot(X, Y, \"bo\", markersize=10, label=\"Initial observations\")\n",
    "# plt.plot(x_plot, y_plot, \"k\", label=\"Objective Function\")\n",
    "plt.plot(x_plot, mu_plot, \"C0\", label=\"Model\")\n",
    "plt.fill_between(x_plot[:, 0],\n",
    "                 mu_plot[:, 0] + np.sqrt(var_plot)[:, 0],\n",
    "                 mu_plot[:, 0] - np.sqrt(var_plot)[:, 0], color=\"C0\", alpha=0.6)\n",
    "plt.fill_between(x_plot[:, 0],\n",
    "                 mu_plot[:, 0] + 2 * np.sqrt(var_plot)[:, 0],\n",
    "                 mu_plot[:, 0] - 2 * np.sqrt(var_plot)[:, 0], color=\"C0\", alpha=0.4)\n",
    "plt.fill_between(x_plot[:, 0],\n",
    "                 mu_plot[:, 0] + 3 * np.sqrt(var_plot)[:, 0],\n",
    "                 mu_plot[:, 0] - 3 * np.sqrt(var_plot)[:, 0], color=\"C0\", alpha=0.2)\n",
    "\n",
    "plt.legend(loc=2, prop={'size': LEGEND_SIZE})\n",
    "plt.xlabel(r\"$x$\")\n",
    "plt.ylabel(r\"$f(x)$\")\n",
    "plt.grid(True)\n",
    "plt.xlim(0, 25)\n",
    "plt.show()"
   ]
  },
  {
   "cell_type": "code",
   "execution_count": null,
   "id": "efa26b10",
   "metadata": {},
   "outputs": [],
   "source": []
  },
  {
   "cell_type": "code",
   "execution_count": null,
   "id": "9afea79a",
   "metadata": {},
   "outputs": [],
   "source": []
  }
 ],
 "metadata": {
  "kernelspec": {
   "display_name": "Python 3",
   "language": "python",
   "name": "python3"
  },
  "language_info": {
   "codemirror_mode": {
    "name": "ipython",
    "version": 3
   },
   "file_extension": ".py",
   "mimetype": "text/x-python",
   "name": "python",
   "nbconvert_exporter": "python",
   "pygments_lexer": "ipython3",
   "version": "3.8.8"
  }
 },
 "nbformat": 4,
 "nbformat_minor": 5
}
