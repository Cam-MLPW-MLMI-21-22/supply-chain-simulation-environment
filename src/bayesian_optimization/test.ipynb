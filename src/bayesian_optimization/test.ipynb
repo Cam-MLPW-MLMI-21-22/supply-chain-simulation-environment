{
 "cells": [
  {
   "cell_type": "code",
   "execution_count": 1,
   "metadata": {},
   "outputs": [],
   "source": [
    "from matplotlib import pyplot as plt\n",
    "import numpy as np\n",
    "import GPy\n",
    "\n",
    "import warnings\n",
    "warnings.filterwarnings('ignore')\n",
    "\n",
    "import logging\n",
    "logging.basicConfig(level=logging.INFO)\n",
    "\n",
    "\n",
    "%load_ext autoreload\n",
    "%autoreload 2"
   ]
  },
  {
   "cell_type": "code",
   "execution_count": 2,
   "metadata": {},
   "outputs": [],
   "source": [
    "from emukit.model_wrappers import GPyModelWrapper\n",
    "from emukit.model_wrappers.gpy_quadrature_wrappers import BaseGaussianProcessGPy, RBFGPy\n",
    "\n",
    "from emukit.core import ParameterSpace, ContinuousParameter, DiscreteParameter\n",
    "from emukit.core.loop import UserFunctionWrapper\n",
    "\n",
    "from emukit.core import ParameterSpace, ContinuousParameter\n",
    "from emukit.core.initial_designs import RandomDesign\n",
    "\n",
    "from GPy.models import GPRegression"
   ]
  },
  {
   "cell_type": "markdown",
   "metadata": {},
   "source": [
    "Double check that the user function (that provides the data points) returns the appropriate format.\n",
    "\n",
    "Here, User function (that we want to estimate) should return 2d array or a tuple of 2d arrays "
   ]
  },
  {
   "cell_type": "code",
   "execution_count": 3,
   "metadata": {},
   "outputs": [],
   "source": [
    "from skopt.benchmarks import branin as _branin\n",
    "from emukit.test_functions import branin_function\n",
    "\n",
    "f, _ = branin_function() # or branin()\n",
    "\n",
    "def branin(x, noise_level=0.):\n",
    "    return np.reshape(_branin(x) + noise_level * np.random.randn(), (-1,1))"
   ]
  },
  {
   "cell_type": "code",
   "execution_count": 4,
   "metadata": {},
   "outputs": [],
   "source": [
    "from scse.api.simulation import run_simulation\n",
    "\n",
    "def f(X):\n",
    "    Y = []\n",
    "    for x in X:\n",
    "        num_batteries = x[0]\n",
    "\n",
    "        cum_reward = run_simulation(time_horizon=336, num_batteries=num_batteries)\n",
    "\n",
    "        Y.append(cum_reward[-1])\n",
    "\n",
    "    Y = np.reshape(np.array(Y), (-1, 1))\n",
    "    return Y"
   ]
  },
  {
   "cell_type": "markdown",
   "metadata": {},
   "source": [
    "Initial design / data points"
   ]
  },
  {
   "cell_type": "code",
   "execution_count": 5,
   "metadata": {},
   "outputs": [
    {
     "data": {
      "text/plain": [
       "array([[ 4],\n",
       "       [20],\n",
       "       [21],\n",
       "       [21]])"
      ]
     },
     "execution_count": 5,
     "metadata": {},
     "output_type": "execute_result"
    }
   ],
   "source": [
    "max_num_batteries = 25\n",
    "num_batteries = DiscreteParameter('num_batteries', [i for i in range(0, max_num_batteries)])\n",
    "week = 336\n",
    "time_horizon = DiscreteParameter('time_horizon', [i for i in range(0, 52*week, week)])\n",
    "\n",
    "parameter_space = ParameterSpace([num_batteries])\n",
    "design = RandomDesign(parameter_space)\n",
    "\n",
    "num_data_points = 4\n",
    "X = design.get_samples(num_data_points)\n",
    "X\n"
   ]
  },
  {
   "cell_type": "code",
   "execution_count": 6,
   "metadata": {},
   "outputs": [],
   "source": [
    "Y = f(X)"
   ]
  },
  {
   "cell_type": "code",
   "execution_count": 7,
   "metadata": {},
   "outputs": [
    {
     "data": {
      "text/plain": [
       "array([[-1478760],\n",
       "       [-1015390],\n",
       "       [ -997115],\n",
       "       [ -997115]])"
      ]
     },
     "execution_count": 7,
     "metadata": {},
     "output_type": "execute_result"
    }
   ],
   "source": [
    "Y"
   ]
  },
  {
   "cell_type": "code",
   "execution_count": 8,
   "metadata": {},
   "outputs": [],
   "source": [
    "shape = (100, 1)\n",
    "X0 = np.random.randint(-5, 10, shape)\n",
    "X1 = np.random.randint(0, 15, shape)\n",
    "X = np.concatenate((X0, X1), axis=1)\n",
    "Y = np.reshape(np.append([], [branin(x) for x in X]), (-1, 1))\n",
    "\n",
    "# or use RandomDesign\n",
    "parameter_space = ParameterSpace([ContinuousParameter(\n",
    "    'x1', -5, 10), ContinuousParameter('x2', 0, 15)])\n",
    "design = RandomDesign(parameter_space)\n",
    "\n",
    "# if not X:\n",
    "if len(X) != 0: \n",
    "    num_data_points = shape[0]\n",
    "    X = design.get_samples(num_data_points)"
   ]
  },
  {
   "cell_type": "markdown",
   "metadata": {},
   "source": [
    "Plotting initial design values (branin)"
   ]
  },
  {
   "cell_type": "code",
   "execution_count": 9,
   "metadata": {},
   "outputs": [
    {
     "data": {
      "image/png": "[encoded data removed]",
      "text/plain": [
       "<Figure size 576x576 with 2 Axes>"
      ]
     },
     "metadata": {
      "needs_background": "light"
     },
     "output_type": "display_data"
    }
   ],
   "source": [
    "from matplotlib.colors import LogNorm\n",
    "from matplotlib import pyplot as plt\n",
    "\n",
    "\n",
    "\n",
    "x_ax, y_ax = np.meshgrid(X0, X1)\n",
    "vals = np.c_[x_ax.ravel(), y_ax.ravel()]\n",
    "fx = np.reshape([branin(val) for val in vals], (shape[0], shape[0]))\n",
    "fig, ax = plt.subplots(figsize=(8,8))\n",
    "cm = ax.pcolormesh(x_ax, y_ax, fx,\n",
    "                   norm=LogNorm(vmin=fx.min(),\n",
    "                                vmax=fx.max()),\n",
    "                   cmap='viridis_r')\n",
    "\n",
    "minima = np.array([[-np.pi, 12.275], [+np.pi, 2.275], [9.42478, 2.475]])\n",
    "found_minima = np.reshape([x_ax[np.where(fx == np.min(fx))][0], y_ax[np.where(fx == np.min(fx))][0]], (1, 2))\n",
    "\n",
    "\n",
    "ax.plot(minima[:, 0], minima[:, 1], \"r.\", markersize=14,\n",
    "        lw=0, label=\"Branin Minima\")\n",
    "ax.plot(found_minima[:, 0], found_minima[:, 1], \"y.\", markersize=14,\n",
    "        lw=0, label=\"Sampled Minima\")\n",
    "\n",
    "cb = fig.colorbar(cm)\n",
    "cb.set_label(\"f(x)\")\n",
    "\n",
    "ax.legend(loc=\"best\", numpoints=1)\n",
    "\n",
    "ax.set_xlabel(\"X1\")\n",
    "ax.set_xlim([-5, 10])\n",
    "ax.set_ylabel(\"X2\")\n",
    "ax.set_ylim([0, 15])\n",
    "\n",
    "plt.show()"
   ]
  },
  {
   "cell_type": "markdown",
   "metadata": {},
   "source": [
    "# Initialize Emulator Model"
   ]
  },
  {
   "cell_type": "code",
   "execution_count": 10,
   "metadata": {},
   "outputs": [
    {
     "data": {
      "text/plain": [
       "55.871035266850384"
      ]
     },
     "execution_count": 10,
     "metadata": {},
     "output_type": "execute_result"
    }
   ],
   "source": [
    "np.std(Y)"
   ]
  },
  {
   "cell_type": "code",
   "execution_count": 11,
   "metadata": {},
   "outputs": [],
   "source": [
    "kernel = GPy.kern.RBF(1, lengthscale=1e1, variance=1e4)\n",
    "gpy_model = GPy.models.GPRegression(X, Y, kernel, noise_var=1e-10)\n",
    "gpy_model.optimize()\n",
    "\n",
    "\n",
    "model_emukit = GPyModelWrapper(gpy_model)"
   ]
  },
  {
   "cell_type": "markdown",
   "metadata": {},
   "source": [
    "# Decision Loop"
   ]
  },
  {
   "cell_type": "code",
   "execution_count": 12,
   "metadata": {},
   "outputs": [],
   "source": [
    "# Decision loops \n",
    "from emukit.experimental_design import ExperimentalDesignLoop\n",
    "from emukit.bayesian_optimization.loops import BayesianOptimizationLoop\n",
    "from emukit.quadrature.loop import VanillaBayesianQuadratureLoop\n",
    "\n",
    "# Acquisition functions \n",
    "from emukit.bayesian_optimization.acquisitions import ExpectedImprovement\n",
    "from emukit.experimental_design.acquisitions import ModelVariance\n",
    "# from emukit.quadrature.acquisitions import IntegralVarianceReduction\n",
    "from emukit.experimental_design.acquisitions import IntegratedVarianceReduction\n",
    "\n",
    "# Acquistion optimizers\n",
    "from emukit.core.optimization import GradientAcquisitionOptimizer\n",
    "\n",
    "# Stopping conditions\n",
    "from emukit.core.loop import FixedIterationsStoppingCondition\n",
    "from emukit.core.loop import ConvergenceStoppingCondition"
   ]
  },
  {
   "cell_type": "code",
   "execution_count": 13,
   "metadata": {},
   "outputs": [],
   "source": [
    "from emukit.bayesian_optimization.acquisitions.log_acquisition import LogAcquisition\n",
    "\n"
   ]
  },
  {
   "cell_type": "code",
   "execution_count": 14,
   "metadata": {},
   "outputs": [],
   "source": [
    "# Load core elements for Bayesian optimization\n",
    "expected_improvement = ExpectedImprovement(model=model_emukit)\n",
    "us_acquisition = ModelVariance(model_emukit)\n",
    "ivr_acquisition = IntegratedVarianceReduction(model_emukit, parameter_space)\n",
    "\n",
    "\n",
    "log_acq = LogAcquisition(expected_improvement)\n",
    "optimizer = GradientAcquisitionOptimizer(space=parameter_space)\n"
   ]
  },
  {
   "cell_type": "code",
   "execution_count": 15,
   "metadata": {},
   "outputs": [],
   "source": [
    "# Create the Bayesian optimization object\n",
    "bayesopt_loop = BayesianOptimizationLoop(model=model_emukit,\n",
    "                                         space=parameter_space,\n",
    "                                         acquisition=log_acq,\n",
    "                                         batch_size=3)"
   ]
  },
  {
   "cell_type": "code",
   "execution_count": 16,
   "metadata": {},
   "outputs": [
    {
     "name": "stdout",
     "output_type": "stream",
     "text": [
      "Warning - optimization restart 1/1 failed\n"
     ]
    }
   ],
   "source": [
    "# Run the loop and extract the optimum\n",
    "# Run the loop until we either complete 10 steps or converge\n",
    "stopping_condition = FixedIterationsStoppingCondition(\n",
    "    i_max=10) | ConvergenceStoppingCondition(eps=0.01)\n",
    "\n",
    "bayesopt_loop.run_loop(f, stopping_condition)\n"
   ]
  },
  {
   "cell_type": "code",
   "execution_count": 17,
   "metadata": {},
   "outputs": [
    {
     "name": "stdout",
     "output_type": "stream",
     "text": [
      "X shape:  (30, 2) , Y shape:  (30, 1)\n"
     ]
    }
   ],
   "source": [
    "initial_design_samples = num_data_points\n",
    "new_Y = bayesopt_loop.loop_state.Y[initial_design_samples:, :]\n",
    "new_X = bayesopt_loop.loop_state.X[initial_design_samples:, :]\n",
    "print(\"X shape: \", new_X.shape, \", Y shape: \", new_Y.shape)"
   ]
  },
  {
   "cell_type": "markdown",
   "metadata": {},
   "source": [
    "Note that this \"sorting\" of inputs only works in 1D due to flattening. \n",
    "When we move to 2D, we should not plot lines but scatters"
   ]
  },
  {
   "cell_type": "code",
   "execution_count": 18,
   "metadata": {},
   "outputs": [
    {
     "name": "stdout",
     "output_type": "stream",
     "text": [
      "(130, 2)\n",
      "(130, 2, 2) (130, 2, 1)\n"
     ]
    }
   ],
   "source": [
    "new_X = bayesopt_loop.loop_state.X\n",
    "print(new_X.shape)\n",
    "order = new_X.argsort(axis=0)\n",
    "new_X = new_X[order]\n",
    "print(new_X.shape, bayesopt_loop.loop_state.Y[order].shape)"
   ]
  },
  {
   "cell_type": "code",
   "execution_count": 19,
   "metadata": {},
   "outputs": [],
   "source": [
    "# new_X = new_X.flatten().reshape(-1, 1)\n",
    "new_X = new_X[:,:,0].flatten().reshape(-1, 1)\n",
    "new_Y = bayesopt_loop.loop_state.Y[order]\n",
    "new_Y = new_Y.flatten().reshape(-1,1)"
   ]
  },
  {
   "cell_type": "code",
   "execution_count": 20,
   "metadata": {},
   "outputs": [
    {
     "data": {
      "text/plain": [
       "((130, 2), (260, 1), (260, 1))"
      ]
     },
     "execution_count": 20,
     "metadata": {},
     "output_type": "execute_result"
    }
   ],
   "source": [
    "order.shape, new_Y.shape, new_X.shape"
   ]
  },
  {
   "cell_type": "code",
   "execution_count": 21,
   "metadata": {},
   "outputs": [
    {
     "data": {
      "text/plain": [
       "array([[ 2.48709995e+01],\n",
       "       [ 1.04724394e+02],\n",
       "       [ 3.51007443e+01],\n",
       "       [ 7.97566181e+01],\n",
       "       [ 1.19775364e+02],\n",
       "       [ 1.40039644e+02],\n",
       "       [ 3.35001616e+01],\n",
       "       [ 3.18056440e+01],\n",
       "       [ 1.13108264e+02],\n",
       "       [ 2.06021126e+01],\n",
       "       [ 8.36021126e+01],\n",
       "       [ 6.11542630e+00],\n",
       "       [ 1.61255497e+02],\n",
       "       [ 4.83108196e+01],\n",
       "       [ 1.04724394e+02],\n",
       "       [ 1.61255497e+02],\n",
       "       [ 1.85594945e+02],\n",
       "       [ 2.36021126e+01],\n",
       "       [ 1.74729162e+02],\n",
       "       [ 1.84173156e+02],\n",
       "       [ 2.77029055e+01],\n",
       "       [ 1.41910816e+02],\n",
       "       [ 2.22071529e+01],\n",
       "       [ 1.17203019e+02],\n",
       "       [ 1.07360356e+02],\n",
       "       [ 1.74729162e+02],\n",
       "       [ 3.32427578e+01],\n",
       "       [ 3.51007443e+01],\n",
       "       [ 3.02577390e+01],\n",
       "       [ 1.62329296e+00],\n",
       "       [ 1.86630217e+02],\n",
       "       [-1.25184000e+06],\n",
       "       [ 2.16276354e+01],\n",
       "       [ 3.08129096e+02],\n",
       "       [ 9.92440882e+01],\n",
       "       [ 1.54770951e+01],\n",
       "       [-1.66682500e+06],\n",
       "       [ 2.77029055e+01],\n",
       "       [-1.66682500e+06],\n",
       "       [ 2.36021126e+01],\n",
       "       [-1.66682500e+06],\n",
       "       [ 4.34041352e+01],\n",
       "       [-1.66682500e+06],\n",
       "       [ 5.56021126e+01],\n",
       "       [-1.66682500e+06],\n",
       "       [ 3.19883866e+01],\n",
       "       [-1.66682500e+06],\n",
       "       [ 1.13490950e+02],\n",
       "       [-1.66682500e+06],\n",
       "       [ 2.05180694e+01],\n",
       "       [-1.66682500e+06],\n",
       "       [ 1.40039644e+02],\n",
       "       [-1.66682500e+06],\n",
       "       [ 6.86021126e+01],\n",
       "       [ 6.03563083e+01],\n",
       "       [ 1.74729162e+02],\n",
       "       [ 9.28842883e+01],\n",
       "       [ 9.84057108e+01],\n",
       "       [ 2.04326257e+01],\n",
       "       [ 3.56021126e+01],\n",
       "       [ 2.06021126e+01],\n",
       "       [ 2.06021126e+01],\n",
       "       [ 4.21469709e+00],\n",
       "       [ 1.78964592e+01],\n",
       "       [ 4.46021126e+01],\n",
       "       [ 8.88955951e+00],\n",
       "       [ 1.13490950e+02],\n",
       "       [ 3.35001616e+01],\n",
       "       [ 2.00272427e+01],\n",
       "       [ 1.46770807e+01],\n",
       "       [ 2.06021126e+01],\n",
       "       [ 2.16276354e+01],\n",
       "       [ 7.97566181e+01],\n",
       "       [ 4.79148404e+01],\n",
       "       [ 2.28245512e+01],\n",
       "       [ 6.03563083e+01],\n",
       "       [ 5.69502040e+01],\n",
       "       [-1.47876000e+06],\n",
       "       [ 1.52660331e+01],\n",
       "       [-1.47876000e+06],\n",
       "       [ 9.84708174e+01],\n",
       "       [-1.47876000e+06],\n",
       "       [ 6.30308189e+01],\n",
       "       [-1.47876000e+06],\n",
       "       [ 3.57456172e+01],\n",
       "       [-1.47876000e+06],\n",
       "       [ 1.40039644e+02],\n",
       "       [-1.47876000e+06],\n",
       "       [ 4.30586937e+01],\n",
       "       [-1.47876000e+06],\n",
       "       [ 6.61620593e+00],\n",
       "       [-1.47876000e+06],\n",
       "       [ 3.02577390e+01],\n",
       "       [-1.47876000e+06],\n",
       "       [ 2.36021126e+01],\n",
       "       [ 3.32427578e+01],\n",
       "       [ 1.32932305e+01],\n",
       "       [ 5.84363374e+01],\n",
       "       [ 1.54770951e+01],\n",
       "       [ 1.86630217e+02],\n",
       "       [ 1.62329296e+00],\n",
       "       [ 1.96929043e+01],\n",
       "       [ 3.19883866e+01],\n",
       "       [ 1.19775364e+02],\n",
       "       [ 3.08129096e+02],\n",
       "       [ 4.21469709e+00],\n",
       "       [ 4.34041352e+01],\n",
       "       [ 9.28842883e+01],\n",
       "       [ 6.11542630e+00],\n",
       "       [ 1.13490950e+02],\n",
       "       [ 6.86021126e+01],\n",
       "       [-1.25184000e+06],\n",
       "       [ 1.41910816e+02],\n",
       "       [ 6.52915995e+01],\n",
       "       [ 1.13490950e+02],\n",
       "       [ 5.40137853e+01],\n",
       "       [ 7.31646033e+00],\n",
       "       [ 1.52660331e+01],\n",
       "       [ 9.27079568e+01],\n",
       "       [ 3.56021126e+01],\n",
       "       [ 4.79148404e+01],\n",
       "       [-1.25184000e+06],\n",
       "       [ 2.36021126e+01],\n",
       "       [ 3.09248491e+00],\n",
       "       [ 7.47977762e+01],\n",
       "       [ 1.32932305e+01],\n",
       "       [ 1.19775364e+02],\n",
       "       [ 6.44534069e-01],\n",
       "       [ 2.36021126e+01],\n",
       "       [ 2.51396795e+01],\n",
       "       [ 6.52915995e+01],\n",
       "       [ 8.36021126e+01],\n",
       "       [-1.52283000e+06],\n",
       "       [ 1.68951877e+01],\n",
       "       [-1.52283000e+06],\n",
       "       [ 1.62329296e+00],\n",
       "       [-1.52283000e+06],\n",
       "       [ 5.10071786e+01],\n",
       "       [-1.52283000e+06],\n",
       "       [ 9.84708174e+01],\n",
       "       [-1.52283000e+06],\n",
       "       [ 2.36021126e+01],\n",
       "       [-1.52283000e+06],\n",
       "       [ 3.56021126e+01],\n",
       "       [-1.52283000e+06],\n",
       "       [ 4.42123620e+01],\n",
       "       [-1.52283000e+06],\n",
       "       [ 6.30308189e+01],\n",
       "       [-1.52283000e+06],\n",
       "       [ 3.02577390e+01],\n",
       "       [ 1.40039644e+02],\n",
       "       [ 1.07360356e+02],\n",
       "       [-1.47876000e+06],\n",
       "       [ 2.22071529e+01],\n",
       "       [-1.47876000e+06],\n",
       "       [-1.66682500e+06],\n",
       "       [-1.47876000e+06],\n",
       "       [-1.66682500e+06],\n",
       "       [-1.47876000e+06],\n",
       "       [-1.66682500e+06],\n",
       "       [-1.47876000e+06],\n",
       "       [-1.66682500e+06],\n",
       "       [-1.47876000e+06],\n",
       "       [-1.66682500e+06],\n",
       "       [-1.47876000e+06],\n",
       "       [-1.66682500e+06],\n",
       "       [-1.47876000e+06],\n",
       "       [-1.66682500e+06],\n",
       "       [-1.47876000e+06],\n",
       "       [-1.66682500e+06],\n",
       "       [ 8.88955951e+00],\n",
       "       [-1.66682500e+06],\n",
       "       [ 4.79148404e+01],\n",
       "       [ 3.81318824e+00],\n",
       "       [ 5.40137853e+01],\n",
       "       [ 1.07360356e+02],\n",
       "       [ 2.06021126e+01],\n",
       "       [ 2.06021126e+01],\n",
       "       [ 3.81318824e+00],\n",
       "       [ 7.31646033e+00],\n",
       "       [ 7.08749338e+01],\n",
       "       [ 4.30586937e+01],\n",
       "       [ 1.96929043e+01],\n",
       "       [ 9.92440882e+01],\n",
       "       [ 1.32539360e+01],\n",
       "       [ 1.85594945e+02],\n",
       "       [ 5.56021126e+01],\n",
       "       [ 6.43229493e+01],\n",
       "       [ 3.56021126e+01],\n",
       "       [ 4.97910710e-01],\n",
       "       [ 6.44534069e-01],\n",
       "       [ 9.27079568e+01],\n",
       "       [ 6.43229493e+01],\n",
       "       [ 2.04326257e+01],\n",
       "       [ 4.42123620e+01],\n",
       "       [ 2.48709995e+01],\n",
       "       [ 2.77790346e+01],\n",
       "       [ 7.97566181e+01],\n",
       "       [ 8.88955951e+00],\n",
       "       [ 2.77790346e+01],\n",
       "       [ 3.56021126e+01],\n",
       "       [ 8.88955951e+00],\n",
       "       [ 7.97566181e+01],\n",
       "       [-1.52283000e+06],\n",
       "       [ 3.32427578e+01],\n",
       "       [-1.52283000e+06],\n",
       "       [ 5.10071786e+01],\n",
       "       [-1.52283000e+06],\n",
       "       [ 1.74729162e+02],\n",
       "       [-1.52283000e+06],\n",
       "       [ 3.09248491e+00],\n",
       "       [-1.52283000e+06],\n",
       "       [ 9.84057108e+01],\n",
       "       [-1.52283000e+06],\n",
       "       [ 4.97910710e-01],\n",
       "       [-1.52283000e+06],\n",
       "       [ 1.84173156e+02],\n",
       "       [-1.52283000e+06],\n",
       "       [ 1.71172613e+01],\n",
       "       [-1.52283000e+06],\n",
       "       [ 4.83108196e+01],\n",
       "       [ 2.00272427e+01],\n",
       "       [ 1.78964592e+01],\n",
       "       [ 6.61620593e+00],\n",
       "       [ 3.56021126e+01],\n",
       "       [ 7.08749338e+01],\n",
       "       [ 2.86021126e+01],\n",
       "       [ 7.47977762e+01],\n",
       "       [ 1.63968818e+02],\n",
       "       [ 3.32427578e+01],\n",
       "       [ 2.05180694e+01],\n",
       "       [ 5.69502040e+01],\n",
       "       [ 1.62329296e+00],\n",
       "       [ 3.02577390e+01],\n",
       "       [ 1.17203019e+02],\n",
       "       [ 4.79148404e+01],\n",
       "       [ 1.56734171e+02],\n",
       "       [ 8.88955951e+00],\n",
       "       [ 1.68951877e+01],\n",
       "       [ 1.63968818e+02],\n",
       "       [ 7.69453529e+00],\n",
       "       [ 4.46021126e+01],\n",
       "       [ 5.84363374e+01],\n",
       "       [ 1.32539360e+01],\n",
       "       [ 1.46770807e+01],\n",
       "       [ 2.28245512e+01],\n",
       "       [ 2.51396795e+01],\n",
       "       [ 1.19775364e+02],\n",
       "       [ 8.88955951e+00],\n",
       "       [ 1.13108264e+02],\n",
       "       [ 3.18056440e+01],\n",
       "       [ 1.56734171e+02],\n",
       "       [ 1.07360356e+02],\n",
       "       [ 1.71172613e+01],\n",
       "       [-1.25184000e+06],\n",
       "       [ 2.86021126e+01],\n",
       "       [-1.25184000e+06],\n",
       "       [ 3.57456172e+01],\n",
       "       [-1.25184000e+06],\n",
       "       [ 7.69453529e+00]])"
      ]
     },
     "execution_count": 21,
     "metadata": {},
     "output_type": "execute_result"
    }
   ],
   "source": [
    "new_Y"
   ]
  },
  {
   "cell_type": "code",
   "execution_count": 22,
   "metadata": {},
   "outputs": [
    {
     "data": {
      "image/png": "[encoded data removed]",
      "text/plain": [
       "<Figure size 432x288 with 1 Axes>"
      ]
     },
     "metadata": {
      "needs_background": "light"
     },
     "output_type": "display_data"
    }
   ],
   "source": [
    "plt.plot(new_X, new_Y)\n",
    "plt.style.use('seaborn')\n",
    "plt.title(\"Initial runs\")\n",
    "plt.xlabel(parameter_space.parameters[0].name)\n",
    "plt.ylabel(\"Cumulative reward\")\n",
    "plt.show()\n"
   ]
  },
  {
   "cell_type": "code",
   "execution_count": 23,
   "metadata": {},
   "outputs": [],
   "source": [
    "x_plot = np.reshape(np.array([i for i in range(0, 25)]), (-1,1))\n"
   ]
  },
  {
   "cell_type": "code",
   "execution_count": 24,
   "metadata": {},
   "outputs": [
    {
     "data": {
      "text/plain": [
       "array([[ 0.67598263,  7.89357897],\n",
       "       [-4.90403247,  1.66587004],\n",
       "       [-3.27333297, 12.84210761],\n",
       "       [-1.39062694,  9.55228579],\n",
       "       [ 9.99728467,  9.52052378],\n",
       "       [-4.44788004, 13.86087494],\n",
       "       [-1.53083939, 13.47664296],\n",
       "       [ 7.22180989,  0.36972874],\n",
       "       [ 0.68054663,  2.99776876],\n",
       "       [ 3.65392211,  3.11079139],\n",
       "       [ 2.04140318, 10.42211569],\n",
       "       [-1.57951359,  5.67629644],\n",
       "       [ 8.11124955,  1.11031031],\n",
       "       [-0.30558555, 10.01295287],\n",
       "       [ 7.25198562,  4.70857172],\n",
       "       [-1.2966964 , 13.65020551],\n",
       "       [-1.22630864, 12.8010343 ],\n",
       "       [-2.49658613,  4.45755414],\n",
       "       [ 6.96283975, 11.82548178],\n",
       "       [ 9.10998899,  7.46762497],\n",
       "       [ 4.29527789,  6.73820087],\n",
       "       [ 8.67884302, 14.3774824 ],\n",
       "       [-2.42619991, 10.92825202],\n",
       "       [-3.06880834,  4.13366881],\n",
       "       [ 3.89105928, 13.42498162],\n",
       "       [ 0.31589175,  8.42520976],\n",
       "       [-0.91817469,  6.74918465],\n",
       "       [ 5.03887102,  9.49100692],\n",
       "       [ 2.6378137 ,  6.69525169],\n",
       "       [ 9.8117196 ,  3.86327194],\n",
       "       [ 8.08979634, 14.0458589 ],\n",
       "       [ 2.00710024,  9.75754075],\n",
       "       [-0.64876832,  8.92921261],\n",
       "       [ 8.93759313,  3.0570194 ],\n",
       "       [-4.91028597, 10.95563111],\n",
       "       [-0.41304682,  0.41583621],\n",
       "       [ 1.36843625,  3.13446564],\n",
       "       [ 1.48300712,  1.49666658],\n",
       "       [ 7.82512425,  7.06701401],\n",
       "       [ 5.92001708, 13.60358278],\n",
       "       [ 8.14349593,  3.78687718],\n",
       "       [ 8.94851275,  1.82609826],\n",
       "       [-0.67534158,  8.15873096],\n",
       "       [ 2.15766057,  1.39912211],\n",
       "       [ 0.57941978,  2.2136656 ],\n",
       "       [ 0.45310603,  7.24751317],\n",
       "       [ 7.86583909, 10.30553438],\n",
       "       [ 2.56648939,  2.78157081],\n",
       "       [ 1.04708419,  1.99608993],\n",
       "       [ 0.09421364,  9.15958191],\n",
       "       [ 6.54013582, 10.2814823 ],\n",
       "       [ 3.94269618,  4.32285476],\n",
       "       [ 6.55999875,  8.74757129],\n",
       "       [-0.54213912, 14.56780745],\n",
       "       [-0.09014503, 12.29046615],\n",
       "       [-4.00745187,  1.62199071],\n",
       "       [ 9.57605586,  4.78218849],\n",
       "       [-2.37336209,  3.67371167],\n",
       "       [-4.07878953,  1.31453889],\n",
       "       [ 2.0633432 , 13.26296715],\n",
       "       [-4.74187945,  3.9115574 ],\n",
       "       [-4.03582685, 10.243653  ],\n",
       "       [-1.31688863, 11.42914374],\n",
       "       [ 6.32890807,  2.89932982],\n",
       "       [-3.90337833,  9.19904367],\n",
       "       [-2.48321121,  6.26727867],\n",
       "       [ 6.39706041,  7.26401335],\n",
       "       [ 4.35852044,  0.76061332],\n",
       "       [ 5.42524302, 12.39906821],\n",
       "       [-4.18350711,  7.44610934],\n",
       "       [ 7.29957779,  8.01348884],\n",
       "       [ 7.1495468 ,  3.46835245],\n",
       "       [ 1.29428352,  0.95921679],\n",
       "       [-1.50756192,  3.04893183],\n",
       "       [-4.07193054,  0.23888447],\n",
       "       [ 2.37482353, 13.69052155],\n",
       "       [ 5.80317457,  5.01652484],\n",
       "       [ 9.0652892 , 13.89570266],\n",
       "       [-3.41697935, 12.63086984],\n",
       "       [ 8.7274708 , 13.45133704],\n",
       "       [ 9.23959237, 14.77185628],\n",
       "       [-2.76238822, 10.06878537],\n",
       "       [-3.92478865,  2.67461041],\n",
       "       [ 1.81735495,  6.28374803],\n",
       "       [-3.24443868,  4.92079113],\n",
       "       [ 7.320962  ,  3.16318526],\n",
       "       [ 9.60003655,  4.13112287],\n",
       "       [ 8.18627634,  6.78191241],\n",
       "       [ 8.04204108,  1.487301  ],\n",
       "       [ 9.02497978,  1.51020711],\n",
       "       [ 7.82935991,  3.26329348],\n",
       "       [-1.47680213, 12.27832434],\n",
       "       [ 9.6968257 ,  7.31102636],\n",
       "       [ 6.3790449 ,  8.61151472],\n",
       "       [ 1.25144512,  2.82598115],\n",
       "       [ 9.88347082,  0.42247653],\n",
       "       [-4.78111188,  5.07987638],\n",
       "       [ 2.27650589, 12.54500744],\n",
       "       [ 7.04397101, 12.17195375],\n",
       "       [-3.5737265 ,  9.16366874]])"
      ]
     },
     "execution_count": 24,
     "metadata": {},
     "output_type": "execute_result"
    }
   ],
   "source": [
    "X"
   ]
  },
  {
   "cell_type": "code",
   "execution_count": 25,
   "metadata": {},
   "outputs": [
    {
     "data": {
      "image/png": "[encoded data removed]",
      "text/plain": [
       "<Figure size 864x576 with 1 Axes>"
      ]
     },
     "metadata": {},
     "output_type": "display_data"
    }
   ],
   "source": [
    "mu_plot, var_plot = model_emukit.predict(x_plot)\n",
    "\n",
    "plt.figure(figsize=(12, 8))\n",
    "LEGEND_SIZE = 15\n",
    "plt.plot(new_X, new_Y, \"ro\", markersize=10, label=\"All observations\")\n",
    "plt.plot(X, Y, \"bo\", markersize=10, label=\"Initial observations\")\n",
    "# plt.plot(x_plot, y_plot, \"k\", label=\"Objective Function\")\n",
    "plt.plot(x_plot, mu_plot, \"C0\", label=\"Model\")\n",
    "plt.fill_between(x_plot[:, 0],\n",
    "                 mu_plot[:, 0] + np.sqrt(var_plot)[:, 0],\n",
    "                 mu_plot[:, 0] - np.sqrt(var_plot)[:, 0], color=\"C0\", alpha=0.6)\n",
    "plt.fill_between(x_plot[:, 0],\n",
    "                 mu_plot[:, 0] + 2 * np.sqrt(var_plot)[:, 0],\n",
    "                 mu_plot[:, 0] - 2 * np.sqrt(var_plot)[:, 0], color=\"C0\", alpha=0.4)\n",
    "plt.fill_between(x_plot[:, 0],\n",
    "                 mu_plot[:, 0] + 3 * np.sqrt(var_plot)[:, 0],\n",
    "                 mu_plot[:, 0] - 3 * np.sqrt(var_plot)[:, 0], color=\"C0\", alpha=0.2)\n",
    "\n",
    "plt.legend(loc=2, prop={'size': LEGEND_SIZE})\n",
    "plt.xlabel(r\"$x$\")\n",
    "plt.ylabel(r\"$f(x)$\")\n",
    "plt.grid(True)\n",
    "plt.xlim(0, 25)\n",
    "plt.show()\n"
   ]
  },
  {
   "cell_type": "code",
   "execution_count": 26,
   "metadata": {},
   "outputs": [
    {
     "data": {
      "image/png": "[encoded data removed]",
      "text/plain": [
       "<Figure size 864x576 with 1 Axes>"
      ]
     },
     "metadata": {},
     "output_type": "display_data"
    }
   ],
   "source": [
    "mu_plot, var_plot = model_emukit.predict(x_plot)\n",
    "\n",
    "plt.figure(figsize=(12, 8))\n",
    "LEGEND_SIZE = 15\n",
    "plt.plot(new_X, new_Y, \"ro\", markersize=10, label=\"All observations\")\n",
    "plt.plot(X, Y, \"bo\", markersize=10, label=\"Initial observations\")\n",
    "# plt.plot(x_plot, y_plot, \"k\", label=\"Objective Function\")\n",
    "plt.plot(x_plot, mu_plot, \"C0\", label=\"Model\")\n",
    "plt.fill_between(x_plot[:, 0],\n",
    "                 mu_plot[:, 0] + np.sqrt(var_plot)[:, 0],\n",
    "                 mu_plot[:, 0] - np.sqrt(var_plot)[:, 0], color=\"C0\", alpha=0.6)\n",
    "plt.fill_between(x_plot[:, 0],\n",
    "                 mu_plot[:, 0] + 2 * np.sqrt(var_plot)[:, 0],\n",
    "                 mu_plot[:, 0] - 2 * np.sqrt(var_plot)[:, 0], color=\"C0\", alpha=0.4)\n",
    "plt.fill_between(x_plot[:, 0],\n",
    "                 mu_plot[:, 0] + 3 * np.sqrt(var_plot)[:, 0],\n",
    "                 mu_plot[:, 0] - 3 * np.sqrt(var_plot)[:, 0], color=\"C0\", alpha=0.2)\n",
    "\n",
    "plt.legend(loc=2, prop={'size': LEGEND_SIZE})\n",
    "plt.xlabel(r\"$x$\")\n",
    "plt.ylabel(r\"$f(x)$\")\n",
    "plt.grid(True)\n",
    "plt.xlim(0, 25)\n",
    "plt.show()"
   ]
  },
  {
   "cell_type": "code",
   "execution_count": 27,
   "metadata": {},
   "outputs": [
    {
     "name": "stdout",
     "output_type": "stream",
     "text": [
      "minimum reward = -1666825.0\n",
      "(X = [-2.75886254  9.39312586], Y = -1666825.0)\n"
     ]
    }
   ],
   "source": [
    "results = bayesopt_loop.get_results()\n",
    "\n",
    "print(\"minimum reward = {}\".format(results.minimum_value))\n",
    "print(\"(X = {}, Y = {})\".format(results.minimum_location, results.minimum_value))"
   ]
  },
  {
   "cell_type": "code",
   "execution_count": 28,
   "metadata": {},
   "outputs": [],
   "source": [
    "us_plot = us_acquisition.evaluate(x_plot)\n",
    "ivr_plot = ivr_acquisition.evaluate(x_plot)"
   ]
  },
  {
   "cell_type": "markdown",
   "metadata": {},
   "source": [
    "IVR is arguably te more principled approach, but often US is preferred over IVR simply because it lends itself to gradient based optimization more easily, is cheaper to compute, and is exact. For both of them (stochastic) gradient base optimizers are used to retrieve the next datapoint"
   ]
  },
  {
   "cell_type": "code",
   "execution_count": 29,
   "metadata": {},
   "outputs": [
    {
     "data": {
      "image/png": "[encoded data removed]",
      "text/plain": [
       "<Figure size 864x576 with 1 Axes>"
      ]
     },
     "metadata": {},
     "output_type": "display_data"
    }
   ],
   "source": [
    "plt.figure(figsize=(12, 8))\n",
    "plt.plot(x_plot, us_plot / np.max(us_plot), \"green\", label=\"US\")\n",
    "plt.plot(x_plot, ivr_plot / np.max(ivr_plot) , \"purple\", label=\"IVR\")\n",
    "\n",
    "plt.legend(loc=1, prop={'size': LEGEND_SIZE})\n",
    "plt.xlabel(r\"$x$\")\n",
    "plt.ylabel(r\"$f(x)$\")\n",
    "plt.grid(True)\n",
    "plt.xlim(0, 1)\n",
    "plt.show()"
   ]
  },
  {
   "cell_type": "markdown",
   "metadata": {},
   "source": [
    "# Saving code for later plotting"
   ]
  },
  {
   "cell_type": "code",
   "execution_count": 30,
   "metadata": {},
   "outputs": [
    {
     "ename": "NameError",
     "evalue": "name 'space' is not defined",
     "output_type": "error",
     "traceback": [
      "\u001b[0;31m---------------------------------------------------------------------------\u001b[0m",
      "\u001b[0;31mNameError\u001b[0m                                 Traceback (most recent call last)",
      "\u001b[0;32m<ipython-input-30-c9aba1627c17>\u001b[0m in \u001b[0;36m<module>\u001b[0;34m\u001b[0m\n\u001b[1;32m     12\u001b[0m \u001b[0;31m# Make BO loop\u001b[0m\u001b[0;34m\u001b[0m\u001b[0;34m\u001b[0m\u001b[0;34m\u001b[0m\u001b[0m\n\u001b[1;32m     13\u001b[0m bo_loop = BayesianOptimizationLoop(\n\u001b[0;32m---> 14\u001b[0;31m     space, emukit_model, ei, acquisition_optimizer=acquisition_optimizer)\n\u001b[0m\u001b[1;32m     15\u001b[0m \u001b[0;31m# append plot_progress function to iteration end event\u001b[0m\u001b[0;34m\u001b[0m\u001b[0;34m\u001b[0m\u001b[0;34m\u001b[0m\u001b[0m\n\u001b[1;32m     16\u001b[0m \u001b[0mbo_loop\u001b[0m\u001b[0;34m.\u001b[0m\u001b[0miteration_end_event\u001b[0m\u001b[0;34m.\u001b[0m\u001b[0mappend\u001b[0m\u001b[0;34m(\u001b[0m\u001b[0mplot_progress\u001b[0m\u001b[0;34m)\u001b[0m\u001b[0;34m\u001b[0m\u001b[0;34m\u001b[0m\u001b[0m\n",
      "\u001b[0;31mNameError\u001b[0m: name 'space' is not defined"
     ]
    }
   ],
   "source": [
    "def plot_progress(loop, loop_state):\n",
    "    plt.figure(figsize=FIG_SIZE)\n",
    "    plt.contourf(x_1, x_2, y_reshape)\n",
    "    # plt.plot(x_0_constraint, x_1_constraint, linewidth=3, color='k')\n",
    "    plt.plot(loop_state.X[:-1, 0], loop_state.X[:-1, 1],\n",
    "             linestyle='', marker='.', markersize=16, color='b')\n",
    "    plt.plot(loop_state.X[-1, 0], loop_state.X[-1, 1],\n",
    "             linestyle='', marker='.', markersize=16, color='r')\n",
    "    plt.legend(['Constraint boundary', 'Previously evaluated points', 'Last evaluation'])\n",
    "\n",
    "\n",
    "# Make BO loop\n",
    "bo_loop = BayesianOptimizationLoop(\n",
    "    space, emukit_model, ei, acquisition_optimizer=acquisition_optimizer)\n",
    "# append plot_progress function to iteration end event\n",
    "bo_loop.iteration_end_event.append(plot_progress)\n",
    "bo_loop.run_loop(f, 10)"
   ]
  },
  {
   "cell_type": "markdown",
   "metadata": {},
   "source": [
    "# Plotting 2D branin"
   ]
  },
  {
   "cell_type": "code",
   "execution_count": null,
   "metadata": {},
   "outputs": [],
   "source": [
    "plt.figure(figsize=(8,8))\n",
    "ax = plt.axes(projection='3d')\n",
    "\n",
    "zline = bayesopt_loop.loop_state.Y.flatten()\n",
    "xline = bayesopt_loop.loop_state.X[:, 0]\n",
    "yline = bayesopt_loop.loop_state.X[:, 1]\n",
    "ax.plot_trisurf(xline, yline, zline, cmap='viridis')\n",
    "plt.show()"
   ]
  },
  {
   "cell_type": "code",
   "execution_count": null,
   "metadata": {},
   "outputs": [],
   "source": [
    "x_ax, y_ax = np.meshgrid(new_X[:, 0], new_X[:, 1])\n",
    "vals = np.c_[x_ax.ravel(), y_ax.ravel()]\n",
    "fx = np.reshape([branin(val) for val in vals], x_ax.shape)\n",
    "\n",
    "fig, ax = plt.subplots(figsize=(8, 8))\n",
    "cm = ax.pcolormesh(x_ax, y_ax, fx,\n",
    "                   norm=LogNorm(vmin=fx.min(),\n",
    "                                vmax=fx.max()),\n",
    "                   cmap='viridis_r')\n",
    "\n",
    "minima = np.array([[-np.pi, 12.275], [+np.pi, 2.275], [9.42478, 2.475]])\n",
    "\n",
    "found_minima = new_X[np.where((new_Y == np.min(new_Y)))[0]]\n",
    "\n",
    "\n",
    "ax.plot(minima[:, 0], minima[:, 1], \"r.\", markersize=14,\n",
    "        lw=0, label=\"Branin Minima\")\n",
    "ax.plot(found_minima[:, 0], found_minima[:, 1], \"y.\", markersize=14,\n",
    "        lw=0, label=\"Sampled Minima\")\n",
    "\n",
    "cb = fig.colorbar(cm)\n",
    "cb.set_label(\"f(x)\")\n",
    "\n",
    "ax.legend(loc=\"best\", numpoints=1)\n",
    "\n",
    "ax.set_xlabel(\"X1\")\n",
    "ax.set_xlim([-5, 10])\n",
    "ax.set_ylabel(\"X2\")\n",
    "ax.set_ylim([0, 15])\n"
   ]
  },
  {
   "cell_type": "code",
   "execution_count": null,
   "metadata": {},
   "outputs": [],
   "source": []
  },
  {
   "cell_type": "code",
   "execution_count": null,
   "metadata": {},
   "outputs": [],
   "source": []
  }
 ],
 "metadata": {
  "interpreter": {
   "hash": "2e7fa7328eade0d734d2145bc41f686310ac84f910f69ec4d3e3a3661d80fa54"
  },
  "kernelspec": {
   "display_name": "Python 3",
   "language": "python",
   "name": "python3"
  },
  "language_info": {
   "codemirror_mode": {
    "name": "ipython",
    "version": 3
   },
   "file_extension": ".py",
   "mimetype": "text/x-python",
   "name": "python",
   "nbconvert_exporter": "python",
   "pygments_lexer": "ipython3",
   "version": "3.8.8"
  }
 },
 "nbformat": 4,
 "nbformat_minor": 2
}
