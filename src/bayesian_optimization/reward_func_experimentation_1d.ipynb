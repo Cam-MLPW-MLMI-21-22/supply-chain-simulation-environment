{
 "cells": [
  {
   "cell_type": "code",
   "execution_count": 5,
   "id": "5c2c946c",
   "metadata": {},
   "outputs": [],
   "source": [
    "# modified from test.ipynb and main.py\n",
    "\n",
    "from matplotlib import pyplot as plt\n",
    "import numpy as np\n",
    "import GPy\n",
    "\n",
    "import warnings\n",
    "warnings.filterwarnings('ignore')\n",
    "\n",
    "import logging\n",
    "logging.basicConfig(level=logging.INFO)\n",
    "\n",
    "from emukit.model_wrappers import GPyModelWrapper\n",
    "from emukit.model_wrappers.gpy_quadrature_wrappers import BaseGaussianProcessGPy, RBFGPy\n",
    "\n",
    "from emukit.core import ParameterSpace, ContinuousParameter, DiscreteParameter\n",
    "from emukit.core.loop import UserFunctionWrapper\n",
    "\n",
    "from emukit.core import ParameterSpace, ContinuousParameter\n",
    "from emukit.core.initial_designs import RandomDesign\n",
    "\n",
    "from GPy.models import GPRegression\n",
    "\n",
    "from skopt.benchmarks import branin as _branin\n",
    "from emukit.test_functions import branin_function\n",
    "\n",
    "from scse.api.simulation import run_simulation\n",
    "\n",
    "from matplotlib.colors import LogNorm\n",
    "from matplotlib import pyplot as plt\n",
    "\n",
    "# Decision loops \n",
    "from emukit.experimental_design import ExperimentalDesignLoop\n",
    "from emukit.bayesian_optimization.loops import BayesianOptimizationLoop\n",
    "from emukit.quadrature.loop import VanillaBayesianQuadratureLoop\n",
    "\n",
    "# Acquisition functions \n",
    "from emukit.bayesian_optimization.acquisitions import ExpectedImprovement\n",
    "from emukit.experimental_design.acquisitions import ModelVariance\n",
    "# from emukit.quadrature.acquisitions import IntegralVarianceReduction\n",
    "from emukit.experimental_design.acquisitions import IntegratedVarianceReduction\n",
    "\n",
    "# Acquistion optimizers\n",
    "from emukit.core.optimization import GradientAcquisitionOptimizer\n",
    "\n",
    "# Stopping conditions\n",
    "from emukit.core.loop import FixedIterationsStoppingCondition\n",
    "from emukit.core.loop import ConvergenceStoppingCondition\n",
    "\n",
    "from emukit.bayesian_optimization.acquisitions.log_acquisition import LogAcquisition"
   ]
  },
  {
   "cell_type": "code",
   "execution_count": 6,
   "id": "df8fa65a",
   "metadata": {},
   "outputs": [],
   "source": [
    "from loop import *"
   ]
  },
  {
   "cell_type": "code",
   "execution_count": 8,
   "id": "34ec78e2",
   "metadata": {},
   "outputs": [],
   "source": [
    "max_num_batteries = 20#200#25\n",
    "num_batteries = DiscreteParameter(\n",
    "    'num_batteries', [i for i in range(0, max_num_batteries)])\n",
    "timsteps_per_week = 336\n",
    "num_weeks = 1\n",
    "time_horizon = DiscreteParameter(\n",
    "    'time_horizon', [i for i in range(0, num_weeks*timsteps_per_week, timsteps_per_week)])\n",
    "parameter_space = ParameterSpace([num_batteries])\n",
    "design = RandomDesign(parameter_space)"
   ]
  },
  {
   "cell_type": "code",
   "execution_count": 9,
   "id": "9d65f8ce",
   "metadata": {},
   "outputs": [],
   "source": [
    "# battery_penalty = 735916.40/20\n",
    "def f(X):\n",
    "    \"\"\"\n",
    "    Handling API call to miniSCOT simulation given some inputs\n",
    "\n",
    "    X contains parameter configs x = [x0 x1 ...]\n",
    "    - The order of parameters in x should follow the order specified in the parameter_space declaration\n",
    "    - E.g. here we specify num_batteries = x[0]\n",
    "\n",
    "    \"\"\"\n",
    "    Y = []\n",
    "    for x in X:\n",
    "        num_batteries = x[0]\n",
    "\n",
    "        cum_reward = run_simulation(\n",
    "            time_horizon=timsteps_per_week * num_weeks, num_batteries=num_batteries)#,battery_penalty=battery_penalty)\n",
    "\n",
    "        Y.append(-cum_reward[-1])\n",
    "\n",
    "    Y = np.reshape(np.array(Y), (-1, 1))\n",
    "    return Y"
   ]
  },
  {
   "cell_type": "code",
   "execution_count": 5,
   "id": "e550b466",
   "metadata": {},
   "outputs": [],
   "source": [
    "\n",
    "# X = design.get_samples(num_data_points)\n",
    "# Y = f(X)\n"
   ]
  },
  {
   "cell_type": "code",
   "execution_count": 6,
   "id": "c9e23ec7",
   "metadata": {},
   "outputs": [],
   "source": [
    "# # emulator model\n",
    "# use_default= False\n",
    "# use_ard=True\n",
    "# if use_default: \n",
    "#     gpy_model = GPRegression(X, Y)\n",
    "# else: \n",
    "#     kernel = GPy.kern.RBF(1, lengthscale=1e1, variance=1e4, ARD=use_ard)\n",
    "#     gpy_model = GPy.models.GPRegression(X, Y, kernel, noise_var=1e-10)\n",
    "# gpy_model.optimize()\n",
    "# model_emukit = GPyModelWrapper(gpy_model)"
   ]
  },
  {
   "cell_type": "code",
   "execution_count": 7,
   "id": "d9897e61",
   "metadata": {},
   "outputs": [],
   "source": [
    "# # Load core elements for Bayesian optimization\n",
    "# expected_improvement = ExpectedImprovement(model=model_emukit)\n",
    "# optimizer = GradientAcquisitionOptimizer(space=parameter_space)"
   ]
  },
  {
   "cell_type": "code",
   "execution_count": 8,
   "id": "6836461c",
   "metadata": {},
   "outputs": [],
   "source": [
    "# # Create the Bayesian optimization object\n",
    "# batch_size = 3\n",
    "# bayesopt_loop = BayesianOptimizationLoop(model=model_emukit,\n",
    "#                                          space=parameter_space,\n",
    "#                                          acquisition=expected_improvement,\n",
    "#                                          batch_size=batch_size)\n"
   ]
  },
  {
   "cell_type": "code",
   "execution_count": 9,
   "id": "84bfb4ab",
   "metadata": {},
   "outputs": [],
   "source": [
    "# # Run the loop and extract the optimum;  we either complete 10 steps or converge\n",
    "# max_iters = 10\n",
    "# stopping_condition = FixedIterationsStoppingCondition(\n",
    "#     i_max=max_iters) | ConvergenceStoppingCondition(eps=0.01)\n",
    "\n",
    "# bayesopt_loop.run_loop(f, stopping_condition)"
   ]
  },
  {
   "cell_type": "code",
   "execution_count": 10,
   "id": "42cc1300",
   "metadata": {},
   "outputs": [
    {
     "name": "stdout",
     "output_type": "stream",
     "text": [
      "CURRENT ATTEMPT #0\n"
     ]
    },
    {
     "data": {
      "image/png": "[encoded data removed]",
      "text/plain": [
       "<Figure size 432x288 with 1 Axes>"
      ]
     },
     "metadata": {
      "needs_background": "light"
     },
     "output_type": "display_data"
    },
    {
     "name": "stdout",
     "output_type": "stream",
     "text": [
      "okay to optimize\n",
      "successfully ran loop\n"
     ]
    }
   ],
   "source": [
    "# Initial set of batteries and associated reward of simulation\n",
    "num_data_points = 5\n",
    "successful_sample = False\n",
    "num_tries = 0\n",
    "max_num_tries = 3\n",
    "\n",
    "use_default= False\n",
    "use_ard=False\n",
    "\n",
    "while not successful_sample and num_tries < max_num_tries: \n",
    "    \n",
    "    print(f\"CURRENT ATTEMPT #{num_tries}\")\n",
    "    \n",
    "    X = design.get_samples(num_data_points)\n",
    "    Y = f(X)\n",
    "    \n",
    "    # plot init values\n",
    "    order = X.argsort(axis=0)\n",
    "    init_X = X[order].flatten().reshape(-1, 1)\n",
    "    init_Y = Y[order].flatten().reshape(-1, 1)\n",
    "    plt.plot(init_X, init_Y)\n",
    "    plt.style.use('seaborn')\n",
    "    plt.title(\"Initial runs\")\n",
    "    plt.xlabel(parameter_space.parameters[0].name)\n",
    "    plt.ylabel(\"Cumulative reward\")\n",
    "    plt.show()\n",
    "    \n",
    "    # emulator model\n",
    "\n",
    "    if use_default: \n",
    "        gpy_model = GPRegression(X, Y)\n",
    "    else: \n",
    "        kernel = GPy.kern.RBF(1, lengthscale=1e1, variance=1e4, ARD=use_ard)\n",
    "        gpy_model = GPy.models.GPRegression(X, Y, kernel, noise_var=1e-10)\n",
    "    \n",
    "    try: \n",
    "        gpy_model.optimize()\n",
    "        print(\"okay to optimize\")\n",
    "        model_emukit = GPyModelWrapper(gpy_model)\n",
    "\n",
    "        # Load core elements for Bayesian optimization\n",
    "        expected_improvement = ExpectedImprovement(model=model_emukit)\n",
    "        optimizer = GradientAcquisitionOptimizer(space=parameter_space)\n",
    "\n",
    "        # Create the Bayesian optimization object\n",
    "        batch_size = 3\n",
    "        bayesopt_loop = BayesianOptimizationLoop(model=model_emukit,\n",
    "                                                 space=parameter_space,\n",
    "                                                 acquisition=expected_improvement,\n",
    "                                                 batch_size=batch_size)\n",
    "\n",
    "        # Run the loop and extract the optimum;  we either complete 10 steps or converge\n",
    "        max_iters = 10\n",
    "        stopping_condition = FixedIterationsStoppingCondition(\n",
    "            i_max=max_iters) | ConvergenceStoppingCondition(eps=0.01)\n",
    "\n",
    "\n",
    "        bayesopt_loop.run_loop(f, stopping_condition)\n",
    "        print(\"successfully ran loop\")\n",
    "        successful_sample = True\n",
    "        \n",
    "    except: \n",
    "        num_tries += 1 \n",
    "        \n",
    "\n"
   ]
  },
  {
   "cell_type": "code",
   "execution_count": 11,
   "id": "4303eb0c",
   "metadata": {},
   "outputs": [
    {
     "data": {
      "text/plain": [
       "(array([[17],\n",
       "        [11],\n",
       "        [ 4],\n",
       "        [ 1],\n",
       "        [12]]),\n",
       " array([[4379636.92906392],\n",
       "        [5207333.70057078],\n",
       "        [6777629.19066211],\n",
       "        [7992818.83141553],\n",
       "        [5036504.30198631]]))"
      ]
     },
     "execution_count": 11,
     "metadata": {},
     "output_type": "execute_result"
    }
   ],
   "source": [
    "X,Y"
   ]
  },
  {
   "cell_type": "code",
   "execution_count": 13,
   "id": "ab24027a",
   "metadata": {},
   "outputs": [],
   "source": [
    "# Visualize and get extrema\n",
    "new_X, new_Y = bayesopt_loop.loop_state.X, bayesopt_loop.loop_state.Y"
   ]
  },
  {
   "cell_type": "code",
   "execution_count": 14,
   "id": "743a7c46",
   "metadata": {},
   "outputs": [
    {
     "name": "stdout",
     "output_type": "stream",
     "text": [
      "initial:  [[17]\n",
      " [11]\n",
      " [ 4]\n",
      " [ 1]\n",
      " [12]] [[4379636.92906392]\n",
      " [5207333.70057078]\n",
      " [6777629.19066211]\n",
      " [7992818.83141553]\n",
      " [5036504.30198631]]\n",
      "[[[ 1.]]\n",
      "\n",
      " [[ 1.]]\n",
      "\n",
      " [[ 1.]]\n",
      "\n",
      " [[ 4.]]\n",
      "\n",
      " [[ 4.]]\n",
      "\n",
      " [[11.]]\n",
      "\n",
      " [[12.]]\n",
      "\n",
      " [[17.]]\n",
      "\n",
      " [[19.]]\n",
      "\n",
      " [[19.]]\n",
      "\n",
      " [[19.]]] [[[7992818.83141553]]\n",
      "\n",
      " [[7992818.83141553]]\n",
      "\n",
      " [[7992818.83141553]]\n",
      "\n",
      " [[6777629.19066211]]\n",
      "\n",
      " [[6777629.19066211]]\n",
      "\n",
      " [[5207333.70057078]]\n",
      "\n",
      " [[5036504.30198631]]\n",
      "\n",
      " [[4379636.92906392]]\n",
      "\n",
      " [[4211405.93189498]]\n",
      "\n",
      " [[4211405.93189498]]\n",
      "\n",
      " [[4211405.93189498]]]\n"
     ]
    }
   ],
   "source": [
    "# print(new_X.shape)\n",
    "print(\"initial: \", X, Y)\n",
    "order = new_X.argsort(axis=0)\n",
    "print(new_X[order], new_Y[order])"
   ]
  },
  {
   "cell_type": "code",
   "execution_count": 15,
   "id": "27a8f965",
   "metadata": {},
   "outputs": [],
   "source": [
    "new_X = new_X[order].flatten().reshape(-1, 1)\n",
    "new_Y = new_Y[order].flatten().reshape(-1, 1)"
   ]
  },
  {
   "cell_type": "code",
   "execution_count": 16,
   "id": "f14bd443",
   "metadata": {},
   "outputs": [
    {
     "data": {
      "image/png": "[encoded data removed]",
      "text/plain": [
       "<Figure size 576x396 with 1 Axes>"
      ]
     },
     "metadata": {},
     "output_type": "display_data"
    }
   ],
   "source": [
    "plt.plot(new_X, new_Y)\n",
    "plt.style.use('seaborn')\n",
    "plt.title(\"Initial runs\")\n",
    "plt.xlabel(parameter_space.parameters[0].name)\n",
    "plt.ylabel(\"Cumulative reward\")\n",
    "plt.show()"
   ]
  },
  {
   "cell_type": "code",
   "execution_count": 17,
   "id": "0140bf4c",
   "metadata": {
    "scrolled": true
   },
   "outputs": [
    {
     "data": {
      "image/png": "[encoded data removed]",
      "text/plain": [
       "<Figure size 504x360 with 1 Axes>"
      ]
     },
     "metadata": {},
     "output_type": "display_data"
    }
   ],
   "source": [
    "x_plot = np.reshape(np.array([i for i in range(0, max_num_batteries)]), (-1,1))\n",
    "mu_plot, var_plot = model_emukit.predict(x_plot)\n",
    "\n",
    "# plt.figure(figsize=(12, 8))\n",
    "plt.figure(figsize=(7, 5))\n",
    "LEGEND_SIZE = 15\n",
    "plt.plot(new_X, new_Y, \"ro\", markersize=10, label=\"All observations\")\n",
    "plt.plot(X, Y, \"bo\", markersize=10, label=\"Initial observations\")\n",
    "# plt.plot(x_plot, y_plot, \"k\", label=\"Objective Function\")\n",
    "plt.plot(x_plot, mu_plot, \"C0\", label=\"Model\")\n",
    "plt.fill_between(x_plot[:, 0],\n",
    "                 mu_plot[:, 0] + np.sqrt(var_plot)[:, 0],\n",
    "                 mu_plot[:, 0] - np.sqrt(var_plot)[:, 0], color=\"C0\", alpha=0.6)\n",
    "plt.fill_between(x_plot[:, 0],\n",
    "                 mu_plot[:, 0] + 2 * np.sqrt(var_plot)[:, 0],\n",
    "                 mu_plot[:, 0] - 2 * np.sqrt(var_plot)[:, 0], color=\"C0\", alpha=0.4)\n",
    "plt.fill_between(x_plot[:, 0],\n",
    "                 mu_plot[:, 0] + 3 * np.sqrt(var_plot)[:, 0],\n",
    "                 mu_plot[:, 0] - 3 * np.sqrt(var_plot)[:, 0], color=\"C0\", alpha=0.2)\n",
    "\n",
    "plt.legend(loc=2, prop={'size': LEGEND_SIZE})\n",
    "plt.xlabel(r\"$x$\")\n",
    "plt.ylabel(r\"$f(x)$\")\n",
    "plt.grid(True)\n",
    "plt.xlim(0, 25)\n",
    "plt.show()"
   ]
  },
  {
   "cell_type": "code",
   "execution_count": null,
   "id": "efa26b10",
   "metadata": {},
   "outputs": [],
   "source": [
    "num_tries"
   ]
  },
  {
   "cell_type": "code",
   "execution_count": null,
   "id": "9afea79a",
   "metadata": {},
   "outputs": [],
   "source": []
  }
 ],
 "metadata": {
  "kernelspec": {
   "display_name": "Python 3 (ipykernel)",
   "language": "python",
   "name": "python3"
  },
  "language_info": {
   "codemirror_mode": {
    "name": "ipython",
    "version": 3
   },
   "file_extension": ".py",
   "mimetype": "text/x-python",
   "name": "python",
   "nbconvert_exporter": "python",
   "pygments_lexer": "ipython3",
   "version": "3.8.12"
  }
 },
 "nbformat": 4,
 "nbformat_minor": 5
}