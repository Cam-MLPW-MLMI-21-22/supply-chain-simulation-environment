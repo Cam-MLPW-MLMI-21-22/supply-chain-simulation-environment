{
 "cells": [
  {
   "cell_type": "code",
   "execution_count": 1,
   "id": "474417f9",
   "metadata": {},
   "outputs": [],
   "source": [
    "# %matplotlib widget\n",
    "%load_ext autoreload\n",
    "%autoreload 2"
   ]
  },
  {
   "cell_type": "markdown",
   "id": "c844721a",
   "metadata": {},
   "source": [
    "## Imports"
   ]
  },
  {
   "cell_type": "code",
   "execution_count": 2,
   "id": "5c2c946c",
   "metadata": {},
   "outputs": [],
   "source": [
    "# modified from test.ipynb and main.py\n",
    "\n",
    "import time\n",
    "from utils import plot_3d_boundary, plot_3d_observed_rewards\n",
    "from pylab import *\n",
    "from matplotlib import pyplot as plt\n",
    "from matplotlib import cm\n",
    "import numpy as np\n",
    "import GPy\n",
    "\n",
    "import warnings\n",
    "warnings.filterwarnings('ignore')\n",
    "\n",
    "import logging\n",
    "logging.basicConfig(level=logging.INFO)\n",
    "\n",
    "from emukit.model_wrappers import GPyModelWrapper\n",
    "from emukit.model_wrappers.gpy_quadrature_wrappers import BaseGaussianProcessGPy, RBFGPy\n",
    "\n",
    "from emukit.core import ParameterSpace, ContinuousParameter, DiscreteParameter\n",
    "from emukit.core.loop import UserFunctionWrapper\n",
    "\n",
    "from emukit.core import ParameterSpace, ContinuousParameter\n",
    "from emukit.core.initial_designs import RandomDesign\n",
    "\n",
    "from GPy.models import GPRegression\n",
    "\n",
    "from skopt.benchmarks import branin as _branin\n",
    "from emukit.test_functions import branin_function\n",
    "\n",
    "from scse.api.simulation import run_simulation\n",
    "\n",
    "from matplotlib.colors import LogNorm\n",
    "from matplotlib import pyplot as plt\n",
    "\n",
    "# Decision loops \n",
    "from emukit.experimental_design import ExperimentalDesignLoop\n",
    "from emukit.bayesian_optimization.loops import BayesianOptimizationLoop\n",
    "from emukit.quadrature.loop import VanillaBayesianQuadratureLoop\n",
    "\n",
    "# Acquisition functions \n",
    "from emukit.bayesian_optimization.acquisitions import ExpectedImprovement\n",
    "from emukit.experimental_design.acquisitions import ModelVariance\n",
    "# from emukit.quadrature.acquisitions import IntegralVarianceReduction\n",
    "from emukit.experimental_design.acquisitions import IntegratedVarianceReduction\n",
    "\n",
    "# Acquistion optimizers\n",
    "from emukit.core.optimization import GradientAcquisitionOptimizer\n",
    "\n",
    "# Stopping conditions\n",
    "from emukit.core.loop import FixedIterationsStoppingCondition\n",
    "from emukit.core.loop import ConvergenceStoppingCondition\n",
    "\n",
    "from emukit.bayesian_optimization.acquisitions.log_acquisition import LogAcquisition\n",
    "\n",
    "# Constraints\n",
    "from emukit.core.constraints import LinearInequalityConstraint"
   ]
  },
  {
   "cell_type": "code",
   "execution_count": 3,
   "id": "7aa21bae",
   "metadata": {},
   "outputs": [],
   "source": [
    "# Libraries for multiprocessing\n",
    "from multiprocess.pool import Pool\n",
    "from tqdm.auto import tqdm"
   ]
  },
  {
   "cell_type": "code",
   "execution_count": 4,
   "id": "df8fa65a",
   "metadata": {},
   "outputs": [],
   "source": [
    "from loop import *"
   ]
  },
  {
   "cell_type": "markdown",
   "id": "fc390238",
   "metadata": {},
   "source": [
    "## Experimental Setup"
   ]
  },
  {
   "cell_type": "code",
   "execution_count": 5,
   "id": "602eec18-b473-4671-b8ed-9ac8f3afdc98",
   "metadata": {},
   "outputs": [],
   "source": [
    "surge_modulator = 1.0\n",
    "all_scenarios = {\"Baseline (20 % Discount)\": {\"discharge_discount\": 0.8,\n",
    "                             \"charging_discount\": 1.05,\n",
    "                             \"surge_modulator\": surge_modulator},\n",
    "                \"25 % Discount,\": {\"discharge_discount\": 0.75,\n",
    "                             \"charging_discount\": 1.05,\n",
    "                             \"surge_modulator\": surge_modulator},\n",
    "                \"33 % Discount\": {\"discharge_discount\": 0.67,\n",
    "                             \"charging_discount\": 1.05,\n",
    "                             \"surge_modulator\": surge_modulator},\n",
    "                \"33 % Discount +\": {\"discharge_discount\": 0.67,\n",
    "                             \"charging_discount\": 1.0,\n",
    "                             \"surge_modulator\": surge_modulator},\n",
    "                \"50 % Discount\": {\"discharge_discount\": 0.5,\n",
    "                             \"charging_discount\": 1.05,\n",
    "                             \"surge_modulator\": surge_modulator}}\n",
    "\n",
    "scenario = \"Baseline (20 % Discount)\"\n",
    "# scenario = \"33 % Discount\""
   ]
  },
  {
   "cell_type": "code",
   "execution_count": 6,
   "id": "c100bb10",
   "metadata": {},
   "outputs": [],
   "source": [
    "timesteps_per_day = 48\n",
    "num_days = 30\n",
    "time_horizon_value = timesteps_per_day*num_days\n",
    "\n",
    "def invoke_miniscot(x):\n",
    "    \"\"\"\n",
    "    Handling single API call to miniSCOT simulation given some inputs\n",
    "\n",
    "    x contains parameter configs x = [x0 x1 ...]\n",
    "    - The order of parameters in x should follow the order specified in the parameter_space declaration\n",
    "    - E.g. here we specify num_batteries = x[0]\n",
    "    \"\"\"\n",
    "\n",
    "    kwargs = {\n",
    "        'time_horizon': time_horizon_value,\n",
    "        'num_batteries': int(x[0])\n",
    "    }\n",
    "    \n",
    "    kwargs.update(all_scenarios[scenario])\n",
    "    \n",
    "    \n",
    "#     kwargs[\"surge_modulator\"] = 1.5\n",
    "#     kwargs[\"solar_surge_modulator\"] = 0.5\n",
    "#     kwargs[\"surge_scenario\"] = \"wind+solar\"\n",
    "\n",
    "    kwargs[\"surge_modulator\"] = 3.0\n",
    "    kwargs[\"solar_surge_modulator\"] = 1.0\n",
    "    kwargs[\"surge_scenario\"] = \"wind\"\n",
    "\n",
    "    cum_reward = run_simulation(**kwargs)\n",
    "    \n",
    "    return cum_reward[-1]"
   ]
  },
  {
   "cell_type": "code",
   "execution_count": 7,
   "id": "9d65f8ce",
   "metadata": {},
   "outputs": [],
   "source": [
    "def f(X):\n",
    "    \"\"\"\n",
    "    Handling multiple API calls to miniSCOT simulation given some inputs\n",
    "\n",
    "    X is a matrix of parameters\n",
    "    - Each row is a set of parameters\n",
    "    - The order of parameters in the row should follow the order specified in the parameter_space declaration\n",
    "    \"\"\"\n",
    "    Y = []\n",
    "    for x in X:\n",
    "        cum_reward = invoke_miniscot(x)\n",
    "\n",
    "        # Note that we negate the reward; want to find min\n",
    "        Y.append(-cum_reward[-1])\n",
    "\n",
    "    Y = np.reshape(np.array(Y), (-1, 1))\n",
    "    return Y"
   ]
  },
  {
   "cell_type": "code",
   "execution_count": 8,
   "id": "6872c6ab",
   "metadata": {},
   "outputs": [],
   "source": [
    "def f_multiprocess(X):\n",
    "    \"\"\"\n",
    "    Handling multiple API calls to miniSCOT simulation given some inputs using multiprocessing.\n",
    "\n",
    "    X is a matrix of parameters\n",
    "    - Each row is a set of parameters\n",
    "    - The order of parameters in the row should follow the order specified in the parameter_space declaration\n",
    "    \"\"\"\n",
    "    \n",
    "    # Set to None to use all available CPU\n",
    "    max_pool = 5\n",
    "    with Pool(max_pool) as p:\n",
    "        Y = list(\n",
    "            tqdm(\n",
    "                p.imap(invoke_miniscot, X),\n",
    "                total=X.shape[0]\n",
    "            )\n",
    "        )\n",
    "\n",
    "    # Note that we negate the reward; want to find min\n",
    "    Y = -np.reshape(np.array(Y), (-1, 1))\n",
    "    return Y"
   ]
  },
  {
   "cell_type": "code",
   "execution_count": 9,
   "id": "05765963",
   "metadata": {},
   "outputs": [],
   "source": [
    "# Basic plotting function\n",
    "\n",
    "def plot_reward(X, Y, labels):\n",
    "    \"\"\"\n",
    "    Plots reward against a maximum of two dimensions.\n",
    "    \"\"\"\n",
    "\n",
    "    plt.style.use('seaborn')\n",
    "    fig = plt.figure(figsize=(12, 12))\n",
    "\n",
    "    order = np.argsort(X[:,0])\n",
    "    \n",
    "    if X.shape[1] == 1:\n",
    "        ax = plt.axes()\n",
    "        ax.plot(X[order,0], Y[order])\n",
    "        ax.set_xlabel(labels[0])\n",
    "        ax.set_ylabel(\"Cumulative reward\")\n",
    "    elif X.shape[1] == 2:\n",
    "        ax = plt.axes(projection='3d')\n",
    "        im = ax.plot_trisurf(X[order,0].flatten(), X[order,1].flatten(), Y[order].flatten(), cmap=cm.get_cmap('autumn'))\n",
    "        fig.colorbar(im)\n",
    "        ax.view_init(90, 90)\n",
    "        ax.set_xlabel(labels[0])\n",
    "        ax.set_ylabel(labels[1])\n",
    "        ax.set_zlabel(\"Cumulative reward\")  # (£/MWh)\n",
    "    else:\n",
    "        raise ValueError('X has too many dimensions to plot - max 2 allowed')\n",
    "\n",
    "    return fig, ax"
   ]
  },
  {
   "cell_type": "markdown",
   "id": "430bcc58-7771-4fe0-8ff5-be0427c10044",
   "metadata": {},
   "source": [
    "## Run Experiments"
   ]
  },
  {
   "cell_type": "code",
   "execution_count": 10,
   "id": "93da35f3-0567-4529-8715-11624f8efc25",
   "metadata": {},
   "outputs": [],
   "source": [
    "from scse.default_run_parameters.national_grid_default_run_parameters import DEFAULT_RUN_PARAMETERS"
   ]
  },
  {
   "cell_type": "code",
   "execution_count": 11,
   "id": "f64ed293-3f43-4dfe-9f9a-380613f2e139",
   "metadata": {},
   "outputs": [],
   "source": [
    "max_num_batteries = 1000\n",
    "\n",
    "# units in £/\n",
    "min_battery_penalty = DEFAULT_RUN_PARAMETERS.battery_penalty - 100000\n",
    "max_battery_penalty = DEFAULT_RUN_PARAMETERS.battery_penalty + 200000\n",
    "\n",
    "min_battery_capacity = 1\n",
    "max_battery_capacity = 80\n",
    "\n",
    "num_data_points = 10\n",
    "\n",
    "# timesteps_per_day = 48\n",
    "# num_days = 30\n",
    "# time_horizon_value = timesteps_per_day*time_horizon_value\n",
    "\n",
    "# min_time_horizon_value = timesteps_per_week * 1\n",
    "# max_time_horizon_value = timesteps_per_week * 2\n",
    "\n",
    "num_batteries = DiscreteParameter('num_batteries', range(0, max_num_batteries+1))\n",
    "# max_battery_capacities = DiscreteParameter('max_battery_capacity', range(min_battery_capacity, max_battery_capacity+1))\n",
    "# battery_penalty = DiscreteParameter(\n",
    "#     'battery_penalty', range(min_battery_penalty, max_battery_penalty+1))\n",
    "\n",
    "parameters = [num_batteries]\n",
    "parameter_space = ParameterSpace(parameters)"
   ]
  },
  {
   "cell_type": "code",
   "execution_count": 12,
   "id": "c2f4484f-d443-4561-94b5-4cbfe67f83b8",
   "metadata": {},
   "outputs": [
    {
     "data": {
      "text/plain": [
       "array([[742],\n",
       "       [352],\n",
       "       [263],\n",
       "       [435],\n",
       "       [378],\n",
       "       [496],\n",
       "       [242],\n",
       "       [359],\n",
       "       [837],\n",
       "       [265]])"
      ]
     },
     "execution_count": 12,
     "metadata": {},
     "output_type": "execute_result"
    }
   ],
   "source": [
    "# Get and check the parameters of the intial values (X)\n",
    "\n",
    "design = RandomDesign(parameter_space)\n",
    "X = design.get_samples(num_data_points)\n",
    "X"
   ]
  },
  {
   "cell_type": "markdown",
   "id": "d06c533d-cc53-48c0-9ac5-b7d7c7defea9",
   "metadata": {},
   "source": [
    "### Get initial data points"
   ]
  },
  {
   "cell_type": "code",
   "execution_count": 13,
   "id": "044689ef-0ea9-43f9-8d34-44a6f634254a",
   "metadata": {},
   "outputs": [
    {
     "data": {
      "application/vnd.jupyter.widget-view+json": {
       "model_id": "cb10401faa5449779bca2e191846e94c",
       "version_major": 2,
       "version_minor": 0
      },
      "text/plain": [
       "  0%|          | 0/10 [00:00<?, ?it/s]"
      ]
     },
     "metadata": {},
     "output_type": "display_data"
    },
    {
     "name": "stdout",
     "output_type": "stream",
     "text": [
      "Getting 10 initial simulation points took 365.0 seconds\n"
     ]
    }
   ],
   "source": [
    "design = RandomDesign(parameter_space)\n",
    "\n",
    "start = time.time()\n",
    "Y = f_multiprocess(X)\n",
    "end = time.time()\n",
    "print(\"Getting {} initial simulation points took {} seconds\".format(\n",
    "    num_data_points, round(end - start, 0)))"
   ]
  },
  {
   "cell_type": "markdown",
   "id": "388ee3a3-3f0e-40f0-8faf-9f3aaccba3be",
   "metadata": {},
   "source": [
    "### Check the cum. reward from the initial points to ensure we are seeing reasonable behaviour before fitting"
   ]
  },
  {
   "cell_type": "code",
   "execution_count": 14,
   "id": "ee292580-f071-4b6d-a193-9b70cba36566",
   "metadata": {},
   "outputs": [
    {
     "data": {
      "text/plain": [
       "(<Figure size 864x864 with 1 Axes>,\n",
       " <AxesSubplot:xlabel='num_batteries', ylabel='Cumulative reward'>)"
      ]
     },
     "execution_count": 14,
     "metadata": {},
     "output_type": "execute_result"
    },
    {
     "data": {
      "image/png": "[encoded data removed]",
      "text/plain": [
       "<Figure size 864x864 with 1 Axes>"
      ]
     },
     "metadata": {},
     "output_type": "display_data"
    }
   ],
   "source": [
    "plot_reward(X, Y, parameter_space.parameter_names)"
   ]
  },
  {
   "cell_type": "markdown",
   "id": "f8551c72-0de3-427b-998b-e3c154416117",
   "metadata": {},
   "source": [
    "### Run BO"
   ]
  },
  {
   "cell_type": "code",
   "execution_count": null,
   "id": "293a3ab9-c243-48ac-bec6-7fb27a55168c",
   "metadata": {},
   "outputs": [
    {
     "name": "stderr",
     "output_type": "stream",
     "text": [
      "INFO:GP:initializing Y\n",
      "INFO:GP:initializing inference method\n",
      "INFO:GP:adding kernel and likelihood as parameters\n",
      "INFO:emukit.bayesian_optimization.loops.bayesian_optimization_loop:Batch size is 3, using LocalPenalizationPointCalculator\n",
      "INFO:emukit.core.loop.outer_loop:Starting outer loop\n",
      "INFO:emukit.core.loop.outer_loop:Iteration 0\n",
      "INFO:emukit.core.loop.model_updaters:Updating parameters of the model\n"
     ]
    },
    {
     "name": "stdout",
     "output_type": "stream",
     "text": [
      "CURRENT ATTEMPT #0\n",
      "okay to optimize\n"
     ]
    },
    {
     "name": "stderr",
     "output_type": "stream",
     "text": [
      "INFO:emukit.core.optimization.gradient_acquisition_optimizer:Starting gradient-based optimization of acquisition function <class 'emukit.core.acquisition.acquisition.Sum'>\n",
      "INFO:emukit.core.optimization.gradient_acquisition_optimizer:Starting gradient-based optimization of acquisition function <class 'emukit.core.acquisition.acquisition.Sum'>\n",
      "INFO:emukit.core.optimization.gradient_acquisition_optimizer:Starting gradient-based optimization of acquisition function <class 'emukit.core.acquisition.acquisition.Sum'>\n",
      "INFO:emukit.core.loop.user_function:Evaluating user function for 3 point(s)\n"
     ]
    },
    {
     "data": {
      "application/vnd.jupyter.widget-view+json": {
       "model_id": "a2fe322f531c47d3b103ebace164188f",
       "version_major": 2,
       "version_minor": 0
      },
      "text/plain": [
       "  0%|          | 0/3 [00:00<?, ?it/s]"
      ]
     },
     "metadata": {},
     "output_type": "display_data"
    },
    {
     "name": "stderr",
     "output_type": "stream",
     "text": [
      "INFO:emukit.core.loop.outer_loop:Iteration 1\n",
      "INFO:emukit.core.loop.model_updaters:Updating parameters of the model\n",
      "INFO:emukit.core.optimization.gradient_acquisition_optimizer:Starting gradient-based optimization of acquisition function <class 'emukit.core.acquisition.acquisition.Sum'>\n",
      "INFO:emukit.core.optimization.gradient_acquisition_optimizer:Starting gradient-based optimization of acquisition function <class 'emukit.core.acquisition.acquisition.Sum'>\n",
      "INFO:emukit.core.optimization.gradient_acquisition_optimizer:Starting gradient-based optimization of acquisition function <class 'emukit.core.acquisition.acquisition.Sum'>\n",
      "INFO:emukit.core.loop.user_function:Evaluating user function for 3 point(s)\n"
     ]
    },
    {
     "data": {
      "application/vnd.jupyter.widget-view+json": {
       "model_id": "4b55b045e4cf4ed08e395ca903bd5a0f",
       "version_major": 2,
       "version_minor": 0
      },
      "text/plain": [
       "  0%|          | 0/3 [00:00<?, ?it/s]"
      ]
     },
     "metadata": {},
     "output_type": "display_data"
    },
    {
     "name": "stderr",
     "output_type": "stream",
     "text": [
      "INFO:emukit.core.loop.outer_loop:Iteration 2\n",
      "INFO:emukit.core.loop.model_updaters:Updating parameters of the model\n",
      "INFO:emukit.core.optimization.gradient_acquisition_optimizer:Starting gradient-based optimization of acquisition function <class 'emukit.core.acquisition.acquisition.Sum'>\n",
      "INFO:emukit.core.optimization.gradient_acquisition_optimizer:Starting gradient-based optimization of acquisition function <class 'emukit.core.acquisition.acquisition.Sum'>\n",
      "INFO:emukit.core.optimization.gradient_acquisition_optimizer:Starting gradient-based optimization of acquisition function <class 'emukit.core.acquisition.acquisition.Sum'>\n",
      "INFO:emukit.core.loop.user_function:Evaluating user function for 3 point(s)\n"
     ]
    },
    {
     "data": {
      "application/vnd.jupyter.widget-view+json": {
       "model_id": "1fd9307e7c9943d092433ca815ae527c",
       "version_major": 2,
       "version_minor": 0
      },
      "text/plain": [
       "  0%|          | 0/3 [00:00<?, ?it/s]"
      ]
     },
     "metadata": {},
     "output_type": "display_data"
    },
    {
     "name": "stderr",
     "output_type": "stream",
     "text": [
      "INFO:emukit.core.loop.outer_loop:Iteration 3\n",
      "INFO:emukit.core.loop.model_updaters:Updating parameters of the model\n",
      "INFO:emukit.core.optimization.gradient_acquisition_optimizer:Starting gradient-based optimization of acquisition function <class 'emukit.core.acquisition.acquisition.Sum'>\n",
      "INFO:emukit.core.optimization.gradient_acquisition_optimizer:Starting gradient-based optimization of acquisition function <class 'emukit.core.acquisition.acquisition.Sum'>\n",
      "INFO:emukit.core.optimization.gradient_acquisition_optimizer:Starting gradient-based optimization of acquisition function <class 'emukit.core.acquisition.acquisition.Sum'>\n",
      "INFO:emukit.core.loop.user_function:Evaluating user function for 3 point(s)\n"
     ]
    },
    {
     "data": {
      "application/vnd.jupyter.widget-view+json": {
       "model_id": "1949496c8c9f4821af303c630cce4788",
       "version_major": 2,
       "version_minor": 0
      },
      "text/plain": [
       "  0%|          | 0/3 [00:00<?, ?it/s]"
      ]
     },
     "metadata": {},
     "output_type": "display_data"
    },
    {
     "name": "stderr",
     "output_type": "stream",
     "text": [
      "INFO:emukit.core.loop.outer_loop:Iteration 4\n",
      "INFO:emukit.core.loop.model_updaters:Updating parameters of the model\n",
      "INFO:emukit.core.optimization.gradient_acquisition_optimizer:Starting gradient-based optimization of acquisition function <class 'emukit.core.acquisition.acquisition.Sum'>\n",
      "INFO:emukit.core.optimization.gradient_acquisition_optimizer:Starting gradient-based optimization of acquisition function <class 'emukit.core.acquisition.acquisition.Sum'>\n",
      "INFO:emukit.core.optimization.gradient_acquisition_optimizer:Starting gradient-based optimization of acquisition function <class 'emukit.core.acquisition.acquisition.Sum'>\n",
      "INFO:emukit.core.loop.user_function:Evaluating user function for 3 point(s)\n"
     ]
    },
    {
     "data": {
      "application/vnd.jupyter.widget-view+json": {
       "model_id": "de51edab3c7e4f61bf77109bbd7fa5c6",
       "version_major": 2,
       "version_minor": 0
      },
      "text/plain": [
       "  0%|          | 0/3 [00:00<?, ?it/s]"
      ]
     },
     "metadata": {},
     "output_type": "display_data"
    },
    {
     "name": "stderr",
     "output_type": "stream",
     "text": [
      "INFO:emukit.core.loop.outer_loop:Iteration 5\n",
      "INFO:emukit.core.loop.model_updaters:Updating parameters of the model\n",
      "INFO:emukit.core.optimization.gradient_acquisition_optimizer:Starting gradient-based optimization of acquisition function <class 'emukit.core.acquisition.acquisition.Sum'>\n",
      "INFO:emukit.core.optimization.gradient_acquisition_optimizer:Starting gradient-based optimization of acquisition function <class 'emukit.core.acquisition.acquisition.Sum'>\n",
      "INFO:emukit.core.optimization.gradient_acquisition_optimizer:Starting gradient-based optimization of acquisition function <class 'emukit.core.acquisition.acquisition.Sum'>\n",
      "INFO:emukit.core.loop.user_function:Evaluating user function for 3 point(s)\n"
     ]
    },
    {
     "data": {
      "application/vnd.jupyter.widget-view+json": {
       "model_id": "d1eb52ba5c8b40bc9d724eb451c154ac",
       "version_major": 2,
       "version_minor": 0
      },
      "text/plain": [
       "  0%|          | 0/3 [00:00<?, ?it/s]"
      ]
     },
     "metadata": {},
     "output_type": "display_data"
    }
   ],
   "source": [
    "successful_sample = False\n",
    "num_tries = 0\n",
    "max_num_tries = 3\n",
    "\n",
    "use_default= False\n",
    "use_ard=False\n",
    "\n",
    "while not successful_sample and num_tries < max_num_tries: \n",
    "    \n",
    "    print(f\"CURRENT ATTEMPT #{num_tries}\")\n",
    "    \n",
    "    # emulator model\n",
    "\n",
    "    if use_default: \n",
    "        gpy_model = GPRegression(X, Y)\n",
    "    else: \n",
    "        kernel = GPy.kern.RBF(1, lengthscale=1e1, variance=1e4, ARD=use_ard)\n",
    "        gpy_model = GPy.models.GPRegression(X, Y, kernel, noise_var=1e-10)\n",
    "    \n",
    "    try: \n",
    "        gpy_model.optimize()\n",
    "        print(\"okay to optimize\")\n",
    "        model_emukit = GPyModelWrapper(gpy_model)\n",
    "\n",
    "        # Load core elements for Bayesian optimization\n",
    "        expected_improvement = ExpectedImprovement(model=model_emukit)\n",
    "        optimizer = GradientAcquisitionOptimizer(space=parameter_space)\n",
    "\n",
    "        # Create the Bayesian optimization object\n",
    "        batch_size = 3\n",
    "        bayesopt_loop = BayesianOptimizationLoop(model=model_emukit,\n",
    "                                                 space=parameter_space,\n",
    "                                                 acquisition=expected_improvement,\n",
    "                                                 batch_size=batch_size)\n",
    "\n",
    "        # Run the loop and extract the optimum;  we either complete 10 steps or converge\n",
    "        max_iters = 10\n",
    "        stopping_condition = (\n",
    "            FixedIterationsStoppingCondition(i_max=max_iters) | ConvergenceStoppingCondition(eps=0.01)\n",
    "        )\n",
    "\n",
    "        bayesopt_loop.run_loop(f_multiprocess, stopping_condition)\n",
    "        print(\"successfully ran loop\")\n",
    "        successful_sample = True\n",
    "        \n",
    "    except: \n",
    "        num_tries += 1 \n"
   ]
  },
  {
   "cell_type": "markdown",
   "id": "cca4d7f9-49fc-4145-b53b-a4fce95ab229",
   "metadata": {},
   "source": [
    "### Get new points from BO"
   ]
  },
  {
   "cell_type": "code",
   "execution_count": null,
   "id": "2bb39b01-d87a-4345-8be5-a96de96ccdd5",
   "metadata": {},
   "outputs": [],
   "source": [
    "new_X, new_Y = bayesopt_loop.loop_state.X, bayesopt_loop.loop_state.Y\n",
    "\n",
    "new_order = np.argsort(new_X[:,0])\n",
    "new_X = new_X[new_order,:]\n",
    "new_Y = new_Y[new_order]"
   ]
  },
  {
   "cell_type": "markdown",
   "id": "804fef09-69be-4cf2-9783-cadb29260a6c",
   "metadata": {},
   "source": [
    "### Plot results from BO with the GP fit"
   ]
  },
  {
   "cell_type": "code",
   "execution_count": null,
   "id": "72dfa5f7-4e41-42bd-b602-9432619a9761",
   "metadata": {},
   "outputs": [],
   "source": [
    "x_plot = np.reshape(np.array([i for i in range(0, max_num_batteries)]), (-1,1))\n",
    "mu_plot, var_plot = model_emukit.predict(x_plot)\n",
    "\n",
    "plt.figure(figsize=(12, 8))\n",
    "#plt.figure(figsize=(7, 5))\n",
    "LEGEND_SIZE = 15\n",
    "plt.plot(new_X, new_Y, \"ro\", markersize=10, label=\"All observations\")\n",
    "plt.plot(X, Y, \"bo\", markersize=10, label=\"Initial observations\")\n",
    "# plt.plot(x_plot, y_plot, \"k\", label=\"Objective Function\")\n",
    "plt.plot(x_plot, mu_plot, \"C0\", label=\"Model\")\n",
    "plt.fill_between(x_plot[:, 0],\n",
    "                 mu_plot[:, 0] + np.sqrt(var_plot)[:, 0],\n",
    "                 mu_plot[:, 0] - np.sqrt(var_plot)[:, 0], color=\"C0\", alpha=0.6)\n",
    "plt.fill_between(x_plot[:, 0],\n",
    "                 mu_plot[:, 0] + 2 * np.sqrt(var_plot)[:, 0],\n",
    "                 mu_plot[:, 0] - 2 * np.sqrt(var_plot)[:, 0], color=\"C0\", alpha=0.4)\n",
    "plt.fill_between(x_plot[:, 0],\n",
    "                 mu_plot[:, 0] + 3 * np.sqrt(var_plot)[:, 0],\n",
    "                 mu_plot[:, 0] - 3 * np.sqrt(var_plot)[:, 0], color=\"C0\", alpha=0.2)\n",
    "\n",
    "plt.legend(prop={'size': 14})\n",
    "plt.xlabel(\"Number of Batteries\", fontsize=14)\n",
    "plt.ylabel(\"Cumulative Reward (£)\", fontsize=14)\n",
    "plt.grid(True)\n",
    "plt.yticks(fontsize=13)\n",
    "plt.xticks(fontsize=13)\n",
    "# plt.show()\n",
    "plt.savefig(\"surge.png\")"
   ]
  },
  {
   "cell_type": "code",
   "execution_count": null,
   "id": "a006d51f-ce97-4cec-ae4c-5900b93fd2f1",
   "metadata": {},
   "outputs": [],
   "source": [
    "results = bayesopt_loop.get_results()\n",
    "results.minimum_location, results.minimum_value # , results.best_found_value_per_iteration"
   ]
  },
  {
   "cell_type": "code",
   "execution_count": null,
   "id": "0f4ef5e0",
   "metadata": {},
   "outputs": [],
   "source": [
    "336/ 7"
   ]
  },
  {
   "cell_type": "code",
   "execution_count": null,
   "id": "3717385b",
   "metadata": {},
   "outputs": [],
   "source": []
  },
  {
   "cell_type": "code",
   "execution_count": null,
   "id": "609305c3",
   "metadata": {},
   "outputs": [],
   "source": []
  }
 ],
 "metadata": {
  "kernelspec": {
   "display_name": "Python 3",
   "language": "python",
   "name": "python3"
  },
  "language_info": {
   "codemirror_mode": {
    "name": "ipython",
    "version": 3
   },
   "file_extension": ".py",
   "mimetype": "text/x-python",
   "name": "python",
   "nbconvert_exporter": "python",
   "pygments_lexer": "ipython3",
   "version": "3.8.8"
  }
 },
 "nbformat": 4,
 "nbformat_minor": 5
}
